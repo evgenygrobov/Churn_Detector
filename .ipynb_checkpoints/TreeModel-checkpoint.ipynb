{
 "cells": [
  {
   "cell_type": "code",
   "execution_count": 1,
   "metadata": {},
   "outputs": [],
   "source": [
    "import pandas as pd\n",
    "import numpy as np\n",
    "\n",
    "import seaborn as sns\n",
    "sns.set(style=\"white\")\n",
    "import matplotlib.pyplot as plt\n",
    "import matplotlib as mpl\n",
    "\n",
    "import sklearn\n",
    "from sklearn.preprocessing import StandardScaler, normalize\n",
    "from sklearn.model_selection import train_test_split, KFold, RepeatedStratifiedKFold, cross_val_score\n",
    "from sklearn.metrics import(accuracy_score, roc_auc_score, f1_score, plot_confusion_matrix,\n",
    "                            recall_score, confusion_matrix, precision_score, classification_report)\n",
    "\n",
    "from sklearn.linear_model import LogisticRegression  \n",
    "from sklearn.neighbors import KNeighborsClassifier\n",
    "from sklearn.tree import DecisionTreeClassifier \n",
    "\n",
    "from sklearn.model_selection import RandomizedSearchCV\n",
    "from sklearn.ensemble import RandomForestClassifier,AdaBoostClassifier,GradientBoostingClassifier\n",
    "\n",
    "from sklearn import preprocessing\n",
    "from IPython.display import display, HTML\n",
    "\n",
    "#global variable\n",
    "random_state=42\n",
    "\n",
    "%matplotlib inline"
   ]
  },
  {
   "cell_type": "code",
   "execution_count": 2,
   "metadata": {
    "scrolled": true
   },
   "outputs": [
    {
     "data": {
      "text/html": [
       "<div>\n",
       "<style scoped>\n",
       "    .dataframe tbody tr th:only-of-type {\n",
       "        vertical-align: middle;\n",
       "    }\n",
       "\n",
       "    .dataframe tbody tr th {\n",
       "        vertical-align: top;\n",
       "    }\n",
       "\n",
       "    .dataframe thead th {\n",
       "        text-align: right;\n",
       "    }\n",
       "</style>\n",
       "<table border=\"1\" class=\"dataframe\">\n",
       "  <thead>\n",
       "    <tr style=\"text-align: right;\">\n",
       "      <th></th>\n",
       "      <th>CreditScore</th>\n",
       "      <th>Gender</th>\n",
       "      <th>Age</th>\n",
       "      <th>Tenure</th>\n",
       "      <th>Balance</th>\n",
       "      <th>NumOfProducts</th>\n",
       "      <th>HasCrCard</th>\n",
       "      <th>IsActiveMember</th>\n",
       "      <th>EstimatedSalary</th>\n",
       "      <th>Exited</th>\n",
       "    </tr>\n",
       "  </thead>\n",
       "  <tbody>\n",
       "    <tr>\n",
       "      <th>0</th>\n",
       "      <td>619</td>\n",
       "      <td>Female</td>\n",
       "      <td>42</td>\n",
       "      <td>2</td>\n",
       "      <td>0.00</td>\n",
       "      <td>1</td>\n",
       "      <td>1</td>\n",
       "      <td>1</td>\n",
       "      <td>101348.88</td>\n",
       "      <td>1</td>\n",
       "    </tr>\n",
       "    <tr>\n",
       "      <th>1</th>\n",
       "      <td>608</td>\n",
       "      <td>Female</td>\n",
       "      <td>41</td>\n",
       "      <td>1</td>\n",
       "      <td>83807.86</td>\n",
       "      <td>1</td>\n",
       "      <td>0</td>\n",
       "      <td>1</td>\n",
       "      <td>112542.58</td>\n",
       "      <td>0</td>\n",
       "    </tr>\n",
       "    <tr>\n",
       "      <th>2</th>\n",
       "      <td>502</td>\n",
       "      <td>Female</td>\n",
       "      <td>42</td>\n",
       "      <td>8</td>\n",
       "      <td>159660.80</td>\n",
       "      <td>3</td>\n",
       "      <td>1</td>\n",
       "      <td>0</td>\n",
       "      <td>113931.57</td>\n",
       "      <td>1</td>\n",
       "    </tr>\n",
       "  </tbody>\n",
       "</table>\n",
       "</div>"
      ],
      "text/plain": [
       "   CreditScore  Gender  Age  Tenure    Balance  NumOfProducts  HasCrCard  \\\n",
       "0          619  Female   42       2       0.00              1          1   \n",
       "1          608  Female   41       1   83807.86              1          0   \n",
       "2          502  Female   42       8  159660.80              3          1   \n",
       "\n",
       "   IsActiveMember  EstimatedSalary  Exited  \n",
       "0               1        101348.88       1  \n",
       "1               1        112542.58       0  \n",
       "2               0        113931.57       1  "
      ]
     },
     "execution_count": 2,
     "metadata": {},
     "output_type": "execute_result"
    }
   ],
   "source": [
    "df=pd.read_csv('./data/churn.csv').drop(columns=['RowNumber','Surname', 'CustomerId', 'Geography'], axis=1)\n",
    "df.head(3)"
   ]
  },
  {
   "cell_type": "code",
   "execution_count": 3,
   "metadata": {},
   "outputs": [],
   "source": [
    "df['Gender']=df['Gender'].apply(lambda x: 0 if x=='Female' else 1)"
   ]
  },
  {
   "cell_type": "code",
   "execution_count": 4,
   "metadata": {},
   "outputs": [],
   "source": [
    "y = df[\"Exited\"]\n",
    "X = df.drop([\"Exited\"], axis = 1)"
   ]
  },
  {
   "cell_type": "code",
   "execution_count": 5,
   "metadata": {},
   "outputs": [
    {
     "data": {
      "text/plain": [
       "((10000,), (10000, 9))"
      ]
     },
     "execution_count": 5,
     "metadata": {},
     "output_type": "execute_result"
    }
   ],
   "source": [
    "y.shape, X.shape"
   ]
  },
  {
   "cell_type": "code",
   "execution_count": 6,
   "metadata": {
    "scrolled": true
   },
   "outputs": [
    {
     "data": {
      "image/png": "[encoded data removed]",
      "text/plain": [
       "<Figure size 432x288 with 1 Axes>"
      ]
     },
     "metadata": {
      "needs_background": "light"
     },
     "output_type": "display_data"
    }
   ],
   "source": [
    "df.Exited.value_counts().plot(kind='bar');"
   ]
  },
  {
   "cell_type": "markdown",
   "metadata": {},
   "source": [
    "unbalanced datasets relates to the metrics used to evaluate their model. Using simpler metrics like accuracy score can be misleading. In a dataset with unbalanced classes, the classifier will always “predicts” the most common class without performing any analysis of the features and it will have a high accuracy rate, obviously not the correct one."
   ]
  },
  {
   "cell_type": "code",
   "execution_count": 7,
   "metadata": {},
   "outputs": [
    {
     "data": {
      "text/plain": [
       "CreditScore        0\n",
       "Gender             0\n",
       "Age                0\n",
       "Tenure             0\n",
       "Balance            0\n",
       "NumOfProducts      0\n",
       "HasCrCard          0\n",
       "IsActiveMember     0\n",
       "EstimatedSalary    0\n",
       "dtype: int64"
      ]
     },
     "execution_count": 7,
     "metadata": {},
     "output_type": "execute_result"
    }
   ],
   "source": [
    "X.isnull().sum()"
   ]
  },
  {
   "cell_type": "markdown",
   "metadata": {},
   "source": [
    "## Data splitting"
   ]
  },
  {
   "cell_type": "code",
   "execution_count": 8,
   "metadata": {},
   "outputs": [],
   "source": [
    "X_train, X_test, y_train, y_test=train_test_split(X,y, test_size=0.2, random_state=random_state)"
   ]
  },
  {
   "cell_type": "markdown",
   "metadata": {},
   "source": [
    "It is important to train the models on a different subset\n",
    "of the training data than the linear regression model to avoid\n",
    "overfitting, in particular if the total number of leaves is\n",
    "similar to the number of training samples."
   ]
  },
  {
   "cell_type": "code",
   "execution_count": 9,
   "metadata": {},
   "outputs": [],
   "source": [
    "X_train_set, X_val, y_train_set, y_val=train_test_split(X_train, y_train, test_size=0.2, random_state=random_state)"
   ]
  },
  {
   "cell_type": "code",
   "execution_count": 10,
   "metadata": {},
   "outputs": [],
   "source": [
    "from sklearn.preprocessing import StandardScaler\n",
    "scaler = StandardScaler()\n",
    "scaler.fit(X_train)\n",
    "X_train_set=scaler.transform(X_train_set)#train set scaled"
   ]
  },
  {
   "cell_type": "code",
   "execution_count": 11,
   "metadata": {},
   "outputs": [],
   "source": [
    "X_val=scaler.transform(X_val)#validation set scaled"
   ]
  },
  {
   "cell_type": "code",
   "execution_count": 12,
   "metadata": {},
   "outputs": [],
   "source": [
    "X_test=scaler.transform(X_test)#original dataset scaled"
   ]
  },
  {
   "cell_type": "markdown",
   "metadata": {},
   "source": [
    "# Modeling \n",
    "\n",
    "\n",
    "- Logistic Classifier\n",
    "- GradientBoosting Classifier\n",
    "- Decision Tree Classifier\n",
    "- Random Forest Classifier\n",
    "- KNN Classifier"
   ]
  },
  {
   "cell_type": "markdown",
   "metadata": {},
   "source": [
    "Skewed datasets are not uncommon. And they are tough to handle. Usual classification models and techniques often fail miserably when presented with such a problem. Although your model could get you to even a 99% accuracy on such cases, yet, if you are measuring yourself against a sensible metric such as the ROC Auc score, then you will face trouble getting up that leaderboard. This is because if the dataset is skewed"
   ]
  },
  {
   "cell_type": "markdown",
   "metadata": {},
   "source": [
    "Although the algorithm performs well in general, even on imbalanced classification datasets, it offers a way to tune the training algorithm to pay more attention to misclassification of the minority class for datasets with a skewed class distribution.\n",
    "\n",
    "This modified version of XGBoost is referred to as Class Weighted XGBoost or Cost-Sensitive XGBoost and can offer better performance on binary classification problems with a severe class imbalance."
   ]
  },
  {
   "cell_type": "code",
   "execution_count": 13,
   "metadata": {},
   "outputs": [
    {
     "data": {
      "text/plain": [
       "(0    5083\n",
       " 1    1317\n",
       " Name: Exited, dtype: int64,\n",
       " 0    1273\n",
       " 1     327\n",
       " Name: Exited, dtype: int64,\n",
       " 0    1607\n",
       " 1     393\n",
       " Name: Exited, dtype: int64)"
      ]
     },
     "execution_count": 13,
     "metadata": {},
     "output_type": "execute_result"
    }
   ],
   "source": [
    "y_train_set.value_counts(), y_val.value_counts(), y_test.value_counts()"
   ]
  },
  {
   "cell_type": "code",
   "execution_count": 15,
   "metadata": {},
   "outputs": [
    {
     "name": "stdout",
     "output_type": "stream",
     "text": [
      "Estimate: 3.893\n"
     ]
    }
   ],
   "source": [
    "# count examples in each class\n",
    "from collections import Counter\n",
    "counter = Counter(y_val)\n",
    "# estimate scale_pos_weight value\n",
    "estimate = counter[0] / counter[1]\n",
    "print('Estimate: %.3f' % estimate)"
   ]
  },
  {
   "cell_type": "markdown",
   "metadata": {},
   "source": [
    "## Logistic Regression"
   ]
  },
  {
   "cell_type": "code",
   "execution_count": 16,
   "metadata": {},
   "outputs": [
    {
     "name": "stdout",
     "output_type": "stream",
     "text": [
      "Mean ROC AUC: 0.74513 \n"
     ]
    }
   ],
   "source": [
    "#define model\n",
    "model = LogisticRegression()\n",
    "# define evaluation procedure\n",
    "cv = RepeatedStratifiedKFold(n_splits=10, n_repeats=3, random_state=1)\n",
    "# evaluate model\n",
    "scores = cross_val_score(model, X_train_set, y_train_set, scoring='roc_auc', cv=cv, n_jobs=-1)\n",
    "# summarize performance\n",
    "#print('Mean ROC AUC: %.5f' % mean(scores))\n",
    "print(\"Mean ROC AUC: %.5f \" % (scores.mean()))"
   ]
  },
  {
   "cell_type": "code",
   "execution_count": 17,
   "metadata": {},
   "outputs": [],
   "source": [
    "param_grid= {'max_iter':[20,50,100], 'C':[0.6, 0.8,1.0], 'class_weight':[{0:1,1:4},{0:1,1:5},{0:1,1:6}]}\n",
    "model =LogisticRegression(random_state=random_state)"
   ]
  },
  {
   "cell_type": "code",
   "execution_count": 18,
   "metadata": {
    "scrolled": true
   },
   "outputs": [
    {
     "name": "stdout",
     "output_type": "stream",
     "text": [
      "Best: 0.750167 using {'C': 0.8, 'class_weight': {0: 1, 1: 6}, 'max_iter': 20}\n",
      "0.749346 (0.023168) with: {'C': 0.6, 'class_weight': {0: 1, 1: 4}, 'max_iter': 20}\n",
      "0.749346 (0.023168) with: {'C': 0.6, 'class_weight': {0: 1, 1: 4}, 'max_iter': 50}\n",
      "0.749346 (0.023168) with: {'C': 0.6, 'class_weight': {0: 1, 1: 4}, 'max_iter': 100}\n",
      "0.749825 (0.022999) with: {'C': 0.6, 'class_weight': {0: 1, 1: 5}, 'max_iter': 20}\n",
      "0.749825 (0.022999) with: {'C': 0.6, 'class_weight': {0: 1, 1: 5}, 'max_iter': 50}\n",
      "0.749825 (0.022999) with: {'C': 0.6, 'class_weight': {0: 1, 1: 5}, 'max_iter': 100}\n",
      "0.750166 (0.022906) with: {'C': 0.6, 'class_weight': {0: 1, 1: 6}, 'max_iter': 20}\n",
      "0.750166 (0.022906) with: {'C': 0.6, 'class_weight': {0: 1, 1: 6}, 'max_iter': 50}\n",
      "0.750166 (0.022906) with: {'C': 0.6, 'class_weight': {0: 1, 1: 6}, 'max_iter': 100}\n",
      "0.749346 (0.023165) with: {'C': 0.8, 'class_weight': {0: 1, 1: 4}, 'max_iter': 20}\n",
      "0.749346 (0.023165) with: {'C': 0.8, 'class_weight': {0: 1, 1: 4}, 'max_iter': 50}\n",
      "0.749346 (0.023165) with: {'C': 0.8, 'class_weight': {0: 1, 1: 4}, 'max_iter': 100}\n",
      "0.749822 (0.023001) with: {'C': 0.8, 'class_weight': {0: 1, 1: 5}, 'max_iter': 20}\n",
      "0.749822 (0.023001) with: {'C': 0.8, 'class_weight': {0: 1, 1: 5}, 'max_iter': 50}\n",
      "0.749822 (0.023001) with: {'C': 0.8, 'class_weight': {0: 1, 1: 5}, 'max_iter': 100}\n",
      "0.750167 (0.022907) with: {'C': 0.8, 'class_weight': {0: 1, 1: 6}, 'max_iter': 20}\n",
      "0.750167 (0.022907) with: {'C': 0.8, 'class_weight': {0: 1, 1: 6}, 'max_iter': 50}\n",
      "0.750167 (0.022907) with: {'C': 0.8, 'class_weight': {0: 1, 1: 6}, 'max_iter': 100}\n",
      "0.749346 (0.023164) with: {'C': 1.0, 'class_weight': {0: 1, 1: 4}, 'max_iter': 20}\n",
      "0.749346 (0.023164) with: {'C': 1.0, 'class_weight': {0: 1, 1: 4}, 'max_iter': 50}\n",
      "0.749346 (0.023164) with: {'C': 1.0, 'class_weight': {0: 1, 1: 4}, 'max_iter': 100}\n",
      "0.749822 (0.023001) with: {'C': 1.0, 'class_weight': {0: 1, 1: 5}, 'max_iter': 20}\n",
      "0.749822 (0.023001) with: {'C': 1.0, 'class_weight': {0: 1, 1: 5}, 'max_iter': 50}\n",
      "0.749822 (0.023001) with: {'C': 1.0, 'class_weight': {0: 1, 1: 5}, 'max_iter': 100}\n",
      "0.750166 (0.022907) with: {'C': 1.0, 'class_weight': {0: 1, 1: 6}, 'max_iter': 20}\n",
      "0.750166 (0.022907) with: {'C': 1.0, 'class_weight': {0: 1, 1: 6}, 'max_iter': 50}\n",
      "0.750166 (0.022907) with: {'C': 1.0, 'class_weight': {0: 1, 1: 6}, 'max_iter': 100}\n"
     ]
    }
   ],
   "source": [
    "# define evaluation procedure\n",
    "from sklearn.model_selection import GridSearchCV\n",
    "cv = RepeatedStratifiedKFold(n_splits=10, n_repeats=3, random_state=1)\n",
    "# define grid search\n",
    "grid = GridSearchCV(estimator=model, param_grid=param_grid, n_jobs=-1, cv=cv, scoring='roc_auc')\n",
    "# execute the grid search\n",
    "grid_result = grid.fit(X_train_set, y_train_set)\n",
    "# report the best configuration\n",
    "print(\"Best: %f using %s\" % (grid_result.best_score_, grid_result.best_params_))\n",
    "# report all configurations\n",
    "means = grid_result.cv_results_['mean_test_score']\n",
    "stds = grid_result.cv_results_['std_test_score']\n",
    "params = grid_result.cv_results_['params']\n",
    "for mean, stdev, param in zip(means, stds, params):\n",
    "    print(\"%f (%f) with: %r\" % (mean, stdev, param))"
   ]
  },
  {
   "cell_type": "markdown",
   "metadata": {},
   "source": [
    "## RandomForestClassifier "
   ]
  },
  {
   "cell_type": "code",
   "execution_count": 19,
   "metadata": {},
   "outputs": [
    {
     "name": "stdout",
     "output_type": "stream",
     "text": [
      "Mean ROC AUC: 0.82885 \n"
     ]
    }
   ],
   "source": [
    "from sklearn.ensemble import RandomForestClassifier\n",
    "# define model\n",
    "model = RandomForestClassifier(random_state=random_state)\n",
    "# define evaluation procedure\n",
    "cv = RepeatedStratifiedKFold(n_splits=10, n_repeats=3, random_state=1)\n",
    "# evaluate model\n",
    "scores = cross_val_score(model, X_train_set, y_train_set, scoring='roc_auc', cv=cv, n_jobs=-1)\n",
    "# summarize performance\n",
    "#print('Mean ROC AUC: %.5f' % mean(scores))\n",
    "print(\"Mean ROC AUC: %.5f \" % (scores.mean()))"
   ]
  },
  {
   "cell_type": "markdown",
   "metadata": {},
   "source": [
    "## Tuning"
   ]
  },
  {
   "cell_type": "code",
   "execution_count": 20,
   "metadata": {},
   "outputs": [],
   "source": [
    "# define grid\n",
    "param_grid= {'n_estimators':[100,200,500, 1000], 'max_depth':[1,3,5],'max_samples':[0.8,0.9],'class_weight':[{0: 1, 1: 3},{0:1,1:4}]}\n",
    "model =RandomForestClassifier(random_state=random_state)"
   ]
  },
  {
   "cell_type": "code",
   "execution_count": 21,
   "metadata": {
    "scrolled": true
   },
   "outputs": [
    {
     "name": "stdout",
     "output_type": "stream",
     "text": [
      "Best: 0.842675 using {'class_weight': {0: 1, 1: 4}, 'max_depth': 5, 'max_samples': 0.8, 'n_estimators': 1000}\n",
      "0.785283 (0.018225) with: {'class_weight': {0: 1, 1: 3}, 'max_depth': 1, 'max_samples': 0.8, 'n_estimators': 100}\n",
      "0.787441 (0.018500) with: {'class_weight': {0: 1, 1: 3}, 'max_depth': 1, 'max_samples': 0.8, 'n_estimators': 200}\n",
      "0.792702 (0.019110) with: {'class_weight': {0: 1, 1: 3}, 'max_depth': 1, 'max_samples': 0.8, 'n_estimators': 500}\n",
      "0.794926 (0.019014) with: {'class_weight': {0: 1, 1: 3}, 'max_depth': 1, 'max_samples': 0.8, 'n_estimators': 1000}\n",
      "0.785582 (0.018935) with: {'class_weight': {0: 1, 1: 3}, 'max_depth': 1, 'max_samples': 0.9, 'n_estimators': 100}\n",
      "0.787282 (0.019269) with: {'class_weight': {0: 1, 1: 3}, 'max_depth': 1, 'max_samples': 0.9, 'n_estimators': 200}\n",
      "0.792612 (0.019280) with: {'class_weight': {0: 1, 1: 3}, 'max_depth': 1, 'max_samples': 0.9, 'n_estimators': 500}\n",
      "0.794626 (0.019219) with: {'class_weight': {0: 1, 1: 3}, 'max_depth': 1, 'max_samples': 0.9, 'n_estimators': 1000}\n",
      "0.823690 (0.016467) with: {'class_weight': {0: 1, 1: 3}, 'max_depth': 3, 'max_samples': 0.8, 'n_estimators': 100}\n",
      "0.826206 (0.016165) with: {'class_weight': {0: 1, 1: 3}, 'max_depth': 3, 'max_samples': 0.8, 'n_estimators': 200}\n",
      "0.826507 (0.016428) with: {'class_weight': {0: 1, 1: 3}, 'max_depth': 3, 'max_samples': 0.8, 'n_estimators': 500}\n",
      "0.826936 (0.016432) with: {'class_weight': {0: 1, 1: 3}, 'max_depth': 3, 'max_samples': 0.8, 'n_estimators': 1000}\n",
      "0.823653 (0.016201) with: {'class_weight': {0: 1, 1: 3}, 'max_depth': 3, 'max_samples': 0.9, 'n_estimators': 100}\n",
      "0.826200 (0.016138) with: {'class_weight': {0: 1, 1: 3}, 'max_depth': 3, 'max_samples': 0.9, 'n_estimators': 200}\n",
      "0.826381 (0.016335) with: {'class_weight': {0: 1, 1: 3}, 'max_depth': 3, 'max_samples': 0.9, 'n_estimators': 500}\n",
      "0.826819 (0.016322) with: {'class_weight': {0: 1, 1: 3}, 'max_depth': 3, 'max_samples': 0.9, 'n_estimators': 1000}\n",
      "0.840693 (0.013895) with: {'class_weight': {0: 1, 1: 3}, 'max_depth': 5, 'max_samples': 0.8, 'n_estimators': 100}\n",
      "0.841477 (0.014163) with: {'class_weight': {0: 1, 1: 3}, 'max_depth': 5, 'max_samples': 0.8, 'n_estimators': 200}\n",
      "0.841760 (0.014327) with: {'class_weight': {0: 1, 1: 3}, 'max_depth': 5, 'max_samples': 0.8, 'n_estimators': 500}\n",
      "0.842448 (0.014462) with: {'class_weight': {0: 1, 1: 3}, 'max_depth': 5, 'max_samples': 0.8, 'n_estimators': 1000}\n",
      "0.840875 (0.014126) with: {'class_weight': {0: 1, 1: 3}, 'max_depth': 5, 'max_samples': 0.9, 'n_estimators': 100}\n",
      "0.841642 (0.014160) with: {'class_weight': {0: 1, 1: 3}, 'max_depth': 5, 'max_samples': 0.9, 'n_estimators': 200}\n",
      "0.841801 (0.014259) with: {'class_weight': {0: 1, 1: 3}, 'max_depth': 5, 'max_samples': 0.9, 'n_estimators': 500}\n",
      "0.842348 (0.014313) with: {'class_weight': {0: 1, 1: 3}, 'max_depth': 5, 'max_samples': 0.9, 'n_estimators': 1000}\n",
      "0.790348 (0.019179) with: {'class_weight': {0: 1, 1: 4}, 'max_depth': 1, 'max_samples': 0.8, 'n_estimators': 100}\n",
      "0.791287 (0.018778) with: {'class_weight': {0: 1, 1: 4}, 'max_depth': 1, 'max_samples': 0.8, 'n_estimators': 200}\n",
      "0.794166 (0.019071) with: {'class_weight': {0: 1, 1: 4}, 'max_depth': 1, 'max_samples': 0.8, 'n_estimators': 500}\n",
      "0.796978 (0.018910) with: {'class_weight': {0: 1, 1: 4}, 'max_depth': 1, 'max_samples': 0.8, 'n_estimators': 1000}\n",
      "0.789050 (0.019708) with: {'class_weight': {0: 1, 1: 4}, 'max_depth': 1, 'max_samples': 0.9, 'n_estimators': 100}\n",
      "0.790414 (0.019073) with: {'class_weight': {0: 1, 1: 4}, 'max_depth': 1, 'max_samples': 0.9, 'n_estimators': 200}\n",
      "0.794001 (0.019192) with: {'class_weight': {0: 1, 1: 4}, 'max_depth': 1, 'max_samples': 0.9, 'n_estimators': 500}\n",
      "0.796263 (0.019048) with: {'class_weight': {0: 1, 1: 4}, 'max_depth': 1, 'max_samples': 0.9, 'n_estimators': 1000}\n",
      "0.824709 (0.015992) with: {'class_weight': {0: 1, 1: 4}, 'max_depth': 3, 'max_samples': 0.8, 'n_estimators': 100}\n",
      "0.826791 (0.015942) with: {'class_weight': {0: 1, 1: 4}, 'max_depth': 3, 'max_samples': 0.8, 'n_estimators': 200}\n",
      "0.826997 (0.016130) with: {'class_weight': {0: 1, 1: 4}, 'max_depth': 3, 'max_samples': 0.8, 'n_estimators': 500}\n",
      "0.827755 (0.015953) with: {'class_weight': {0: 1, 1: 4}, 'max_depth': 3, 'max_samples': 0.8, 'n_estimators': 1000}\n",
      "0.823942 (0.016054) with: {'class_weight': {0: 1, 1: 4}, 'max_depth': 3, 'max_samples': 0.9, 'n_estimators': 100}\n",
      "0.826516 (0.015857) with: {'class_weight': {0: 1, 1: 4}, 'max_depth': 3, 'max_samples': 0.9, 'n_estimators': 200}\n",
      "0.826716 (0.016186) with: {'class_weight': {0: 1, 1: 4}, 'max_depth': 3, 'max_samples': 0.9, 'n_estimators': 500}\n",
      "0.827479 (0.016040) with: {'class_weight': {0: 1, 1: 4}, 'max_depth': 3, 'max_samples': 0.9, 'n_estimators': 1000}\n",
      "0.840648 (0.014194) with: {'class_weight': {0: 1, 1: 4}, 'max_depth': 5, 'max_samples': 0.8, 'n_estimators': 100}\n",
      "0.841872 (0.013911) with: {'class_weight': {0: 1, 1: 4}, 'max_depth': 5, 'max_samples': 0.8, 'n_estimators': 200}\n",
      "0.842130 (0.014102) with: {'class_weight': {0: 1, 1: 4}, 'max_depth': 5, 'max_samples': 0.8, 'n_estimators': 500}\n",
      "0.842675 (0.014073) with: {'class_weight': {0: 1, 1: 4}, 'max_depth': 5, 'max_samples': 0.8, 'n_estimators': 1000}\n",
      "0.840405 (0.014200) with: {'class_weight': {0: 1, 1: 4}, 'max_depth': 5, 'max_samples': 0.9, 'n_estimators': 100}\n",
      "0.841469 (0.014056) with: {'class_weight': {0: 1, 1: 4}, 'max_depth': 5, 'max_samples': 0.9, 'n_estimators': 200}\n",
      "0.841774 (0.014181) with: {'class_weight': {0: 1, 1: 4}, 'max_depth': 5, 'max_samples': 0.9, 'n_estimators': 500}\n",
      "0.842255 (0.014162) with: {'class_weight': {0: 1, 1: 4}, 'max_depth': 5, 'max_samples': 0.9, 'n_estimators': 1000}\n"
     ]
    }
   ],
   "source": [
    "# define evaluation procedure\n",
    "from sklearn.model_selection import GridSearchCV\n",
    "cv = RepeatedStratifiedKFold(n_splits=10, n_repeats=3, random_state=1)\n",
    "# define grid search\n",
    "grid = GridSearchCV(estimator=model, param_grid=param_grid, n_jobs=-1, cv=cv, scoring='roc_auc')\n",
    "# execute the grid search\n",
    "grid_result = grid.fit(X_train_set, y_train_set)\n",
    "# report the best configuration\n",
    "print(\"Best: %f using %s\" % (grid_result.best_score_, grid_result.best_params_))\n",
    "# report all configurations\n",
    "means = grid_result.cv_results_['mean_test_score']\n",
    "stds = grid_result.cv_results_['std_test_score']\n",
    "params = grid_result.cv_results_['params']\n",
    "for mean, stdev, param in zip(means, stds, params):\n",
    "    print(\"%f (%f) with: %r\" % (mean, stdev, param))"
   ]
  },
  {
   "cell_type": "markdown",
   "metadata": {},
   "source": [
    "## GradientBoostingClassifier"
   ]
  },
  {
   "cell_type": "code",
   "execution_count": 22,
   "metadata": {},
   "outputs": [
    {
     "name": "stdout",
     "output_type": "stream",
     "text": [
      "Mean ROC AUC: 0.84726 \n"
     ]
    }
   ],
   "source": [
    "from sklearn.ensemble import GradientBoostingClassifier\n",
    "# define model\n",
    "model = GradientBoostingClassifier(random_state=1)\n",
    "# define evaluation procedure\n",
    "cv = RepeatedStratifiedKFold(n_splits=10, n_repeats=3, random_state=1)\n",
    "# evaluate model\n",
    "scores = cross_val_score(model, X_train_set, y_train_set, scoring='roc_auc', cv=cv, n_jobs=-1)\n",
    "# summarize performance\n",
    "#print('Mean ROC AUC: %.5f' % mean(scores))\n",
    "print(\"Mean ROC AUC: %.5f \" % (scores.mean()))"
   ]
  },
  {
   "cell_type": "markdown",
   "metadata": {},
   "source": [
    "## Tuning\n"
   ]
  },
  {
   "cell_type": "code",
   "execution_count": 23,
   "metadata": {},
   "outputs": [],
   "source": [
    "# define grid\n",
    "param_grid_1 = {'n_estimators':[100,200,500, 1000],'max_depth':[1,3,5],'subsample':[0.8,0.9], 'min_samples_split':[20,30,50]}\n",
    "model = GradientBoostingClassifier(random_state=random_state)"
   ]
  },
  {
   "cell_type": "code",
   "execution_count": 24,
   "metadata": {
    "scrolled": true
   },
   "outputs": [
    {
     "name": "stdout",
     "output_type": "stream",
     "text": [
      "Best: 0.847827 using {'max_depth': 3, 'min_samples_split': 30, 'n_estimators': 100, 'subsample': 0.8}\n",
      "0.834868 (0.016061) with: {'max_depth': 1, 'min_samples_split': 20, 'n_estimators': 100, 'subsample': 0.8}\n",
      "0.834392 (0.016212) with: {'max_depth': 1, 'min_samples_split': 20, 'n_estimators': 100, 'subsample': 0.9}\n",
      "0.838266 (0.016212) with: {'max_depth': 1, 'min_samples_split': 20, 'n_estimators': 200, 'subsample': 0.8}\n",
      "0.838179 (0.016379) with: {'max_depth': 1, 'min_samples_split': 20, 'n_estimators': 200, 'subsample': 0.9}\n",
      "0.837807 (0.016066) with: {'max_depth': 1, 'min_samples_split': 20, 'n_estimators': 500, 'subsample': 0.8}\n",
      "0.838419 (0.016230) with: {'max_depth': 1, 'min_samples_split': 20, 'n_estimators': 500, 'subsample': 0.9}\n",
      "0.836401 (0.016374) with: {'max_depth': 1, 'min_samples_split': 20, 'n_estimators': 1000, 'subsample': 0.8}\n",
      "0.836949 (0.016462) with: {'max_depth': 1, 'min_samples_split': 20, 'n_estimators': 1000, 'subsample': 0.9}\n",
      "0.834868 (0.016061) with: {'max_depth': 1, 'min_samples_split': 30, 'n_estimators': 100, 'subsample': 0.8}\n",
      "0.834392 (0.016212) with: {'max_depth': 1, 'min_samples_split': 30, 'n_estimators': 100, 'subsample': 0.9}\n",
      "0.838266 (0.016212) with: {'max_depth': 1, 'min_samples_split': 30, 'n_estimators': 200, 'subsample': 0.8}\n",
      "0.838179 (0.016379) with: {'max_depth': 1, 'min_samples_split': 30, 'n_estimators': 200, 'subsample': 0.9}\n",
      "0.837807 (0.016066) with: {'max_depth': 1, 'min_samples_split': 30, 'n_estimators': 500, 'subsample': 0.8}\n",
      "0.838419 (0.016230) with: {'max_depth': 1, 'min_samples_split': 30, 'n_estimators': 500, 'subsample': 0.9}\n",
      "0.836401 (0.016374) with: {'max_depth': 1, 'min_samples_split': 30, 'n_estimators': 1000, 'subsample': 0.8}\n",
      "0.836949 (0.016462) with: {'max_depth': 1, 'min_samples_split': 30, 'n_estimators': 1000, 'subsample': 0.9}\n",
      "0.834868 (0.016061) with: {'max_depth': 1, 'min_samples_split': 50, 'n_estimators': 100, 'subsample': 0.8}\n",
      "0.834392 (0.016212) with: {'max_depth': 1, 'min_samples_split': 50, 'n_estimators': 100, 'subsample': 0.9}\n",
      "0.838266 (0.016212) with: {'max_depth': 1, 'min_samples_split': 50, 'n_estimators': 200, 'subsample': 0.8}\n",
      "0.838179 (0.016379) with: {'max_depth': 1, 'min_samples_split': 50, 'n_estimators': 200, 'subsample': 0.9}\n",
      "0.837807 (0.016066) with: {'max_depth': 1, 'min_samples_split': 50, 'n_estimators': 500, 'subsample': 0.8}\n",
      "0.838419 (0.016230) with: {'max_depth': 1, 'min_samples_split': 50, 'n_estimators': 500, 'subsample': 0.9}\n",
      "0.836401 (0.016374) with: {'max_depth': 1, 'min_samples_split': 50, 'n_estimators': 1000, 'subsample': 0.8}\n",
      "0.836949 (0.016462) with: {'max_depth': 1, 'min_samples_split': 50, 'n_estimators': 1000, 'subsample': 0.9}\n",
      "0.847507 (0.015743) with: {'max_depth': 3, 'min_samples_split': 20, 'n_estimators': 100, 'subsample': 0.8}\n",
      "0.847156 (0.015315) with: {'max_depth': 3, 'min_samples_split': 20, 'n_estimators': 100, 'subsample': 0.9}\n",
      "0.844536 (0.016382) with: {'max_depth': 3, 'min_samples_split': 20, 'n_estimators': 200, 'subsample': 0.8}\n",
      "0.844796 (0.016026) with: {'max_depth': 3, 'min_samples_split': 20, 'n_estimators': 200, 'subsample': 0.9}\n",
      "0.834921 (0.017648) with: {'max_depth': 3, 'min_samples_split': 20, 'n_estimators': 500, 'subsample': 0.8}\n",
      "0.834718 (0.018248) with: {'max_depth': 3, 'min_samples_split': 20, 'n_estimators': 500, 'subsample': 0.9}\n",
      "0.824537 (0.017461) with: {'max_depth': 3, 'min_samples_split': 20, 'n_estimators': 1000, 'subsample': 0.8}\n",
      "0.823608 (0.019220) with: {'max_depth': 3, 'min_samples_split': 20, 'n_estimators': 1000, 'subsample': 0.9}\n",
      "0.847827 (0.015272) with: {'max_depth': 3, 'min_samples_split': 30, 'n_estimators': 100, 'subsample': 0.8}\n",
      "0.846536 (0.014995) with: {'max_depth': 3, 'min_samples_split': 30, 'n_estimators': 100, 'subsample': 0.9}\n",
      "0.845178 (0.015946) with: {'max_depth': 3, 'min_samples_split': 30, 'n_estimators': 200, 'subsample': 0.8}\n",
      "0.844424 (0.015520) with: {'max_depth': 3, 'min_samples_split': 30, 'n_estimators': 200, 'subsample': 0.9}\n",
      "0.834632 (0.018311) with: {'max_depth': 3, 'min_samples_split': 30, 'n_estimators': 500, 'subsample': 0.8}\n",
      "0.835020 (0.016969) with: {'max_depth': 3, 'min_samples_split': 30, 'n_estimators': 500, 'subsample': 0.9}\n",
      "0.825026 (0.018619) with: {'max_depth': 3, 'min_samples_split': 30, 'n_estimators': 1000, 'subsample': 0.8}\n",
      "0.824665 (0.018235) with: {'max_depth': 3, 'min_samples_split': 30, 'n_estimators': 1000, 'subsample': 0.9}\n",
      "0.847794 (0.015351) with: {'max_depth': 3, 'min_samples_split': 50, 'n_estimators': 100, 'subsample': 0.8}\n",
      "0.846908 (0.015163) with: {'max_depth': 3, 'min_samples_split': 50, 'n_estimators': 100, 'subsample': 0.9}\n",
      "0.845093 (0.016105) with: {'max_depth': 3, 'min_samples_split': 50, 'n_estimators': 200, 'subsample': 0.8}\n",
      "0.844805 (0.015425) with: {'max_depth': 3, 'min_samples_split': 50, 'n_estimators': 200, 'subsample': 0.9}\n",
      "0.836078 (0.017136) with: {'max_depth': 3, 'min_samples_split': 50, 'n_estimators': 500, 'subsample': 0.8}\n",
      "0.835281 (0.016225) with: {'max_depth': 3, 'min_samples_split': 50, 'n_estimators': 500, 'subsample': 0.9}\n",
      "0.825014 (0.018053) with: {'max_depth': 3, 'min_samples_split': 50, 'n_estimators': 1000, 'subsample': 0.8}\n",
      "0.824299 (0.017622) with: {'max_depth': 3, 'min_samples_split': 50, 'n_estimators': 1000, 'subsample': 0.9}\n",
      "0.840580 (0.017259) with: {'max_depth': 5, 'min_samples_split': 20, 'n_estimators': 100, 'subsample': 0.8}\n",
      "0.842045 (0.016022) with: {'max_depth': 5, 'min_samples_split': 20, 'n_estimators': 100, 'subsample': 0.9}\n",
      "0.833506 (0.017948) with: {'max_depth': 5, 'min_samples_split': 20, 'n_estimators': 200, 'subsample': 0.8}\n",
      "0.833343 (0.016234) with: {'max_depth': 5, 'min_samples_split': 20, 'n_estimators': 200, 'subsample': 0.9}\n",
      "0.821111 (0.019098) with: {'max_depth': 5, 'min_samples_split': 20, 'n_estimators': 500, 'subsample': 0.8}\n",
      "0.821660 (0.017260) with: {'max_depth': 5, 'min_samples_split': 20, 'n_estimators': 500, 'subsample': 0.9}\n",
      "0.813097 (0.019449) with: {'max_depth': 5, 'min_samples_split': 20, 'n_estimators': 1000, 'subsample': 0.8}\n",
      "0.812914 (0.018186) with: {'max_depth': 5, 'min_samples_split': 20, 'n_estimators': 1000, 'subsample': 0.9}\n",
      "0.842199 (0.017208) with: {'max_depth': 5, 'min_samples_split': 30, 'n_estimators': 100, 'subsample': 0.8}\n",
      "0.841303 (0.016401) with: {'max_depth': 5, 'min_samples_split': 30, 'n_estimators': 100, 'subsample': 0.9}\n",
      "0.833581 (0.018408) with: {'max_depth': 5, 'min_samples_split': 30, 'n_estimators': 200, 'subsample': 0.8}\n",
      "0.833708 (0.017383) with: {'max_depth': 5, 'min_samples_split': 30, 'n_estimators': 200, 'subsample': 0.9}\n",
      "0.820167 (0.018182) with: {'max_depth': 5, 'min_samples_split': 30, 'n_estimators': 500, 'subsample': 0.8}\n",
      "0.820815 (0.017239) with: {'max_depth': 5, 'min_samples_split': 30, 'n_estimators': 500, 'subsample': 0.9}\n",
      "0.811905 (0.019374) with: {'max_depth': 5, 'min_samples_split': 30, 'n_estimators': 1000, 'subsample': 0.8}\n",
      "0.811362 (0.017473) with: {'max_depth': 5, 'min_samples_split': 30, 'n_estimators': 1000, 'subsample': 0.9}\n",
      "0.841830 (0.016305) with: {'max_depth': 5, 'min_samples_split': 50, 'n_estimators': 100, 'subsample': 0.8}\n",
      "0.842718 (0.015798) with: {'max_depth': 5, 'min_samples_split': 50, 'n_estimators': 100, 'subsample': 0.9}\n",
      "0.833748 (0.018401) with: {'max_depth': 5, 'min_samples_split': 50, 'n_estimators': 200, 'subsample': 0.8}\n",
      "0.835198 (0.017414) with: {'max_depth': 5, 'min_samples_split': 50, 'n_estimators': 200, 'subsample': 0.9}\n",
      "0.821330 (0.017979) with: {'max_depth': 5, 'min_samples_split': 50, 'n_estimators': 500, 'subsample': 0.8}\n",
      "0.822461 (0.018200) with: {'max_depth': 5, 'min_samples_split': 50, 'n_estimators': 500, 'subsample': 0.9}\n",
      "0.811990 (0.019213) with: {'max_depth': 5, 'min_samples_split': 50, 'n_estimators': 1000, 'subsample': 0.8}\n",
      "0.812538 (0.018745) with: {'max_depth': 5, 'min_samples_split': 50, 'n_estimators': 1000, 'subsample': 0.9}\n"
     ]
    }
   ],
   "source": [
    "# define evaluation procedure\n",
    "from sklearn.model_selection import GridSearchCV\n",
    "cv = RepeatedStratifiedKFold(n_splits=10, n_repeats=3, random_state=1)\n",
    "# define grid search\n",
    "grid = GridSearchCV(estimator=model, param_grid=param_grid_1, n_jobs=-1, cv=cv, scoring='roc_auc')\n",
    "# execute the grid search\n",
    "grid_result = grid.fit(X_train_set, y_train_set)\n",
    "# report the best configuration\n",
    "print(\"Best: %f using %s\" % (grid_result.best_score_, grid_result.best_params_))\n",
    "# report all configurations\n",
    "means = grid_result.cv_results_['mean_test_score']\n",
    "stds = grid_result.cv_results_['std_test_score']\n",
    "params = grid_result.cv_results_['params']\n",
    "for mean, stdev, param in zip(means, stds, params):\n",
    "    print(\"%f (%f) with: %r\" % (mean, stdev, param))"
   ]
  },
  {
   "cell_type": "markdown",
   "metadata": {},
   "source": [
    "## Validation set"
   ]
  },
  {
   "cell_type": "markdown",
   "metadata": {},
   "source": [
    "## LogisticResgression"
   ]
  },
  {
   "cell_type": "code",
   "execution_count": 25,
   "metadata": {
    "scrolled": true
   },
   "outputs": [
    {
     "data": {
      "text/plain": [
       "array([[0.62780065, 0.37219935],\n",
       "       [0.67442365, 0.32557635],\n",
       "       [0.57591391, 0.42408609],\n",
       "       [0.76620714, 0.23379286],\n",
       "       [0.59811297, 0.40188703]])"
      ]
     },
     "execution_count": 25,
     "metadata": {},
     "output_type": "execute_result"
    }
   ],
   "source": [
    "#Best: 0.750167 using {'C': 0.8, 'class_weight': {0: 1, 1: 6}, 'max_iter': 20}\n",
    "log= LogisticRegression(C=0.8, max_iter=20, class_weight={0:1,1:6},random_state=random_state)\n",
    "y_pred_log=log.fit(X_train_set, y_train_set).predict(X_val)\n",
    "proba_log=log.predict_proba(X_val)\n",
    "proba_log[:5]"
   ]
  },
  {
   "cell_type": "code",
   "execution_count": 27,
   "metadata": {
    "scrolled": true
   },
   "outputs": [
    {
     "name": "stdout",
     "output_type": "stream",
     "text": [
      "              precision    recall  f1-score   support\n",
      "\n",
      "           0       0.94      0.55      0.69      1273\n",
      "           1       0.33      0.86      0.48       327\n",
      "\n",
      "    accuracy                           0.61      1600\n",
      "   macro avg       0.63      0.70      0.58      1600\n",
      "weighted avg       0.81      0.61      0.65      1600\n",
      "\n"
     ]
    }
   ],
   "source": [
    "log_class_report=classification_report(y_val, y_pred_log, digits=2)\n",
    "print(log_class_report)"
   ]
  },
  {
   "cell_type": "code",
   "execution_count": 28,
   "metadata": {
    "scrolled": true
   },
   "outputs": [
    {
     "data": {
      "image/png": "[encoded data removed]",
      "text/plain": [
       "<Figure size 432x288 with 2 Axes>"
      ]
     },
     "metadata": {
      "needs_background": "light"
     },
     "output_type": "display_data"
    }
   ],
   "source": [
    "disp = plot_confusion_matrix(log, X_val, y_val,cmap=plt.cm.Blues)\n",
    "disp.ax_.set_title(\"Confusion matrix, without normalization\")\n",
    "plt.show()"
   ]
  },
  {
   "cell_type": "code",
   "execution_count": null,
   "metadata": {},
   "outputs": [],
   "source": [
    "threshhold=0.8\n",
    "thresh_proba_log=log.predict_proba((X_val)[:,1]>=threshold)"
   ]
  },
  {
   "cell_type": "code",
   "execution_count": null,
   "metadata": {},
   "outputs": [],
   "source": [
    "thresh_log_class_report=classification_report(y_val, thresh_pred_log, digits=2)\n",
    "print(log_class_report)"
   ]
  },
  {
   "cell_type": "markdown",
   "metadata": {},
   "source": [
    "## Random Forest"
   ]
  },
  {
   "cell_type": "code",
   "execution_count": 30,
   "metadata": {
    "scrolled": false
   },
   "outputs": [
    {
     "data": {
      "text/plain": [
       "array([[0.6805006 , 0.3194994 ],\n",
       "       [0.6918631 , 0.3081369 ],\n",
       "       [0.60178388, 0.39821612],\n",
       "       [0.85821474, 0.14178526],\n",
       "       [0.8291133 , 0.1708867 ]])"
      ]
     },
     "execution_count": 30,
     "metadata": {},
     "output_type": "execute_result"
    }
   ],
   "source": [
    "#Best: 0.842668 using {'class_weight': {0: 1, 1: 4}, 'max_depth': 5, 'max_samples': 0.8, 'n_estimators': 1000}\n",
    "from sklearn.ensemble import RandomForestClassifier\n",
    "rf= RandomForestClassifier(class_weight={0: 1, 1: 4}, n_estimators=1000, max_depth=5, max_samples=0.8, random_state=random_state)\n",
    "y_pred_rf=rf.fit(X_train_set, y_train_set).predict(X_val)\n",
    "proba_rf=rf.predict_proba(X_val)\n",
    "proba_rf[:5]"
   ]
  },
  {
   "cell_type": "code",
   "execution_count": 31,
   "metadata": {},
   "outputs": [
    {
     "name": "stdout",
     "output_type": "stream",
     "text": [
      "              precision    recall  f1-score   support\n",
      "\n",
      "           0       0.92      0.83      0.88      1273\n",
      "           1       0.53      0.73      0.61       327\n",
      "\n",
      "    accuracy                           0.81      1600\n",
      "   macro avg       0.73      0.78      0.74      1600\n",
      "weighted avg       0.84      0.81      0.82      1600\n",
      "\n"
     ]
    }
   ],
   "source": [
    "rf_class_report=classification_report(y_val, y_pred_rf, digits=2)\n",
    "print(rf_class_report)"
   ]
  },
  {
   "cell_type": "code",
   "execution_count": 32,
   "metadata": {
    "scrolled": true
   },
   "outputs": [
    {
     "data": {
      "image/png": "[encoded data removed]",
      "text/plain": [
       "<Figure size 432x288 with 2 Axes>"
      ]
     },
     "metadata": {
      "needs_background": "light"
     },
     "output_type": "display_data"
    }
   ],
   "source": [
    "disp = plot_confusion_matrix(rf, X_val, y_val,cmap=plt.cm.Blues)\n",
    "disp.ax_.set_title(\"Confusion matrix, without normalization\")\n",
    "plt.show()"
   ]
  },
  {
   "cell_type": "code",
   "execution_count": 33,
   "metadata": {
    "scrolled": true
   },
   "outputs": [
    {
     "name": "stdout",
     "output_type": "stream",
     "text": [
      "[[0.92254134 0.47228381]\n",
      " [0.07745866 0.52771619]]\n"
     ]
    }
   ],
   "source": [
    "rf_matrix=confusion_matrix(y_val, y_pred_rf, normalize='pred')\n",
    "print(rf_matrix)"
   ]
  },
  {
   "cell_type": "markdown",
   "metadata": {},
   "source": [
    "# Gradient Boost"
   ]
  },
  {
   "cell_type": "code",
   "execution_count": 34,
   "metadata": {
    "scrolled": false
   },
   "outputs": [
    {
     "data": {
      "text/plain": [
       "array([[0.88880778, 0.11119222],\n",
       "       [0.91383741, 0.08616259],\n",
       "       [0.91925057, 0.08074943],\n",
       "       [0.98117115, 0.01882885],\n",
       "       [0.97491326, 0.02508674]])"
      ]
     },
     "execution_count": 34,
     "metadata": {},
     "output_type": "execute_result"
    }
   ],
   "source": [
    "#Best: 0.847508 using {'max_depth': 3, 'min_samples_split': 20, 'n_estimators': 100, 'subsample': 0.8}\n",
    "gb_clf=GradientBoostingClassifier(max_depth=3, min_samples_split=20, n_estimators=100, subsample=0.8)\n",
    "y_pred_gb=gb_clf.fit(X_train_set, y_train_set).predict(X_val)\n",
    "proba_gb=gb_clf.predict_proba(X_val)\n",
    "proba_gb[:5]"
   ]
  },
  {
   "cell_type": "code",
   "execution_count": 35,
   "metadata": {
    "scrolled": false
   },
   "outputs": [
    {
     "name": "stdout",
     "output_type": "stream",
     "text": [
      "              precision    recall  f1-score   support\n",
      "\n",
      "           0       0.87      0.96      0.92      1273\n",
      "           1       0.76      0.46      0.57       327\n",
      "\n",
      "    accuracy                           0.86      1600\n",
      "   macro avg       0.81      0.71      0.74      1600\n",
      "weighted avg       0.85      0.86      0.85      1600\n",
      "\n"
     ]
    }
   ],
   "source": [
    "gb_clf_class_report=classification_report(y_val, y_pred_gb, digits=2)\n",
    "print(gb_clf_class_report)"
   ]
  },
  {
   "cell_type": "code",
   "execution_count": 36,
   "metadata": {
    "scrolled": true
   },
   "outputs": [
    {
     "data": {
      "image/png": "[encoded data removed]",
      "text/plain": [
       "<Figure size 432x288 with 2 Axes>"
      ]
     },
     "metadata": {
      "needs_background": "light"
     },
     "output_type": "display_data"
    }
   ],
   "source": [
    "disp = plot_confusion_matrix(gb_clf, X_val, y_val,cmap=plt.cm.Blues)\n",
    "disp.ax_.set_title(\"Confusion matrix, without normalization\")\n",
    "plt.show()"
   ]
  },
  {
   "cell_type": "code",
   "execution_count": 37,
   "metadata": {
    "scrolled": true
   },
   "outputs": [
    {
     "name": "stdout",
     "output_type": "stream",
     "text": [
      "[[0.87428571 0.245     ]\n",
      " [0.12571429 0.755     ]]\n"
     ]
    }
   ],
   "source": [
    "gb_clf_matrix=confusion_matrix(y_val, y_pred_gb, normalize='pred')\n",
    "print(gb_clf_matrix)"
   ]
  },
  {
   "cell_type": "markdown",
   "metadata": {},
   "source": [
    "## ROC curve\n",
    "\n",
    "The ROC Curve is a useful diagnostic tool for understanding the trade-off for different thresholds and the ROC AUC provides a useful number for comparing models based on their general capabilities.\n",
    "\n",
    "If crisp class labels are required from a model under such an analysis, then an optimal threshold is required. This would be a threshold on the curve that is closest to the top-left of the plot."
   ]
  },
  {
   "cell_type": "code",
   "execution_count": 38,
   "metadata": {},
   "outputs": [],
   "source": [
    "from sklearn.metrics import roc_curve\n",
    "\n",
    "# roc curve for models\n",
    "fpr1, tpr1, thresh1 = roc_curve(y_val, proba_gb[:,1], pos_label=1)\n",
    "fpr2, tpr2, thresh2 = roc_curve(y_val, proba_log[:,1], pos_label=1)\n",
    "fpr3, tpr3, thresh3 = roc_curve(y_val, proba_rf[:,1], pos_label=1)\n",
    "\n",
    "# roc curve for tpr = fpr \n",
    "random_probs = [0 for i in range(len(y_val))]\n",
    "p_fpr, p_tpr, _ = roc_curve(y_val, random_probs, pos_label=1)"
   ]
  },
  {
   "cell_type": "code",
   "execution_count": 39,
   "metadata": {},
   "outputs": [
    {
     "name": "stdout",
     "output_type": "stream",
     "text": [
      "0.8600623151744896 0.7821467265315143 0.8598100756478352\n"
     ]
    }
   ],
   "source": [
    "from sklearn.metrics import roc_auc_score\n",
    "\n",
    "# auc scores\n",
    "gb_auc_score = roc_auc_score(y_val, proba_gb[:,1])\n",
    "log_auc_score = roc_auc_score(y_val, proba_log[:,1])\n",
    "rf_auc_score = roc_auc_score(y_val, proba_rf[:,1])\n",
    "\n",
    "print(gb_auc_score, log_auc_score, rf_auc_score)"
   ]
  },
  {
   "cell_type": "code",
   "execution_count": 177,
   "metadata": {},
   "outputs": [],
   "source": [
    "# matplotlib\n",
    "# import matplotlib.pyplot as plt\n",
    "# plt.style.use('seaborn')\n",
    "\n",
    "# # plot roc curves\n",
    "# plt.figure(1)\n",
    "# plt.plot(fpr1, tpr1, linestyle='--',color='orange', label='GradientBoost')\n",
    "# plt.plot(fpr2, tpr2, linestyle='--',color='green', label='LogisticRegtession')\n",
    "# plt.plot(fpr3, tpr3, linestyle='--',color='red', label='RandomForest')\n",
    "# plt.plot(p_fpr, p_tpr, linestyle='--', color='blue')\n",
    "# # title\n",
    "# plt.title('ROC curve')\n",
    "# # x label\n",
    "# plt.xlabel('False Positive Rate')\n",
    "# # y label\n",
    "# plt.ylabel('True Positive rate')\n",
    "\n",
    "# plt.legend(loc='best')\n",
    "# plt.savefig('ROC',dpi=200)\n",
    "# plt.show();\n",
    "\n",
    "# plt.figure(2)\n",
    "# plt.xlim(0, 0.4)\n",
    "# plt.ylim(0.4, 1)\n",
    "# plt.plot(fpr1, tpr1, linestyle='--',color='orange', label='GradientBoost')\n",
    "# plt.plot(fpr2, tpr2, linestyle='--',color='green', label='LogisticRegression')\n",
    "# plt.plot(fpr3, tpr3, linestyle='--',color='red', label='RandomForest')\n",
    "# plt.plot(p_fpr, p_tpr, linestyle='--', color='blue')\n",
    "# # title\n",
    "# plt.title('ROC curve')\n",
    "# # x label\n",
    "# plt.xlabel('False Positive Rate')\n",
    "# # y label\n",
    "# plt.ylabel('True Positive rate')\n",
    "\n",
    "# plt.legend(loc='best')\n",
    "# plt.savefig('ROCzoom',dpi=200)\n",
    "# plt.show();"
   ]
  },
  {
   "cell_type": "code",
   "execution_count": 40,
   "metadata": {
    "scrolled": true
   },
   "outputs": [
    {
     "name": "stdout",
     "output_type": "stream",
     "text": [
      "\n",
      "random forest classification report\n",
      "\n",
      "              precision    recall  f1-score   support\n",
      "\n",
      "           0       0.92      0.83      0.88      1273\n",
      "           1       0.53      0.73      0.61       327\n",
      "\n",
      "    accuracy                           0.81      1600\n",
      "   macro avg       0.73      0.78      0.74      1600\n",
      "weighted avg       0.84      0.81      0.82      1600\n",
      "\n",
      "\n",
      "gradient boost classification report\n",
      "\n",
      "              precision    recall  f1-score   support\n",
      "\n",
      "           0       0.87      0.96      0.92      1273\n",
      "           1       0.76      0.46      0.57       327\n",
      "\n",
      "    accuracy                           0.86      1600\n",
      "   macro avg       0.81      0.71      0.74      1600\n",
      "weighted avg       0.85      0.86      0.85      1600\n",
      "\n",
      "\n",
      "log classification report\n",
      "\n",
      "              precision    recall  f1-score   support\n",
      "\n",
      "           0       0.94      0.55      0.69      1273\n",
      "           1       0.33      0.86      0.48       327\n",
      "\n",
      "    accuracy                           0.61      1600\n",
      "   macro avg       0.63      0.70      0.58      1600\n",
      "weighted avg       0.81      0.61      0.65      1600\n",
      "\n"
     ]
    }
   ],
   "source": [
    "#classification_report\n",
    "print(\"\\nrandom forest classification report\\n\")\n",
    "print(rf_class_report)\n",
    "print(\"\\ngradient boost classification report\\n\")\n",
    "print(gb_clf_class_report)\n",
    "print(\"\\nlog classification report\\n\")\n",
    "print(log_class_report)"
   ]
  },
  {
   "cell_type": "markdown",
   "metadata": {},
   "source": [
    "## Confusion Matrix "
   ]
  },
  {
   "cell_type": "code",
   "execution_count": 41,
   "metadata": {
    "scrolled": true
   },
   "outputs": [
    {
     "name": "stdout",
     "output_type": "stream",
     "text": [
      "\n",
      "random forest confusion matrix\n",
      "\n",
      "[[0.92254134 0.47228381]\n",
      " [0.07745866 0.52771619]]\n",
      "\n",
      "gradient boost confusion matrix\n",
      "\n",
      "[[0.87428571 0.245     ]\n",
      " [0.12571429 0.755     ]]\n",
      "\n",
      "log confusion matrix\n",
      "\n",
      "[[0.93817204 0.67172897]\n",
      " [0.06182796 0.32827103]]\n"
     ]
    }
   ],
   "source": [
    "#confusion matrix\n",
    "print(\"\\nrandom forest confusion matrix\\n\")\n",
    "print(rf_matrix)\n",
    "print(\"\\ngradient boost confusion matrix\\n\")\n",
    "print(gb_clf_matrix)\n",
    "print(\"\\nlog confusion matrix\\n\")\n",
    "print(log_matrix)"
   ]
  },
  {
   "cell_type": "markdown",
   "metadata": {},
   "source": [
    "## Threshold setting\n",
    "\n",
    "There are many ways we could locate the threshold with the optimal balance between false positive and true positive rates.\n",
    "\n",
    "Firstly, the true positive rate is called the Sensitivity. The inverse of the false-positive rate is called the Specificity.\n",
    "\n",
    "- Sensitivity = TruePositive / (TruePositive + FalseNegative)\n",
    "- Specificity = TrueNegative / (FalsePositive + TrueNegative)\n",
    "- Where:\n",
    "- Sensitivity = True Positive Rate \n",
    "- Specificity = 1 – False Positive Rate"
   ]
  },
  {
   "cell_type": "markdown",
   "metadata": {},
   "source": [
    "The Geometric Mean or G-Mean is a metric for imbalanced classification that, if optimized, will seek a balance between the sensitivity and the specificity.\n",
    "\n",
    "G-Mean = sqrt(Sensitivity * Specificity)"
   ]
  },
  {
   "cell_type": "code",
   "execution_count": 42,
   "metadata": {
    "scrolled": true
   },
   "outputs": [],
   "source": [
    "# calculate the g-mean for each threshold\n",
    "from numpy import argmax\n",
    "from numpy import sqrt"
   ]
  },
  {
   "cell_type": "markdown",
   "metadata": {},
   "source": [
    "We can also re-draw the ROC Curve and highlight this point."
   ]
  },
  {
   "cell_type": "code",
   "execution_count": 43,
   "metadata": {
    "scrolled": false
   },
   "outputs": [
    {
     "name": "stdout",
     "output_type": "stream",
     "text": [
      "Best Threshold GBC=0.188927, G-Mean=0.776\n",
      "Best Threshold Log =0.622309, G-Mean=0.723\n",
      "Best Threshold RF=0.495407, G-Mean=0.780\n"
     ]
    },
    {
     "data": {
      "image/png": "[encoded data removed]",
      "text/plain": [
       "<Figure size 432x288 with 1 Axes>"
      ]
     },
     "metadata": {
      "needs_background": "light"
     },
     "output_type": "display_data"
    },
    {
     "data": {
      "image/png": "[encoded data removed]",
      "text/plain": [
       "<Figure size 432x288 with 1 Axes>"
      ]
     },
     "metadata": {
      "needs_background": "light"
     },
     "output_type": "display_data"
    }
   ],
   "source": [
    "# plot roc curves\n",
    "plt.figure(1)\n",
    "# calculate the g-mean for each threshold\n",
    "gmeans_gbc = sqrt(tpr1 * (1-fpr1))\n",
    "gmeans_log = sqrt(tpr2 * (1-fpr2))\n",
    "gmeans_rf = sqrt(tpr3 * (1-fpr3))\n",
    "# locate the index of the largest g-mean\n",
    "ix1 = argmax(gmeans_gbc)\n",
    "ix2 = argmax(gmeans_log)\n",
    "ix3 = argmax(gmeans_rf)\n",
    "print('Best Threshold GBC=%f, G-Mean=%.3f' % (thresh1[ix1], gmeans_gbc[ix1]))\n",
    "print('Best Threshold Log =%f, G-Mean=%.3f' % (thresh2[ix2], gmeans_log[ix2]))\n",
    "print('Best Threshold RF=%f, G-Mean=%.3f' % (thresh3[ix3], gmeans_rf[ix3]))\n",
    "plt.plot(fpr1, tpr1, linestyle='--',color='orange', label='GradientBoost')\n",
    "plt.plot(fpr2, tpr2, linestyle='--',color='green', label='Logistic')\n",
    "plt.plot(fpr3, tpr3, linestyle='--',color='red', label='RandomForest')\n",
    "plt.plot(p_fpr, p_tpr, linestyle='--', color='blue')\n",
    "plt.scatter(fpr1[ix1], tpr1[ix1], marker='o', color='black', label='Best')\n",
    "plt.scatter(fpr2[ix2], tpr2[ix2], marker='o', color='black', label='Best')\n",
    "plt.scatter(fpr3[ix3], tpr3[ix3], marker='o', color='black', label='Best')\n",
    "# title\n",
    "plt.title('ROC curve')\n",
    "# x label\n",
    "plt.xlabel('False Positive Rate')\n",
    "# y label\n",
    "plt.ylabel('True Positive rate')\n",
    "\n",
    "plt.legend(loc='best')\n",
    "plt.savefig('ROCbest',dpi=200)\n",
    "plt.show();\n",
    "\n",
    "plt.figure(2)\n",
    "plt.xlim(0.1, 0.3)\n",
    "plt.ylim(0.6, 1)\n",
    "plt.plot(fpr1, tpr1, linestyle='--',color='orange', label='GradientBoost')\n",
    "plt.plot(fpr2, tpr2, linestyle='--',color='green', label='Logistic')\n",
    "plt.plot(fpr3, tpr3, linestyle='--',color='red', label='RandomForest')\n",
    "plt.plot(p_fpr, p_tpr, linestyle='--', color='blue')\n",
    "plt.scatter(fpr1[ix1], tpr1[ix1], marker='o', color='black', label='Best')\n",
    "plt.scatter(fpr2[ix2], tpr2[ix2], marker='o', color='black', label='Best')\n",
    "plt.scatter(fpr3[ix3], tpr3[ix3], marker='o', color='black', label='Best')\n",
    "# title\n",
    "plt.title('ROC curve')\n",
    "# x label\n",
    "plt.xlabel('False Positive Rate')\n",
    "# y label\n",
    "plt.ylabel('True Positive rate')\n",
    "\n",
    "plt.legend(loc='best')\n",
    "plt.savefig('ROCbestzoom',dpi=200)\n",
    "plt.show();"
   ]
  }
 ],
 "metadata": {
  "kernelspec": {
   "display_name": "Python 3",
   "language": "python",
   "name": "python3"
  },
  "language_info": {
   "codemirror_mode": {
    "name": "ipython",
    "version": 3
   },
   "file_extension": ".py",
   "mimetype": "text/x-python",
   "name": "python",
   "nbconvert_exporter": "python",
   "pygments_lexer": "ipython3",
   "version": "3.7.7"
  }
 },
 "nbformat": 4,
 "nbformat_minor": 4
}
