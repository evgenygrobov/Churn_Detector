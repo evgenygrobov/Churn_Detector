{
 "cells": [
  {
   "cell_type": "code",
   "execution_count": 1,
   "metadata": {},
   "outputs": [],
   "source": [
    "import pandas as pd\n",
    "import numpy as np\n",
    "\n",
    "import seaborn as sns\n",
    "sns.set(style=\"white\")\n",
    "import matplotlib.pyplot as plt\n",
    "import matplotlib as mpl\n",
    "from matplotlib import pyplot\n",
    "\n",
    "import sklearn\n",
    "from sklearn.preprocessing import StandardScaler, normalize\n",
    "from sklearn.model_selection import train_test_split, KFold, RepeatedStratifiedKFold, cross_val_score\n",
    "from sklearn.metrics import(accuracy_score, roc_auc_score, f1_score, plot_confusion_matrix,\n",
    "                            recall_score, confusion_matrix, precision_score, classification_report)\n",
    "\n",
    "from sklearn.metrics import precision_recall_curve, f1_score, auc\n",
    "\n",
    "from sklearn.linear_model import LogisticRegression  \n",
    "from sklearn.neighbors import KNeighborsClassifier\n",
    "from sklearn.tree import DecisionTreeClassifier \n",
    "\n",
    "from sklearn.model_selection import RandomizedSearchCV\n",
    "from sklearn.ensemble import RandomForestClassifier,AdaBoostClassifier,GradientBoostingClassifier\n",
    "\n",
    "from sklearn import preprocessing\n",
    "from IPython.display import display, HTML\n",
    "\n",
    "\n",
    "\n",
    "%matplotlib inline"
   ]
  },
  {
   "cell_type": "code",
   "execution_count": 2,
   "metadata": {
    "scrolled": false
   },
   "outputs": [
    {
     "data": {
      "text/html": [
       "<div>\n",
       "<style scoped>\n",
       "    .dataframe tbody tr th:only-of-type {\n",
       "        vertical-align: middle;\n",
       "    }\n",
       "\n",
       "    .dataframe tbody tr th {\n",
       "        vertical-align: top;\n",
       "    }\n",
       "\n",
       "    .dataframe thead th {\n",
       "        text-align: right;\n",
       "    }\n",
       "</style>\n",
       "<table border=\"1\" class=\"dataframe\">\n",
       "  <thead>\n",
       "    <tr style=\"text-align: right;\">\n",
       "      <th></th>\n",
       "      <th>CreditScore</th>\n",
       "      <th>Gender</th>\n",
       "      <th>Age</th>\n",
       "      <th>Tenure</th>\n",
       "      <th>Balance</th>\n",
       "      <th>NumOfProducts</th>\n",
       "      <th>HasCrCard</th>\n",
       "      <th>IsActiveMember</th>\n",
       "      <th>EstimatedSalary</th>\n",
       "      <th>Exited</th>\n",
       "    </tr>\n",
       "  </thead>\n",
       "  <tbody>\n",
       "    <tr>\n",
       "      <th>0</th>\n",
       "      <td>619</td>\n",
       "      <td>Female</td>\n",
       "      <td>42</td>\n",
       "      <td>2</td>\n",
       "      <td>0.00</td>\n",
       "      <td>1</td>\n",
       "      <td>1</td>\n",
       "      <td>1</td>\n",
       "      <td>101348.88</td>\n",
       "      <td>1</td>\n",
       "    </tr>\n",
       "    <tr>\n",
       "      <th>1</th>\n",
       "      <td>608</td>\n",
       "      <td>Female</td>\n",
       "      <td>41</td>\n",
       "      <td>1</td>\n",
       "      <td>83807.86</td>\n",
       "      <td>1</td>\n",
       "      <td>0</td>\n",
       "      <td>1</td>\n",
       "      <td>112542.58</td>\n",
       "      <td>0</td>\n",
       "    </tr>\n",
       "    <tr>\n",
       "      <th>2</th>\n",
       "      <td>502</td>\n",
       "      <td>Female</td>\n",
       "      <td>42</td>\n",
       "      <td>8</td>\n",
       "      <td>159660.80</td>\n",
       "      <td>3</td>\n",
       "      <td>1</td>\n",
       "      <td>0</td>\n",
       "      <td>113931.57</td>\n",
       "      <td>1</td>\n",
       "    </tr>\n",
       "  </tbody>\n",
       "</table>\n",
       "</div>"
      ],
      "text/plain": [
       "   CreditScore  Gender  Age  Tenure    Balance  NumOfProducts  HasCrCard  \\\n",
       "0          619  Female   42       2       0.00              1          1   \n",
       "1          608  Female   41       1   83807.86              1          0   \n",
       "2          502  Female   42       8  159660.80              3          1   \n",
       "\n",
       "   IsActiveMember  EstimatedSalary  Exited  \n",
       "0               1        101348.88       1  \n",
       "1               1        112542.58       0  \n",
       "2               0        113931.57       1  "
      ]
     },
     "execution_count": 2,
     "metadata": {},
     "output_type": "execute_result"
    }
   ],
   "source": [
    "df=pd.read_csv('./data/churn.csv').drop(columns=['RowNumber','Surname', 'CustomerId', 'Geography'], axis=1)\n",
    "df.head(3)"
   ]
  },
  {
   "cell_type": "code",
   "execution_count": 3,
   "metadata": {},
   "outputs": [],
   "source": [
    "df['Gender']=df['Gender'].apply(lambda x: 0 if x=='Female' else 1)"
   ]
  },
  {
   "cell_type": "code",
   "execution_count": 4,
   "metadata": {},
   "outputs": [],
   "source": [
    "y = df[\"Exited\"]\n",
    "X = df.drop([\"Exited\"], axis = 1)"
   ]
  },
  {
   "cell_type": "code",
   "execution_count": 5,
   "metadata": {},
   "outputs": [
    {
     "data": {
      "text/plain": [
       "((10000,), (10000, 9))"
      ]
     },
     "execution_count": 5,
     "metadata": {},
     "output_type": "execute_result"
    }
   ],
   "source": [
    "y.shape, X.shape"
   ]
  },
  {
   "cell_type": "code",
   "execution_count": 6,
   "metadata": {
    "scrolled": true
   },
   "outputs": [
    {
     "data": {
      "image/png": "[encoded data removed]",
      "text/plain": [
       "<Figure size 432x288 with 1 Axes>"
      ]
     },
     "metadata": {
      "needs_background": "light"
     },
     "output_type": "display_data"
    }
   ],
   "source": [
    "df.Exited.value_counts().plot(kind='bar');"
   ]
  },
  {
   "cell_type": "markdown",
   "metadata": {},
   "source": [
    "unbalanced datasets relates to the metrics used to evaluate their model. Using simpler metrics like accuracy score can be misleading. In a dataset with unbalanced classes, the classifier will always “predicts” the most common class without performing any analysis of the features and it will have a high accuracy rate, obviously not the correct one."
   ]
  },
  {
   "cell_type": "code",
   "execution_count": 7,
   "metadata": {},
   "outputs": [
    {
     "data": {
      "text/plain": [
       "CreditScore        0\n",
       "Gender             0\n",
       "Age                0\n",
       "Tenure             0\n",
       "Balance            0\n",
       "NumOfProducts      0\n",
       "HasCrCard          0\n",
       "IsActiveMember     0\n",
       "EstimatedSalary    0\n",
       "dtype: int64"
      ]
     },
     "execution_count": 7,
     "metadata": {},
     "output_type": "execute_result"
    }
   ],
   "source": [
    "X.isnull().sum()"
   ]
  },
  {
   "cell_type": "markdown",
   "metadata": {},
   "source": [
    "## Data splitting"
   ]
  },
  {
   "cell_type": "code",
   "execution_count": 9,
   "metadata": {},
   "outputs": [],
   "source": [
    "X_train, X_test, y_train, y_test=train_test_split(X,y, test_size=0.33, random_state=42)"
   ]
  },
  {
   "cell_type": "markdown",
   "metadata": {},
   "source": [
    "It is important to train the models on a different subset\n",
    "of the training data than the linear regression model to avoid\n",
    "overfitting, in particular if the total number of leaves is\n",
    "similar to the number of training samples."
   ]
  },
  {
   "cell_type": "code",
   "execution_count": 10,
   "metadata": {},
   "outputs": [],
   "source": [
    "X_train, X_val, y_train, y_val=train_test_split(X_train, y_train, test_size=0.2, random_state=23)"
   ]
  },
  {
   "cell_type": "code",
   "execution_count": 10,
   "metadata": {},
   "outputs": [],
   "source": [
    "# from sklearn.preprocessing import StandardScaler\n",
    "# scaler = StandardScaler()\n",
    "# scaler.fit(X_train)\n",
    "# X_train_set=scaler.transform(X_train_set)#train set scaled"
   ]
  },
  {
   "cell_type": "code",
   "execution_count": 11,
   "metadata": {},
   "outputs": [],
   "source": [
    "# X_val=scaler.transform(X_val)#validation set scaled"
   ]
  },
  {
   "cell_type": "code",
   "execution_count": 12,
   "metadata": {},
   "outputs": [],
   "source": [
    "# X_test=scaler.transform(X_test)#holdout dataset scaled"
   ]
  },
  {
   "cell_type": "markdown",
   "metadata": {},
   "source": [
    "# Modeling \n",
    "\n",
    "\n",
    "\n",
    "- GradientBoosting Classifier\n",
    "- Random Forest Classifier\n"
   ]
  },
  {
   "cell_type": "markdown",
   "metadata": {},
   "source": [
    "Skewed datasets are not uncommon. And they are tough to handle. Usual classification models and techniques often fail miserably when presented with such a problem. Although your model could get you to even a 99% accuracy on such cases, yet, if you are measuring yourself against a sensible metric such as the ROC Auc score, then you will face trouble getting up that leaderboard. This is because if the dataset is skewed"
   ]
  },
  {
   "cell_type": "markdown",
   "metadata": {},
   "source": [
    "Although the algorithm performs well in general, even on imbalanced classification datasets, it offers a way to tune the training algorithm to pay more attention to misclassification of the minority class for datasets with a skewed class distribution.\n",
    "\n",
    "This modified version of XGBoost is referred to as Class Weighted XGBoost or Cost-Sensitive XGBoost and can offer better performance on binary classification problems with a severe class imbalance."
   ]
  },
  {
   "cell_type": "code",
   "execution_count": 12,
   "metadata": {},
   "outputs": [
    {
     "data": {
      "text/plain": [
       "(0    4257\n",
       " 1    1103\n",
       " Name: Exited, dtype: int64,\n",
       " 0    1049\n",
       " 1     291\n",
       " Name: Exited, dtype: int64,\n",
       " 0    2657\n",
       " 1     643\n",
       " Name: Exited, dtype: int64)"
      ]
     },
     "execution_count": 12,
     "metadata": {},
     "output_type": "execute_result"
    }
   ],
   "source": [
    "y_train.value_counts(), y_val.value_counts(), y_test.value_counts()"
   ]
  },
  {
   "cell_type": "code",
   "execution_count": 13,
   "metadata": {},
   "outputs": [
    {
     "name": "stdout",
     "output_type": "stream",
     "text": [
      "Estimate: 3.605\n"
     ]
    }
   ],
   "source": [
    "# count examples in each class\n",
    "from collections import Counter\n",
    "counter = Counter(y_val)\n",
    "# estimate scale_pos_weight value\n",
    "estimate = counter[0] / counter[1]\n",
    "print('Estimate: %.3f' % estimate)"
   ]
  },
  {
   "cell_type": "markdown",
   "metadata": {},
   "source": [
    "## Decision Tree"
   ]
  },
  {
   "cell_type": "code",
   "execution_count": null,
   "metadata": {},
   "outputs": [],
   "source": []
  },
  {
   "cell_type": "markdown",
   "metadata": {},
   "source": [
    "## RandomForestClassifier "
   ]
  },
  {
   "cell_type": "code",
   "execution_count": 73,
   "metadata": {},
   "outputs": [
    {
     "name": "stdout",
     "output_type": "stream",
     "text": [
      "Mean ROC AUC: 0.84596 \n"
     ]
    }
   ],
   "source": [
    "from sklearn.ensemble import RandomForestClassifier\n",
    "# define model\n",
    "model = RandomForestClassifier(random_state=random_state)\n",
    "# define evaluation procedure\n",
    "cv = RepeatedStratifiedKFold(n_splits=10, n_repeats=3, random_state=1)\n",
    "# evaluate model\n",
    "scores = cross_val_score(model, X_train_set, y_train_set, scoring='accuracy', cv=cv, n_jobs=-1)\n",
    "# summarize performance\n",
    "#print('Mean ROC AUC: %.5f' % mean(scores))\n",
    "print(\"Mean ROC AUC: %.5f \" % (scores.mean()))"
   ]
  },
  {
   "cell_type": "markdown",
   "metadata": {},
   "source": [
    "## Tuning"
   ]
  },
  {
   "cell_type": "code",
   "execution_count": 74,
   "metadata": {},
   "outputs": [],
   "source": [
    "# define grid\n",
    "param_grid= {'n_estimators':[10,50,100,500,1000],'max_features':[3,5,7], 'max_depth':[3,5,7],'max_samples':[0.5,0.7,1.0],'class_weight':[{0:1,1:1}]}\n",
    "model =RandomForestClassifier(random_state=random_state, n_jobs=-1)"
   ]
  },
  {
   "cell_type": "code",
   "execution_count": 75,
   "metadata": {
    "scrolled": true
   },
   "outputs": [
    {
     "name": "stdout",
     "output_type": "stream",
     "text": [
      "Best: 0.850062 using {'class_weight': {0: 1, 1: 1}, 'max_depth': 5, 'max_features': 7, 'max_samples': 0.7, 'n_estimators': 500}\n",
      "0.830100 (0.012318) with: {'class_weight': {0: 1, 1: 1}, 'max_depth': 3, 'max_features': 3, 'max_samples': 0.5, 'n_estimators': 10}\n",
      "0.825187 (0.010266) with: {'class_weight': {0: 1, 1: 1}, 'max_depth': 3, 'max_features': 3, 'max_samples': 0.5, 'n_estimators': 50}\n",
      "0.826182 (0.009826) with: {'class_weight': {0: 1, 1: 1}, 'max_depth': 3, 'max_features': 3, 'max_samples': 0.5, 'n_estimators': 100}\n",
      "0.819279 (0.007984) with: {'class_weight': {0: 1, 1: 1}, 'max_depth': 3, 'max_features': 3, 'max_samples': 0.5, 'n_estimators': 500}\n",
      "0.819838 (0.008917) with: {'class_weight': {0: 1, 1: 1}, 'max_depth': 3, 'max_features': 3, 'max_samples': 0.5, 'n_estimators': 1000}\n",
      "0.830100 (0.012176) with: {'class_weight': {0: 1, 1: 1}, 'max_depth': 3, 'max_features': 3, 'max_samples': 0.7, 'n_estimators': 10}\n",
      "0.823756 (0.011698) with: {'class_weight': {0: 1, 1: 1}, 'max_depth': 3, 'max_features': 3, 'max_samples': 0.7, 'n_estimators': 50}\n",
      "0.826617 (0.009883) with: {'class_weight': {0: 1, 1: 1}, 'max_depth': 3, 'max_features': 3, 'max_samples': 0.7, 'n_estimators': 100}\n",
      "0.819652 (0.007920) with: {'class_weight': {0: 1, 1: 1}, 'max_depth': 3, 'max_features': 3, 'max_samples': 0.7, 'n_estimators': 500}\n",
      "0.820211 (0.008928) with: {'class_weight': {0: 1, 1: 1}, 'max_depth': 3, 'max_features': 3, 'max_samples': 0.7, 'n_estimators': 1000}\n",
      "nan (nan) with: {'class_weight': {0: 1, 1: 1}, 'max_depth': 3, 'max_features': 3, 'max_samples': 1.0, 'n_estimators': 10}\n",
      "nan (nan) with: {'class_weight': {0: 1, 1: 1}, 'max_depth': 3, 'max_features': 3, 'max_samples': 1.0, 'n_estimators': 50}\n",
      "nan (nan) with: {'class_weight': {0: 1, 1: 1}, 'max_depth': 3, 'max_features': 3, 'max_samples': 1.0, 'n_estimators': 100}\n",
      "nan (nan) with: {'class_weight': {0: 1, 1: 1}, 'max_depth': 3, 'max_features': 3, 'max_samples': 1.0, 'n_estimators': 500}\n",
      "nan (nan) with: {'class_weight': {0: 1, 1: 1}, 'max_depth': 3, 'max_features': 3, 'max_samples': 1.0, 'n_estimators': 1000}\n",
      "0.844963 (0.009245) with: {'class_weight': {0: 1, 1: 1}, 'max_depth': 3, 'max_features': 5, 'max_samples': 0.5, 'n_estimators': 10}\n",
      "0.847699 (0.008556) with: {'class_weight': {0: 1, 1: 1}, 'max_depth': 3, 'max_features': 5, 'max_samples': 0.5, 'n_estimators': 50}\n",
      "0.848881 (0.008217) with: {'class_weight': {0: 1, 1: 1}, 'max_depth': 3, 'max_features': 5, 'max_samples': 0.5, 'n_estimators': 100}\n",
      "0.846020 (0.007412) with: {'class_weight': {0: 1, 1: 1}, 'max_depth': 3, 'max_features': 5, 'max_samples': 0.5, 'n_estimators': 500}\n",
      "0.847015 (0.007194) with: {'class_weight': {0: 1, 1: 1}, 'max_depth': 3, 'max_features': 5, 'max_samples': 0.5, 'n_estimators': 1000}\n",
      "0.842537 (0.010461) with: {'class_weight': {0: 1, 1: 1}, 'max_depth': 3, 'max_features': 5, 'max_samples': 0.7, 'n_estimators': 10}\n",
      "0.846828 (0.008051) with: {'class_weight': {0: 1, 1: 1}, 'max_depth': 3, 'max_features': 5, 'max_samples': 0.7, 'n_estimators': 50}\n",
      "0.847823 (0.008227) with: {'class_weight': {0: 1, 1: 1}, 'max_depth': 3, 'max_features': 5, 'max_samples': 0.7, 'n_estimators': 100}\n",
      "0.846517 (0.008088) with: {'class_weight': {0: 1, 1: 1}, 'max_depth': 3, 'max_features': 5, 'max_samples': 0.7, 'n_estimators': 500}\n",
      "0.848197 (0.008024) with: {'class_weight': {0: 1, 1: 1}, 'max_depth': 3, 'max_features': 5, 'max_samples': 0.7, 'n_estimators': 1000}\n",
      "nan (nan) with: {'class_weight': {0: 1, 1: 1}, 'max_depth': 3, 'max_features': 5, 'max_samples': 1.0, 'n_estimators': 10}\n",
      "nan (nan) with: {'class_weight': {0: 1, 1: 1}, 'max_depth': 3, 'max_features': 5, 'max_samples': 1.0, 'n_estimators': 50}\n",
      "nan (nan) with: {'class_weight': {0: 1, 1: 1}, 'max_depth': 3, 'max_features': 5, 'max_samples': 1.0, 'n_estimators': 100}\n",
      "nan (nan) with: {'class_weight': {0: 1, 1: 1}, 'max_depth': 3, 'max_features': 5, 'max_samples': 1.0, 'n_estimators': 500}\n",
      "nan (nan) with: {'class_weight': {0: 1, 1: 1}, 'max_depth': 3, 'max_features': 5, 'max_samples': 1.0, 'n_estimators': 1000}\n",
      "0.846020 (0.009436) with: {'class_weight': {0: 1, 1: 1}, 'max_depth': 3, 'max_features': 7, 'max_samples': 0.5, 'n_estimators': 10}\n",
      "0.847948 (0.009338) with: {'class_weight': {0: 1, 1: 1}, 'max_depth': 3, 'max_features': 7, 'max_samples': 0.5, 'n_estimators': 50}\n",
      "0.848445 (0.009411) with: {'class_weight': {0: 1, 1: 1}, 'max_depth': 3, 'max_features': 7, 'max_samples': 0.5, 'n_estimators': 100}\n",
      "0.848072 (0.008969) with: {'class_weight': {0: 1, 1: 1}, 'max_depth': 3, 'max_features': 7, 'max_samples': 0.5, 'n_estimators': 500}\n",
      "0.848072 (0.009059) with: {'class_weight': {0: 1, 1: 1}, 'max_depth': 3, 'max_features': 7, 'max_samples': 0.5, 'n_estimators': 1000}\n",
      "0.847264 (0.009325) with: {'class_weight': {0: 1, 1: 1}, 'max_depth': 3, 'max_features': 7, 'max_samples': 0.7, 'n_estimators': 10}\n",
      "0.848134 (0.009508) with: {'class_weight': {0: 1, 1: 1}, 'max_depth': 3, 'max_features': 7, 'max_samples': 0.7, 'n_estimators': 50}\n",
      "0.848383 (0.009402) with: {'class_weight': {0: 1, 1: 1}, 'max_depth': 3, 'max_features': 7, 'max_samples': 0.7, 'n_estimators': 100}\n",
      "0.848383 (0.008816) with: {'class_weight': {0: 1, 1: 1}, 'max_depth': 3, 'max_features': 7, 'max_samples': 0.7, 'n_estimators': 500}\n",
      "0.848383 (0.009152) with: {'class_weight': {0: 1, 1: 1}, 'max_depth': 3, 'max_features': 7, 'max_samples': 0.7, 'n_estimators': 1000}\n",
      "nan (nan) with: {'class_weight': {0: 1, 1: 1}, 'max_depth': 3, 'max_features': 7, 'max_samples': 1.0, 'n_estimators': 10}\n",
      "nan (nan) with: {'class_weight': {0: 1, 1: 1}, 'max_depth': 3, 'max_features': 7, 'max_samples': 1.0, 'n_estimators': 50}\n",
      "nan (nan) with: {'class_weight': {0: 1, 1: 1}, 'max_depth': 3, 'max_features': 7, 'max_samples': 1.0, 'n_estimators': 100}\n",
      "nan (nan) with: {'class_weight': {0: 1, 1: 1}, 'max_depth': 3, 'max_features': 7, 'max_samples': 1.0, 'n_estimators': 500}\n",
      "nan (nan) with: {'class_weight': {0: 1, 1: 1}, 'max_depth': 3, 'max_features': 7, 'max_samples': 1.0, 'n_estimators': 1000}\n",
      "0.846828 (0.009590) with: {'class_weight': {0: 1, 1: 1}, 'max_depth': 5, 'max_features': 3, 'max_samples': 0.5, 'n_estimators': 10}\n",
      "0.847077 (0.008597) with: {'class_weight': {0: 1, 1: 1}, 'max_depth': 5, 'max_features': 3, 'max_samples': 0.5, 'n_estimators': 50}\n",
      "0.847575 (0.007725) with: {'class_weight': {0: 1, 1: 1}, 'max_depth': 5, 'max_features': 3, 'max_samples': 0.5, 'n_estimators': 100}\n",
      "0.847575 (0.007859) with: {'class_weight': {0: 1, 1: 1}, 'max_depth': 5, 'max_features': 3, 'max_samples': 0.5, 'n_estimators': 500}\n",
      "0.847886 (0.007926) with: {'class_weight': {0: 1, 1: 1}, 'max_depth': 5, 'max_features': 3, 'max_samples': 0.5, 'n_estimators': 1000}\n",
      "0.846393 (0.008278) with: {'class_weight': {0: 1, 1: 1}, 'max_depth': 5, 'max_features': 3, 'max_samples': 0.7, 'n_estimators': 10}\n",
      "0.847823 (0.008213) with: {'class_weight': {0: 1, 1: 1}, 'max_depth': 5, 'max_features': 3, 'max_samples': 0.7, 'n_estimators': 50}\n",
      "0.847761 (0.007953) with: {'class_weight': {0: 1, 1: 1}, 'max_depth': 5, 'max_features': 3, 'max_samples': 0.7, 'n_estimators': 100}\n",
      "0.847886 (0.007658) with: {'class_weight': {0: 1, 1: 1}, 'max_depth': 5, 'max_features': 3, 'max_samples': 0.7, 'n_estimators': 500}\n",
      "0.847823 (0.007627) with: {'class_weight': {0: 1, 1: 1}, 'max_depth': 5, 'max_features': 3, 'max_samples': 0.7, 'n_estimators': 1000}\n",
      "nan (nan) with: {'class_weight': {0: 1, 1: 1}, 'max_depth': 5, 'max_features': 3, 'max_samples': 1.0, 'n_estimators': 10}\n",
      "nan (nan) with: {'class_weight': {0: 1, 1: 1}, 'max_depth': 5, 'max_features': 3, 'max_samples': 1.0, 'n_estimators': 50}\n",
      "nan (nan) with: {'class_weight': {0: 1, 1: 1}, 'max_depth': 5, 'max_features': 3, 'max_samples': 1.0, 'n_estimators': 100}\n",
      "nan (nan) with: {'class_weight': {0: 1, 1: 1}, 'max_depth': 5, 'max_features': 3, 'max_samples': 1.0, 'n_estimators': 500}\n",
      "nan (nan) with: {'class_weight': {0: 1, 1: 1}, 'max_depth': 5, 'max_features': 3, 'max_samples': 1.0, 'n_estimators': 1000}\n",
      "0.845958 (0.008395) with: {'class_weight': {0: 1, 1: 1}, 'max_depth': 5, 'max_features': 5, 'max_samples': 0.5, 'n_estimators': 10}\n",
      "0.848632 (0.008983) with: {'class_weight': {0: 1, 1: 1}, 'max_depth': 5, 'max_features': 5, 'max_samples': 0.5, 'n_estimators': 50}\n",
      "0.849067 (0.008123) with: {'class_weight': {0: 1, 1: 1}, 'max_depth': 5, 'max_features': 5, 'max_samples': 0.5, 'n_estimators': 100}\n",
      "0.849565 (0.008024) with: {'class_weight': {0: 1, 1: 1}, 'max_depth': 5, 'max_features': 5, 'max_samples': 0.5, 'n_estimators': 500}\n",
      "0.849813 (0.008409) with: {'class_weight': {0: 1, 1: 1}, 'max_depth': 5, 'max_features': 5, 'max_samples': 0.5, 'n_estimators': 1000}\n",
      "0.847139 (0.009164) with: {'class_weight': {0: 1, 1: 1}, 'max_depth': 5, 'max_features': 5, 'max_samples': 0.7, 'n_estimators': 10}\n",
      "0.848756 (0.008737) with: {'class_weight': {0: 1, 1: 1}, 'max_depth': 5, 'max_features': 5, 'max_samples': 0.7, 'n_estimators': 50}\n",
      "0.849254 (0.008796) with: {'class_weight': {0: 1, 1: 1}, 'max_depth': 5, 'max_features': 5, 'max_samples': 0.7, 'n_estimators': 100}\n",
      "0.849627 (0.008183) with: {'class_weight': {0: 1, 1: 1}, 'max_depth': 5, 'max_features': 5, 'max_samples': 0.7, 'n_estimators': 500}\n",
      "0.849813 (0.008214) with: {'class_weight': {0: 1, 1: 1}, 'max_depth': 5, 'max_features': 5, 'max_samples': 0.7, 'n_estimators': 1000}\n",
      "nan (nan) with: {'class_weight': {0: 1, 1: 1}, 'max_depth': 5, 'max_features': 5, 'max_samples': 1.0, 'n_estimators': 10}\n",
      "nan (nan) with: {'class_weight': {0: 1, 1: 1}, 'max_depth': 5, 'max_features': 5, 'max_samples': 1.0, 'n_estimators': 50}\n",
      "nan (nan) with: {'class_weight': {0: 1, 1: 1}, 'max_depth': 5, 'max_features': 5, 'max_samples': 1.0, 'n_estimators': 100}\n",
      "nan (nan) with: {'class_weight': {0: 1, 1: 1}, 'max_depth': 5, 'max_features': 5, 'max_samples': 1.0, 'n_estimators': 500}\n",
      "nan (nan) with: {'class_weight': {0: 1, 1: 1}, 'max_depth': 5, 'max_features': 5, 'max_samples': 1.0, 'n_estimators': 1000}\n",
      "0.847637 (0.009481) with: {'class_weight': {0: 1, 1: 1}, 'max_depth': 5, 'max_features': 7, 'max_samples': 0.5, 'n_estimators': 10}\n",
      "0.849565 (0.008717) with: {'class_weight': {0: 1, 1: 1}, 'max_depth': 5, 'max_features': 7, 'max_samples': 0.5, 'n_estimators': 50}\n",
      "0.850000 (0.008877) with: {'class_weight': {0: 1, 1: 1}, 'max_depth': 5, 'max_features': 7, 'max_samples': 0.5, 'n_estimators': 100}\n",
      "0.850000 (0.008490) with: {'class_weight': {0: 1, 1: 1}, 'max_depth': 5, 'max_features': 7, 'max_samples': 0.5, 'n_estimators': 500}\n",
      "0.849876 (0.008627) with: {'class_weight': {0: 1, 1: 1}, 'max_depth': 5, 'max_features': 7, 'max_samples': 0.5, 'n_estimators': 1000}\n",
      "0.846953 (0.008889) with: {'class_weight': {0: 1, 1: 1}, 'max_depth': 5, 'max_features': 7, 'max_samples': 0.7, 'n_estimators': 10}\n",
      "0.849316 (0.008559) with: {'class_weight': {0: 1, 1: 1}, 'max_depth': 5, 'max_features': 7, 'max_samples': 0.7, 'n_estimators': 50}\n",
      "0.848881 (0.008232) with: {'class_weight': {0: 1, 1: 1}, 'max_depth': 5, 'max_features': 7, 'max_samples': 0.7, 'n_estimators': 100}\n",
      "0.850062 (0.008810) with: {'class_weight': {0: 1, 1: 1}, 'max_depth': 5, 'max_features': 7, 'max_samples': 0.7, 'n_estimators': 500}\n",
      "0.849813 (0.008721) with: {'class_weight': {0: 1, 1: 1}, 'max_depth': 5, 'max_features': 7, 'max_samples': 0.7, 'n_estimators': 1000}\n",
      "nan (nan) with: {'class_weight': {0: 1, 1: 1}, 'max_depth': 5, 'max_features': 7, 'max_samples': 1.0, 'n_estimators': 10}\n",
      "nan (nan) with: {'class_weight': {0: 1, 1: 1}, 'max_depth': 5, 'max_features': 7, 'max_samples': 1.0, 'n_estimators': 50}\n",
      "nan (nan) with: {'class_weight': {0: 1, 1: 1}, 'max_depth': 5, 'max_features': 7, 'max_samples': 1.0, 'n_estimators': 100}\n",
      "nan (nan) with: {'class_weight': {0: 1, 1: 1}, 'max_depth': 5, 'max_features': 7, 'max_samples': 1.0, 'n_estimators': 500}\n",
      "nan (nan) with: {'class_weight': {0: 1, 1: 1}, 'max_depth': 5, 'max_features': 7, 'max_samples': 1.0, 'n_estimators': 1000}\n",
      "0.847761 (0.009173) with: {'class_weight': {0: 1, 1: 1}, 'max_depth': 7, 'max_features': 3, 'max_samples': 0.5, 'n_estimators': 10}\n",
      "0.848321 (0.009392) with: {'class_weight': {0: 1, 1: 1}, 'max_depth': 7, 'max_features': 3, 'max_samples': 0.5, 'n_estimators': 50}\n",
      "0.848943 (0.008770) with: {'class_weight': {0: 1, 1: 1}, 'max_depth': 7, 'max_features': 3, 'max_samples': 0.5, 'n_estimators': 100}\n",
      "0.848570 (0.008261) with: {'class_weight': {0: 1, 1: 1}, 'max_depth': 7, 'max_features': 3, 'max_samples': 0.5, 'n_estimators': 500}\n",
      "0.848570 (0.008712) with: {'class_weight': {0: 1, 1: 1}, 'max_depth': 7, 'max_features': 3, 'max_samples': 0.5, 'n_estimators': 1000}\n",
      "0.846517 (0.008315) with: {'class_weight': {0: 1, 1: 1}, 'max_depth': 7, 'max_features': 3, 'max_samples': 0.7, 'n_estimators': 10}\n",
      "0.847575 (0.008792) with: {'class_weight': {0: 1, 1: 1}, 'max_depth': 7, 'max_features': 3, 'max_samples': 0.7, 'n_estimators': 50}\n",
      "0.848507 (0.008023) with: {'class_weight': {0: 1, 1: 1}, 'max_depth': 7, 'max_features': 3, 'max_samples': 0.7, 'n_estimators': 100}\n",
      "0.847637 (0.008675) with: {'class_weight': {0: 1, 1: 1}, 'max_depth': 7, 'max_features': 3, 'max_samples': 0.7, 'n_estimators': 500}\n",
      "0.848259 (0.008595) with: {'class_weight': {0: 1, 1: 1}, 'max_depth': 7, 'max_features': 3, 'max_samples': 0.7, 'n_estimators': 1000}\n",
      "nan (nan) with: {'class_weight': {0: 1, 1: 1}, 'max_depth': 7, 'max_features': 3, 'max_samples': 1.0, 'n_estimators': 10}\n",
      "nan (nan) with: {'class_weight': {0: 1, 1: 1}, 'max_depth': 7, 'max_features': 3, 'max_samples': 1.0, 'n_estimators': 50}\n",
      "nan (nan) with: {'class_weight': {0: 1, 1: 1}, 'max_depth': 7, 'max_features': 3, 'max_samples': 1.0, 'n_estimators': 100}\n",
      "nan (nan) with: {'class_weight': {0: 1, 1: 1}, 'max_depth': 7, 'max_features': 3, 'max_samples': 1.0, 'n_estimators': 500}\n",
      "nan (nan) with: {'class_weight': {0: 1, 1: 1}, 'max_depth': 7, 'max_features': 3, 'max_samples': 1.0, 'n_estimators': 1000}\n",
      "0.846704 (0.011642) with: {'class_weight': {0: 1, 1: 1}, 'max_depth': 7, 'max_features': 5, 'max_samples': 0.5, 'n_estimators': 10}\n",
      "0.849316 (0.009880) with: {'class_weight': {0: 1, 1: 1}, 'max_depth': 7, 'max_features': 5, 'max_samples': 0.5, 'n_estimators': 50}\n",
      "0.848756 (0.009789) with: {'class_weight': {0: 1, 1: 1}, 'max_depth': 7, 'max_features': 5, 'max_samples': 0.5, 'n_estimators': 100}\n",
      "0.849192 (0.009802) with: {'class_weight': {0: 1, 1: 1}, 'max_depth': 7, 'max_features': 5, 'max_samples': 0.5, 'n_estimators': 500}\n",
      "0.848943 (0.009925) with: {'class_weight': {0: 1, 1: 1}, 'max_depth': 7, 'max_features': 5, 'max_samples': 0.5, 'n_estimators': 1000}\n",
      "0.847326 (0.010478) with: {'class_weight': {0: 1, 1: 1}, 'max_depth': 7, 'max_features': 5, 'max_samples': 0.7, 'n_estimators': 10}\n",
      "0.848259 (0.009493) with: {'class_weight': {0: 1, 1: 1}, 'max_depth': 7, 'max_features': 5, 'max_samples': 0.7, 'n_estimators': 50}\n",
      "0.849129 (0.010351) with: {'class_weight': {0: 1, 1: 1}, 'max_depth': 7, 'max_features': 5, 'max_samples': 0.7, 'n_estimators': 100}\n",
      "0.848259 (0.009602) with: {'class_weight': {0: 1, 1: 1}, 'max_depth': 7, 'max_features': 5, 'max_samples': 0.7, 'n_estimators': 500}\n",
      "0.848632 (0.010261) with: {'class_weight': {0: 1, 1: 1}, 'max_depth': 7, 'max_features': 5, 'max_samples': 0.7, 'n_estimators': 1000}\n",
      "nan (nan) with: {'class_weight': {0: 1, 1: 1}, 'max_depth': 7, 'max_features': 5, 'max_samples': 1.0, 'n_estimators': 10}\n",
      "nan (nan) with: {'class_weight': {0: 1, 1: 1}, 'max_depth': 7, 'max_features': 5, 'max_samples': 1.0, 'n_estimators': 50}\n",
      "nan (nan) with: {'class_weight': {0: 1, 1: 1}, 'max_depth': 7, 'max_features': 5, 'max_samples': 1.0, 'n_estimators': 100}\n",
      "nan (nan) with: {'class_weight': {0: 1, 1: 1}, 'max_depth': 7, 'max_features': 5, 'max_samples': 1.0, 'n_estimators': 500}\n",
      "nan (nan) with: {'class_weight': {0: 1, 1: 1}, 'max_depth': 7, 'max_features': 5, 'max_samples': 1.0, 'n_estimators': 1000}\n",
      "0.847948 (0.010385) with: {'class_weight': {0: 1, 1: 1}, 'max_depth': 7, 'max_features': 7, 'max_samples': 0.5, 'n_estimators': 10}\n",
      "0.849751 (0.010822) with: {'class_weight': {0: 1, 1: 1}, 'max_depth': 7, 'max_features': 7, 'max_samples': 0.5, 'n_estimators': 50}\n",
      "0.850000 (0.011180) with: {'class_weight': {0: 1, 1: 1}, 'max_depth': 7, 'max_features': 7, 'max_samples': 0.5, 'n_estimators': 100}\n",
      "0.849876 (0.010982) with: {'class_weight': {0: 1, 1: 1}, 'max_depth': 7, 'max_features': 7, 'max_samples': 0.5, 'n_estimators': 500}\n",
      "0.849254 (0.010989) with: {'class_weight': {0: 1, 1: 1}, 'max_depth': 7, 'max_features': 7, 'max_samples': 0.5, 'n_estimators': 1000}\n",
      "0.846144 (0.011508) with: {'class_weight': {0: 1, 1: 1}, 'max_depth': 7, 'max_features': 7, 'max_samples': 0.7, 'n_estimators': 10}\n",
      "0.849378 (0.012561) with: {'class_weight': {0: 1, 1: 1}, 'max_depth': 7, 'max_features': 7, 'max_samples': 0.7, 'n_estimators': 50}\n",
      "0.848197 (0.011445) with: {'class_weight': {0: 1, 1: 1}, 'max_depth': 7, 'max_features': 7, 'max_samples': 0.7, 'n_estimators': 100}\n",
      "0.849129 (0.011427) with: {'class_weight': {0: 1, 1: 1}, 'max_depth': 7, 'max_features': 7, 'max_samples': 0.7, 'n_estimators': 500}\n",
      "0.849254 (0.011383) with: {'class_weight': {0: 1, 1: 1}, 'max_depth': 7, 'max_features': 7, 'max_samples': 0.7, 'n_estimators': 1000}\n",
      "nan (nan) with: {'class_weight': {0: 1, 1: 1}, 'max_depth': 7, 'max_features': 7, 'max_samples': 1.0, 'n_estimators': 10}\n",
      "nan (nan) with: {'class_weight': {0: 1, 1: 1}, 'max_depth': 7, 'max_features': 7, 'max_samples': 1.0, 'n_estimators': 50}\n",
      "nan (nan) with: {'class_weight': {0: 1, 1: 1}, 'max_depth': 7, 'max_features': 7, 'max_samples': 1.0, 'n_estimators': 100}\n",
      "nan (nan) with: {'class_weight': {0: 1, 1: 1}, 'max_depth': 7, 'max_features': 7, 'max_samples': 1.0, 'n_estimators': 500}\n",
      "nan (nan) with: {'class_weight': {0: 1, 1: 1}, 'max_depth': 7, 'max_features': 7, 'max_samples': 1.0, 'n_estimators': 1000}\n"
     ]
    }
   ],
   "source": [
    "# define evaluation procedure\n",
    "from sklearn.model_selection import GridSearchCV\n",
    "cv = RepeatedStratifiedKFold(n_splits=10, n_repeats=3, random_state=1)\n",
    "# define grid search\n",
    "grid = GridSearchCV(estimator=model, param_grid=param_grid, n_jobs=-1, cv=cv, scoring='accuracy')\n",
    "# execute the grid search\n",
    "grid_result = grid.fit(X_train_set, y_train_set)\n",
    "# report the best configuration\n",
    "print(\"Best: %f using %s\" % (grid_result.best_score_, grid_result.best_params_))\n",
    "# report all configurations\n",
    "means = grid_result.cv_results_['mean_test_score']\n",
    "stds = grid_result.cv_results_['std_test_score']\n",
    "params = grid_result.cv_results_['params']\n",
    "for mean, stdev, param in zip(means, stds, params):\n",
    "    print(\"%f (%f) with: %r\" % (mean, stdev, param))"
   ]
  },
  {
   "cell_type": "markdown",
   "metadata": {},
   "source": [
    "## Validation"
   ]
  },
  {
   "cell_type": "code",
   "execution_count": 76,
   "metadata": {
    "scrolled": false
   },
   "outputs": [],
   "source": [
    "#class_weight': {0: 1, 1: 1}, 'max_depth': 5, 'max_features': 7, 'max_samples': 0.7, 'n_estimators': 500}\n",
    "from sklearn.ensemble import RandomForestClassifier\n",
    "model= RandomForestClassifier(class_weight={0: 1, 1: 1}, n_estimators=500, max_depth=5, max_samples=0.7, random_state=44, max_features=7)\n",
    "model.fit(X_train_set, y_train_set)\n",
    "y_hat=model.predict(X_val)\n",
    "rf_proba=model.predict_proba(X_val)\n",
    "rf_probs=rf_proba[:,1]"
   ]
  },
  {
   "cell_type": "code",
   "execution_count": 77,
   "metadata": {
    "scrolled": false
   },
   "outputs": [
    {
     "name": "stdout",
     "output_type": "stream",
     "text": [
      "              precision    recall  f1-score   support\n",
      "\n",
      "           0       0.87      0.97      0.92      1059\n",
      "           1       0.81      0.45      0.58       281\n",
      "\n",
      "    accuracy                           0.86      1340\n",
      "   macro avg       0.84      0.71      0.75      1340\n",
      "weighted avg       0.86      0.86      0.85      1340\n",
      "\n"
     ]
    }
   ],
   "source": [
    "rf_class_report=classification_report(y_val, y_hat, digits=2)\n",
    "print(rf_class_report)\n"
   ]
  },
  {
   "cell_type": "code",
   "execution_count": 78,
   "metadata": {
    "scrolled": true
   },
   "outputs": [
    {
     "data": {
      "image/png": "[encoded data removed]",
      "text/plain": [
       "<Figure size 432x288 with 2 Axes>"
      ]
     },
     "metadata": {
      "needs_background": "light"
     },
     "output_type": "display_data"
    }
   ],
   "source": [
    "disp = plot_confusion_matrix(model, X_val, y_val,cmap=plt.cm.Blues)\n",
    "disp.ax_.set_title(\"Confusion matrix, without normalization\")\n",
    "plt.show()"
   ]
  },
  {
   "cell_type": "markdown",
   "metadata": {},
   "source": [
    "## GradientBoostingClassifier"
   ]
  },
  {
   "cell_type": "code",
   "execution_count": 79,
   "metadata": {},
   "outputs": [
    {
     "name": "stdout",
     "output_type": "stream",
     "text": [
      "Mean ROC AUC: 0.85075 \n"
     ]
    }
   ],
   "source": [
    "from sklearn.ensemble import GradientBoostingClassifier\n",
    "# define model\n",
    "model = GradientBoostingClassifier(random_state=1)\n",
    "# define evaluation procedure\n",
    "cv = RepeatedStratifiedKFold(n_splits=10, n_repeats=3, random_state=1)\n",
    "# evaluate model\n",
    "scores = cross_val_score(model, X_train_set, y_train_set, scoring='accuracy', cv=cv, n_jobs=-1)\n",
    "# summarize performance\n",
    "#print('Mean ROC AUC: %.5f' % mean(scores))\n",
    "print(\"Mean ROC AUC: %.5f \" % (scores.mean()))"
   ]
  },
  {
   "cell_type": "markdown",
   "metadata": {},
   "source": [
    "## Tuning\n"
   ]
  },
  {
   "cell_type": "code",
   "execution_count": 28,
   "metadata": {},
   "outputs": [],
   "source": [
    "# define grid\n",
    "param_grid_1 = {'n_estimators':[10,50,100,500],'learning_rate':[0.001,0.01,0.1,1.0],'max_depth':[3,7,9],'subsample':[0.5,0.7,1.0]}\n",
    "model = GradientBoostingClassifier(random_state=88)"
   ]
  },
  {
   "cell_type": "code",
   "execution_count": 29,
   "metadata": {
    "scrolled": true
   },
   "outputs": [
    {
     "name": "stdout",
     "output_type": "stream",
     "text": [
      "Best: 0.857500 using {'learning_rate': 0.1, 'max_depth': 3, 'n_estimators': 100, 'subsample': 1.0}\n",
      "0.794219 (0.000716) with: {'learning_rate': 0.001, 'max_depth': 3, 'n_estimators': 10, 'subsample': 0.5}\n",
      "0.794219 (0.000716) with: {'learning_rate': 0.001, 'max_depth': 3, 'n_estimators': 10, 'subsample': 0.7}\n",
      "0.794219 (0.000716) with: {'learning_rate': 0.001, 'max_depth': 3, 'n_estimators': 10, 'subsample': 1.0}\n",
      "0.794219 (0.000716) with: {'learning_rate': 0.001, 'max_depth': 3, 'n_estimators': 50, 'subsample': 0.5}\n",
      "0.794219 (0.000716) with: {'learning_rate': 0.001, 'max_depth': 3, 'n_estimators': 50, 'subsample': 0.7}\n",
      "0.794219 (0.000716) with: {'learning_rate': 0.001, 'max_depth': 3, 'n_estimators': 50, 'subsample': 1.0}\n",
      "0.794219 (0.000716) with: {'learning_rate': 0.001, 'max_depth': 3, 'n_estimators': 100, 'subsample': 0.5}\n",
      "0.794219 (0.000716) with: {'learning_rate': 0.001, 'max_depth': 3, 'n_estimators': 100, 'subsample': 0.7}\n",
      "0.794219 (0.000716) with: {'learning_rate': 0.001, 'max_depth': 3, 'n_estimators': 100, 'subsample': 1.0}\n",
      "0.794479 (0.001881) with: {'learning_rate': 0.001, 'max_depth': 3, 'n_estimators': 500, 'subsample': 0.5}\n",
      "0.794531 (0.001601) with: {'learning_rate': 0.001, 'max_depth': 3, 'n_estimators': 500, 'subsample': 0.7}\n",
      "0.794635 (0.002004) with: {'learning_rate': 0.001, 'max_depth': 3, 'n_estimators': 500, 'subsample': 1.0}\n",
      "0.794219 (0.000716) with: {'learning_rate': 0.001, 'max_depth': 7, 'n_estimators': 10, 'subsample': 0.5}\n",
      "0.794219 (0.000716) with: {'learning_rate': 0.001, 'max_depth': 7, 'n_estimators': 10, 'subsample': 0.7}\n",
      "0.794219 (0.000716) with: {'learning_rate': 0.001, 'max_depth': 7, 'n_estimators': 10, 'subsample': 1.0}\n",
      "0.794219 (0.000716) with: {'learning_rate': 0.001, 'max_depth': 7, 'n_estimators': 50, 'subsample': 0.5}\n",
      "0.794219 (0.000716) with: {'learning_rate': 0.001, 'max_depth': 7, 'n_estimators': 50, 'subsample': 0.7}\n",
      "0.794219 (0.000716) with: {'learning_rate': 0.001, 'max_depth': 7, 'n_estimators': 50, 'subsample': 1.0}\n",
      "0.794219 (0.000716) with: {'learning_rate': 0.001, 'max_depth': 7, 'n_estimators': 100, 'subsample': 0.5}\n",
      "0.794219 (0.000716) with: {'learning_rate': 0.001, 'max_depth': 7, 'n_estimators': 100, 'subsample': 0.7}\n",
      "0.794219 (0.000716) with: {'learning_rate': 0.001, 'max_depth': 7, 'n_estimators': 100, 'subsample': 1.0}\n",
      "0.806510 (0.003179) with: {'learning_rate': 0.001, 'max_depth': 7, 'n_estimators': 500, 'subsample': 0.5}\n",
      "0.807917 (0.004093) with: {'learning_rate': 0.001, 'max_depth': 7, 'n_estimators': 500, 'subsample': 0.7}\n",
      "0.809896 (0.004570) with: {'learning_rate': 0.001, 'max_depth': 7, 'n_estimators': 500, 'subsample': 1.0}\n",
      "0.794219 (0.000716) with: {'learning_rate': 0.001, 'max_depth': 9, 'n_estimators': 10, 'subsample': 0.5}\n",
      "0.794219 (0.000716) with: {'learning_rate': 0.001, 'max_depth': 9, 'n_estimators': 10, 'subsample': 0.7}\n",
      "0.794219 (0.000716) with: {'learning_rate': 0.001, 'max_depth': 9, 'n_estimators': 10, 'subsample': 1.0}\n",
      "0.794219 (0.000716) with: {'learning_rate': 0.001, 'max_depth': 9, 'n_estimators': 50, 'subsample': 0.5}\n",
      "0.794219 (0.000716) with: {'learning_rate': 0.001, 'max_depth': 9, 'n_estimators': 50, 'subsample': 0.7}\n",
      "0.794219 (0.000716) with: {'learning_rate': 0.001, 'max_depth': 9, 'n_estimators': 50, 'subsample': 1.0}\n",
      "0.794219 (0.000716) with: {'learning_rate': 0.001, 'max_depth': 9, 'n_estimators': 100, 'subsample': 0.5}\n",
      "0.794219 (0.000716) with: {'learning_rate': 0.001, 'max_depth': 9, 'n_estimators': 100, 'subsample': 0.7}\n",
      "0.794219 (0.000716) with: {'learning_rate': 0.001, 'max_depth': 9, 'n_estimators': 100, 'subsample': 1.0}\n",
      "0.810052 (0.003624) with: {'learning_rate': 0.001, 'max_depth': 9, 'n_estimators': 500, 'subsample': 0.5}\n",
      "0.813542 (0.004552) with: {'learning_rate': 0.001, 'max_depth': 9, 'n_estimators': 500, 'subsample': 0.7}\n",
      "0.817396 (0.007043) with: {'learning_rate': 0.001, 'max_depth': 9, 'n_estimators': 500, 'subsample': 1.0}\n",
      "0.794219 (0.000716) with: {'learning_rate': 0.01, 'max_depth': 3, 'n_estimators': 10, 'subsample': 0.5}\n",
      "0.794219 (0.000716) with: {'learning_rate': 0.01, 'max_depth': 3, 'n_estimators': 10, 'subsample': 0.7}\n",
      "0.794219 (0.000716) with: {'learning_rate': 0.01, 'max_depth': 3, 'n_estimators': 10, 'subsample': 1.0}\n",
      "0.795469 (0.002110) with: {'learning_rate': 0.01, 'max_depth': 3, 'n_estimators': 50, 'subsample': 0.5}\n",
      "0.795156 (0.002259) with: {'learning_rate': 0.01, 'max_depth': 3, 'n_estimators': 50, 'subsample': 0.7}\n",
      "0.794688 (0.001960) with: {'learning_rate': 0.01, 'max_depth': 3, 'n_estimators': 50, 'subsample': 1.0}\n",
      "0.842031 (0.009015) with: {'learning_rate': 0.01, 'max_depth': 3, 'n_estimators': 100, 'subsample': 0.5}\n",
      "0.841250 (0.009467) with: {'learning_rate': 0.01, 'max_depth': 3, 'n_estimators': 100, 'subsample': 0.7}\n",
      "0.839688 (0.009763) with: {'learning_rate': 0.01, 'max_depth': 3, 'n_estimators': 100, 'subsample': 1.0}\n",
      "0.856146 (0.007801) with: {'learning_rate': 0.01, 'max_depth': 3, 'n_estimators': 500, 'subsample': 0.5}\n",
      "0.855521 (0.008855) with: {'learning_rate': 0.01, 'max_depth': 3, 'n_estimators': 500, 'subsample': 0.7}\n",
      "0.854844 (0.008656) with: {'learning_rate': 0.01, 'max_depth': 3, 'n_estimators': 500, 'subsample': 1.0}\n",
      "0.794219 (0.000716) with: {'learning_rate': 0.01, 'max_depth': 7, 'n_estimators': 10, 'subsample': 0.5}\n",
      "0.794219 (0.000716) with: {'learning_rate': 0.01, 'max_depth': 7, 'n_estimators': 10, 'subsample': 0.7}\n",
      "0.794219 (0.000716) with: {'learning_rate': 0.01, 'max_depth': 7, 'n_estimators': 10, 'subsample': 1.0}\n",
      "0.810677 (0.004214) with: {'learning_rate': 0.01, 'max_depth': 7, 'n_estimators': 50, 'subsample': 0.5}\n",
      "0.810677 (0.003699) with: {'learning_rate': 0.01, 'max_depth': 7, 'n_estimators': 50, 'subsample': 0.7}\n",
      "0.810208 (0.004786) with: {'learning_rate': 0.01, 'max_depth': 7, 'n_estimators': 50, 'subsample': 1.0}\n",
      "0.848958 (0.008446) with: {'learning_rate': 0.01, 'max_depth': 7, 'n_estimators': 100, 'subsample': 0.5}\n",
      "0.847656 (0.008036) with: {'learning_rate': 0.01, 'max_depth': 7, 'n_estimators': 100, 'subsample': 0.7}\n",
      "0.845365 (0.007786) with: {'learning_rate': 0.01, 'max_depth': 7, 'n_estimators': 100, 'subsample': 1.0}\n",
      "0.853438 (0.009753) with: {'learning_rate': 0.01, 'max_depth': 7, 'n_estimators': 500, 'subsample': 0.5}\n",
      "0.851927 (0.009372) with: {'learning_rate': 0.01, 'max_depth': 7, 'n_estimators': 500, 'subsample': 0.7}\n",
      "0.849115 (0.008631) with: {'learning_rate': 0.01, 'max_depth': 7, 'n_estimators': 500, 'subsample': 1.0}\n",
      "0.794219 (0.000716) with: {'learning_rate': 0.01, 'max_depth': 9, 'n_estimators': 10, 'subsample': 0.5}\n",
      "0.794219 (0.000716) with: {'learning_rate': 0.01, 'max_depth': 9, 'n_estimators': 10, 'subsample': 0.7}\n",
      "0.794219 (0.000716) with: {'learning_rate': 0.01, 'max_depth': 9, 'n_estimators': 10, 'subsample': 1.0}\n",
      "0.812552 (0.005111) with: {'learning_rate': 0.01, 'max_depth': 9, 'n_estimators': 50, 'subsample': 0.5}\n",
      "0.816615 (0.004782) with: {'learning_rate': 0.01, 'max_depth': 9, 'n_estimators': 50, 'subsample': 0.7}\n",
      "0.818906 (0.006933) with: {'learning_rate': 0.01, 'max_depth': 9, 'n_estimators': 50, 'subsample': 1.0}\n",
      "0.847135 (0.008386) with: {'learning_rate': 0.01, 'max_depth': 9, 'n_estimators': 100, 'subsample': 0.5}\n",
      "0.845990 (0.007809) with: {'learning_rate': 0.01, 'max_depth': 9, 'n_estimators': 100, 'subsample': 0.7}\n",
      "0.841302 (0.008640) with: {'learning_rate': 0.01, 'max_depth': 9, 'n_estimators': 100, 'subsample': 1.0}\n",
      "0.850469 (0.009941) with: {'learning_rate': 0.01, 'max_depth': 9, 'n_estimators': 500, 'subsample': 0.5}\n",
      "0.849219 (0.008974) with: {'learning_rate': 0.01, 'max_depth': 9, 'n_estimators': 500, 'subsample': 0.7}\n",
      "0.843229 (0.008796) with: {'learning_rate': 0.01, 'max_depth': 9, 'n_estimators': 500, 'subsample': 1.0}\n",
      "0.842187 (0.008783) with: {'learning_rate': 0.1, 'max_depth': 3, 'n_estimators': 10, 'subsample': 0.5}\n",
      "0.841875 (0.009097) with: {'learning_rate': 0.1, 'max_depth': 3, 'n_estimators': 10, 'subsample': 0.7}\n",
      "0.842240 (0.009124) with: {'learning_rate': 0.1, 'max_depth': 3, 'n_estimators': 10, 'subsample': 1.0}\n",
      "0.856927 (0.008928) with: {'learning_rate': 0.1, 'max_depth': 3, 'n_estimators': 50, 'subsample': 0.5}\n",
      "0.855729 (0.008261) with: {'learning_rate': 0.1, 'max_depth': 3, 'n_estimators': 50, 'subsample': 0.7}\n",
      "0.855104 (0.008708) with: {'learning_rate': 0.1, 'max_depth': 3, 'n_estimators': 50, 'subsample': 1.0}\n",
      "0.856927 (0.007673) with: {'learning_rate': 0.1, 'max_depth': 3, 'n_estimators': 100, 'subsample': 0.5}\n",
      "0.856719 (0.008959) with: {'learning_rate': 0.1, 'max_depth': 3, 'n_estimators': 100, 'subsample': 0.7}\n",
      "0.857500 (0.009034) with: {'learning_rate': 0.1, 'max_depth': 3, 'n_estimators': 100, 'subsample': 1.0}\n",
      "0.845625 (0.010631) with: {'learning_rate': 0.1, 'max_depth': 3, 'n_estimators': 500, 'subsample': 0.5}\n",
      "0.848073 (0.011090) with: {'learning_rate': 0.1, 'max_depth': 3, 'n_estimators': 500, 'subsample': 0.7}\n",
      "0.848594 (0.010217) with: {'learning_rate': 0.1, 'max_depth': 3, 'n_estimators': 500, 'subsample': 1.0}\n",
      "0.847448 (0.008194) with: {'learning_rate': 0.1, 'max_depth': 7, 'n_estimators': 10, 'subsample': 0.5}\n",
      "0.847031 (0.008665) with: {'learning_rate': 0.1, 'max_depth': 7, 'n_estimators': 10, 'subsample': 0.7}\n",
      "0.845156 (0.008684) with: {'learning_rate': 0.1, 'max_depth': 7, 'n_estimators': 10, 'subsample': 1.0}\n",
      "0.851094 (0.009245) with: {'learning_rate': 0.1, 'max_depth': 7, 'n_estimators': 50, 'subsample': 0.5}\n",
      "0.850625 (0.008420) with: {'learning_rate': 0.1, 'max_depth': 7, 'n_estimators': 50, 'subsample': 0.7}\n",
      "0.845781 (0.008309) with: {'learning_rate': 0.1, 'max_depth': 7, 'n_estimators': 50, 'subsample': 1.0}\n",
      "0.844219 (0.011064) with: {'learning_rate': 0.1, 'max_depth': 7, 'n_estimators': 100, 'subsample': 0.5}\n",
      "0.847448 (0.009266) with: {'learning_rate': 0.1, 'max_depth': 7, 'n_estimators': 100, 'subsample': 0.7}\n",
      "0.844271 (0.007690) with: {'learning_rate': 0.1, 'max_depth': 7, 'n_estimators': 100, 'subsample': 1.0}\n",
      "0.838906 (0.010684) with: {'learning_rate': 0.1, 'max_depth': 7, 'n_estimators': 500, 'subsample': 0.5}\n",
      "0.842344 (0.010873) with: {'learning_rate': 0.1, 'max_depth': 7, 'n_estimators': 500, 'subsample': 0.7}\n",
      "0.841354 (0.009896) with: {'learning_rate': 0.1, 'max_depth': 7, 'n_estimators': 500, 'subsample': 1.0}\n",
      "0.844740 (0.009142) with: {'learning_rate': 0.1, 'max_depth': 9, 'n_estimators': 10, 'subsample': 0.5}\n",
      "0.844167 (0.010093) with: {'learning_rate': 0.1, 'max_depth': 9, 'n_estimators': 10, 'subsample': 0.7}\n",
      "0.842344 (0.008943) with: {'learning_rate': 0.1, 'max_depth': 9, 'n_estimators': 10, 'subsample': 1.0}\n",
      "0.844896 (0.009614) with: {'learning_rate': 0.1, 'max_depth': 9, 'n_estimators': 50, 'subsample': 0.5}\n",
      "0.846042 (0.010921) with: {'learning_rate': 0.1, 'max_depth': 9, 'n_estimators': 50, 'subsample': 0.7}\n",
      "0.840104 (0.008182) with: {'learning_rate': 0.1, 'max_depth': 9, 'n_estimators': 50, 'subsample': 1.0}\n",
      "0.845260 (0.011278) with: {'learning_rate': 0.1, 'max_depth': 9, 'n_estimators': 100, 'subsample': 0.5}\n",
      "0.843229 (0.009291) with: {'learning_rate': 0.1, 'max_depth': 9, 'n_estimators': 100, 'subsample': 0.7}\n",
      "0.841562 (0.009125) with: {'learning_rate': 0.1, 'max_depth': 9, 'n_estimators': 100, 'subsample': 1.0}\n",
      "0.841823 (0.011690) with: {'learning_rate': 0.1, 'max_depth': 9, 'n_estimators': 500, 'subsample': 0.5}\n",
      "0.843333 (0.010077) with: {'learning_rate': 0.1, 'max_depth': 9, 'n_estimators': 500, 'subsample': 0.7}\n",
      "0.842604 (0.009631) with: {'learning_rate': 0.1, 'max_depth': 9, 'n_estimators': 500, 'subsample': 1.0}\n",
      "0.841615 (0.010186) with: {'learning_rate': 1.0, 'max_depth': 3, 'n_estimators': 10, 'subsample': 0.5}\n",
      "0.847135 (0.009599) with: {'learning_rate': 1.0, 'max_depth': 3, 'n_estimators': 10, 'subsample': 0.7}\n",
      "0.848646 (0.008527) with: {'learning_rate': 1.0, 'max_depth': 3, 'n_estimators': 10, 'subsample': 1.0}\n",
      "0.823385 (0.009935) with: {'learning_rate': 1.0, 'max_depth': 3, 'n_estimators': 50, 'subsample': 0.5}\n",
      "0.828177 (0.011235) with: {'learning_rate': 1.0, 'max_depth': 3, 'n_estimators': 50, 'subsample': 0.7}\n",
      "0.829375 (0.012529) with: {'learning_rate': 1.0, 'max_depth': 3, 'n_estimators': 50, 'subsample': 1.0}\n",
      "0.813490 (0.013243) with: {'learning_rate': 1.0, 'max_depth': 3, 'n_estimators': 100, 'subsample': 0.5}\n",
      "0.816458 (0.011508) with: {'learning_rate': 1.0, 'max_depth': 3, 'n_estimators': 100, 'subsample': 0.7}\n",
      "0.818125 (0.012945) with: {'learning_rate': 1.0, 'max_depth': 3, 'n_estimators': 100, 'subsample': 1.0}\n",
      "0.796302 (0.017275) with: {'learning_rate': 1.0, 'max_depth': 3, 'n_estimators': 500, 'subsample': 0.5}\n",
      "0.803385 (0.015651) with: {'learning_rate': 1.0, 'max_depth': 3, 'n_estimators': 500, 'subsample': 0.7}\n",
      "0.809219 (0.014351) with: {'learning_rate': 1.0, 'max_depth': 3, 'n_estimators': 500, 'subsample': 1.0}\n",
      "0.790990 (0.016500) with: {'learning_rate': 1.0, 'max_depth': 7, 'n_estimators': 10, 'subsample': 0.5}\n",
      "0.801927 (0.011801) with: {'learning_rate': 1.0, 'max_depth': 7, 'n_estimators': 10, 'subsample': 0.7}\n",
      "0.810729 (0.013632) with: {'learning_rate': 1.0, 'max_depth': 7, 'n_estimators': 10, 'subsample': 1.0}\n",
      "0.757969 (0.022080) with: {'learning_rate': 1.0, 'max_depth': 7, 'n_estimators': 50, 'subsample': 0.5}\n",
      "0.783542 (0.018509) with: {'learning_rate': 1.0, 'max_depth': 7, 'n_estimators': 50, 'subsample': 0.7}\n",
      "0.812500 (0.013999) with: {'learning_rate': 1.0, 'max_depth': 7, 'n_estimators': 50, 'subsample': 1.0}\n",
      "0.730156 (0.053905) with: {'learning_rate': 1.0, 'max_depth': 7, 'n_estimators': 100, 'subsample': 0.5}\n",
      "0.770573 (0.023134) with: {'learning_rate': 1.0, 'max_depth': 7, 'n_estimators': 100, 'subsample': 0.7}\n",
      "0.820312 (0.010885) with: {'learning_rate': 1.0, 'max_depth': 7, 'n_estimators': 100, 'subsample': 1.0}\n",
      "0.609167 (0.096218) with: {'learning_rate': 1.0, 'max_depth': 7, 'n_estimators': 500, 'subsample': 0.5}\n",
      "0.756250 (0.027858) with: {'learning_rate': 1.0, 'max_depth': 7, 'n_estimators': 500, 'subsample': 0.7}\n",
      "0.833490 (0.009595) with: {'learning_rate': 1.0, 'max_depth': 7, 'n_estimators': 500, 'subsample': 1.0}\n",
      "0.770365 (0.014380) with: {'learning_rate': 1.0, 'max_depth': 9, 'n_estimators': 10, 'subsample': 0.5}\n",
      "0.783698 (0.016490) with: {'learning_rate': 1.0, 'max_depth': 9, 'n_estimators': 10, 'subsample': 0.7}\n",
      "0.797604 (0.012807) with: {'learning_rate': 1.0, 'max_depth': 9, 'n_estimators': 10, 'subsample': 1.0}\n",
      "0.695312 (0.067029) with: {'learning_rate': 1.0, 'max_depth': 9, 'n_estimators': 50, 'subsample': 0.5}\n",
      "0.775260 (0.015889) with: {'learning_rate': 1.0, 'max_depth': 9, 'n_estimators': 50, 'subsample': 0.7}\n",
      "0.822917 (0.014896) with: {'learning_rate': 1.0, 'max_depth': 9, 'n_estimators': 50, 'subsample': 1.0}\n",
      "0.600885 (0.066953) with: {'learning_rate': 1.0, 'max_depth': 9, 'n_estimators': 100, 'subsample': 0.5}\n",
      "0.754010 (0.022059) with: {'learning_rate': 1.0, 'max_depth': 9, 'n_estimators': 100, 'subsample': 0.7}\n",
      "0.831302 (0.012167) with: {'learning_rate': 1.0, 'max_depth': 9, 'n_estimators': 100, 'subsample': 1.0}\n",
      "0.568854 (0.068997) with: {'learning_rate': 1.0, 'max_depth': 9, 'n_estimators': 500, 'subsample': 0.5}\n",
      "0.732917 (0.029176) with: {'learning_rate': 1.0, 'max_depth': 9, 'n_estimators': 500, 'subsample': 0.7}\n",
      "0.839167 (0.008624) with: {'learning_rate': 1.0, 'max_depth': 9, 'n_estimators': 500, 'subsample': 1.0}\n"
     ]
    }
   ],
   "source": [
    "# define evaluation procedure\n",
    "from sklearn.model_selection import GridSearchCV\n",
    "cv = RepeatedStratifiedKFold(n_splits=10, n_repeats=3, random_state=1)\n",
    "# define grid search\n",
    "grid = GridSearchCV(estimator=model, param_grid=param_grid_1, n_jobs=-1, cv=cv, scoring='accuracy')\n",
    "# execute the grid search\n",
    "grid_result = grid.fit(X_train_set, y_train_set)\n",
    "# report the best configuration\n",
    "print(\"Best: %f using %s\" % (grid_result.best_score_, grid_result.best_params_))\n",
    "# report all configurations\n",
    "means = grid_result.cv_results_['mean_test_score']\n",
    "stds = grid_result.cv_results_['std_test_score']\n",
    "params = grid_result.cv_results_['params']\n",
    "for mean, stdev, param in zip(means, stds, params):\n",
    "    print(\"%f (%f) with: %r\" % (mean, stdev, param))"
   ]
  },
  {
   "cell_type": "markdown",
   "metadata": {},
   "source": [
    "## Validation set"
   ]
  },
  {
   "cell_type": "code",
   "execution_count": 80,
   "metadata": {
    "scrolled": false
   },
   "outputs": [],
   "source": [
    "#Best: 0.857500 using {'learning_rate': 0.1, 'max_depth': 3, 'n_estimators': 100, 'subsample': 1.0}\n",
    "model=GradientBoostingClassifier(loss='exponential')\n",
    "model.fit(X_train_set, y_train_set)\n",
    "y_hat=model.predict(X_val)\n",
    "gb_proba=model.predict_proba(X_val)\n",
    "gb_probs=gb_proba[:,1]"
   ]
  },
  {
   "cell_type": "code",
   "execution_count": 81,
   "metadata": {
    "scrolled": true
   },
   "outputs": [
    {
     "name": "stdout",
     "output_type": "stream",
     "text": [
      "              precision    recall  f1-score   support\n",
      "\n",
      "           0       0.87      0.97      0.92      1059\n",
      "           1       0.78      0.46      0.58       281\n",
      "\n",
      "    accuracy                           0.86      1340\n",
      "   macro avg       0.82      0.71      0.75      1340\n",
      "weighted avg       0.85      0.86      0.85      1340\n",
      "\n"
     ]
    }
   ],
   "source": [
    "gb_clf_class_report=classification_report(y_val, y_hat, digits=2)\n",
    "print(gb_clf_class_report)"
   ]
  },
  {
   "cell_type": "code",
   "execution_count": 82,
   "metadata": {
    "scrolled": true
   },
   "outputs": [
    {
     "data": {
      "image/png": "[encoded data removed]",
      "text/plain": [
       "<Figure size 432x288 with 2 Axes>"
      ]
     },
     "metadata": {
      "needs_background": "light"
     },
     "output_type": "display_data"
    }
   ],
   "source": [
    "disp = plot_confusion_matrix(model, X_val, y_val,cmap=plt.cm.Blues)\n",
    "disp.ax_.set_title(\"Confusion matrix, without normalization\")\n",
    "plt.show()"
   ]
  },
  {
   "cell_type": "markdown",
   "metadata": {},
   "source": [
    "## ROC curve\n",
    "\n",
    "The ROC Curve is a useful diagnostic tool for understanding the trade-off for different thresholds and the ROC AUC provides a useful number for comparing models based on their general capabilities.\n",
    "\n",
    "If crisp class labels are required from a model under such an analysis, then an optimal threshold is required. This would be a threshold on the curve that is closest to the top-left of the plot."
   ]
  },
  {
   "cell_type": "code",
   "execution_count": 84,
   "metadata": {},
   "outputs": [
    {
     "name": "stdout",
     "output_type": "stream",
     "text": [
      "0.839792122427994 0.8379589957624697\n"
     ]
    }
   ],
   "source": [
    "from sklearn.metrics import roc_auc_score\n",
    "\n",
    "# auc scores\n",
    "gb_auc_score = roc_auc_score(y_val, gb_probs)\n",
    "#log_auc_score = roc_auc_score(y_val, lr_probs)\n",
    "rf_auc_score = roc_auc_score(y_val, rf_probs)\n",
    "\n",
    "print(gb_auc_score, rf_auc_score)"
   ]
  },
  {
   "cell_type": "code",
   "execution_count": 220,
   "metadata": {},
   "outputs": [],
   "source": [
    "from sklearn.metrics import roc_curve\n",
    "\n",
    "# roc curve for models\n",
    "fpr1, tpr1, thresh1 = roc_curve(y_val, gb_probs, pos_label=1)\n",
    "fpr2, tpr2, thresh2 = roc_curve(y_val, lr_probs, pos_label=1)\n",
    "fpr3, tpr3, thresh3 = roc_curve(y_val, rf_probs, pos_label=1)\n",
    "\n",
    "# roc curve for tpr = fpr \n",
    "random_probs = [0 for i in range(len(y_val))]\n",
    "p_fpr, p_tpr, _ = roc_curve(y_val, random_probs, pos_label=1)"
   ]
  },
  {
   "cell_type": "code",
   "execution_count": 223,
   "metadata": {
    "scrolled": true
   },
   "outputs": [
    {
     "data": {
      "image/png": "[encoded data removed]",
      "text/plain": [
       "<Figure size 576x396 with 1 Axes>"
      ]
     },
     "metadata": {},
     "output_type": "display_data"
    },
    {
     "data": {
      "image/png": "[encoded data removed]",
      "text/plain": [
       "<Figure size 576x396 with 1 Axes>"
      ]
     },
     "metadata": {},
     "output_type": "display_data"
    }
   ],
   "source": [
    "# matplotlib\n",
    "import matplotlib.pyplot as plt\n",
    "#plt.style.use('seaborn')\n",
    "\n",
    "# plot roc curves\n",
    "plt.figure(1)\n",
    "plt.plot(fpr1, tpr1, linestyle='--',color='orange', label='GradientBoost')\n",
    "plt.plot(fpr2, tpr2, linestyle='--',color='green', label='LogisticRegtession')\n",
    "plt.plot(fpr3, tpr3, linestyle='--',color='red', label='RandomForest')\n",
    "plt.plot(p_fpr, p_tpr, linestyle='--', color='blue')\n",
    "# title\n",
    "plt.title('ROC curve')\n",
    "# x label\n",
    "plt.xlabel('False Positive Rate')\n",
    "# y label\n",
    "plt.ylabel('True Positive rate')\n",
    "\n",
    "plt.legend(loc='best')\n",
    "plt.savefig('ROC',dpi=200)\n",
    "plt.show();\n",
    "\n",
    "plt.figure(2)\n",
    "plt.xlim(0, 0.4)\n",
    "plt.ylim(0.4, 1)\n",
    "plt.plot(fpr1, tpr1, linestyle='--',color='orange', label='GradientBoost')\n",
    "plt.plot(fpr2, tpr2, linestyle='--',color='green', label='LogisticRegression')\n",
    "plt.plot(fpr3, tpr3, linestyle='--',color='red', label='RandomForest')\n",
    "plt.plot(p_fpr, p_tpr, linestyle='--', color='blue')\n",
    "# title\n",
    "plt.title('ROC curve')\n",
    "# x label\n",
    "plt.xlabel('False Positive Rate')\n",
    "# y label\n",
    "plt.ylabel('True Positive rate')\n",
    "\n",
    "plt.legend(loc='best')\n",
    "plt.savefig('ROCzoom',dpi=200)\n",
    "plt.show();"
   ]
  },
  {
   "cell_type": "markdown",
   "metadata": {},
   "source": [
    "### not sure if I need it"
   ]
  },
  {
   "cell_type": "markdown",
   "metadata": {},
   "source": [
    "## Threshold setting\n",
    "\n",
    "There are many ways we could locate the threshold with the optimal balance between false positive and true positive rates.\n",
    "\n",
    "Firstly, the true positive rate is called the Sensitivity. The inverse of the false-positive rate is called the Specificity.\n",
    "\n",
    "- Sensitivity = TruePositive / (TruePositive + FalseNegative)\n",
    "- Specificity = TrueNegative / (FalsePositive + TrueNegative)\n",
    "- Where:\n",
    "- Sensitivity = True Positive Rate \n",
    "- Specificity = 1 – False Positive Rate"
   ]
  },
  {
   "cell_type": "markdown",
   "metadata": {},
   "source": [
    "The Geometric Mean or G-Mean is a metric for imbalanced classification that, if optimized, will seek a balance between the sensitivity and the specificity.\n",
    "\n",
    "G-Mean = sqrt(Sensitivity * Specificity)"
   ]
  },
  {
   "cell_type": "code",
   "execution_count": 42,
   "metadata": {
    "scrolled": true
   },
   "outputs": [],
   "source": [
    "# calculate the g-mean for each threshold\n",
    "from numpy import argmax\n",
    "from numpy import sqrt"
   ]
  },
  {
   "cell_type": "markdown",
   "metadata": {},
   "source": [
    "We can also re-draw the ROC Curve and highlight this point."
   ]
  },
  {
   "cell_type": "code",
   "execution_count": 43,
   "metadata": {
    "scrolled": true
   },
   "outputs": [
    {
     "name": "stdout",
     "output_type": "stream",
     "text": [
      "Best Threshold GBC=0.188927, G-Mean=0.776\n",
      "Best Threshold Log =0.622309, G-Mean=0.723\n",
      "Best Threshold RF=0.495407, G-Mean=0.780\n"
     ]
    },
    {
     "data": {
      "image/png": "[encoded data removed]",
      "text/plain": [
       "<Figure size 432x288 with 1 Axes>"
      ]
     },
     "metadata": {
      "needs_background": "light"
     },
     "output_type": "display_data"
    },
    {
     "data": {
      "image/png": "[encoded data removed]",
      "text/plain": [
       "<Figure size 432x288 with 1 Axes>"
      ]
     },
     "metadata": {
      "needs_background": "light"
     },
     "output_type": "display_data"
    }
   ],
   "source": [
    "# plot roc curves\n",
    "plt.figure(1)\n",
    "# calculate the g-mean for each threshold\n",
    "gmeans_gbc = sqrt(tpr1 * (1-fpr1))\n",
    "gmeans_log = sqrt(tpr2 * (1-fpr2))\n",
    "gmeans_rf = sqrt(tpr3 * (1-fpr3))\n",
    "# locate the index of the largest g-mean\n",
    "ix1 = argmax(gmeans_gbc)\n",
    "ix2 = argmax(gmeans_log)\n",
    "ix3 = argmax(gmeans_rf)\n",
    "print('Best Threshold GBC=%f, G-Mean=%.3f' % (thresh1[ix1], gmeans_gbc[ix1]))\n",
    "print('Best Threshold Log =%f, G-Mean=%.3f' % (thresh2[ix2], gmeans_log[ix2]))\n",
    "print('Best Threshold RF=%f, G-Mean=%.3f' % (thresh3[ix3], gmeans_rf[ix3]))\n",
    "plt.plot(fpr1, tpr1, linestyle='--',color='orange', label='GradientBoost')\n",
    "plt.plot(fpr2, tpr2, linestyle='--',color='green', label='Logistic')\n",
    "plt.plot(fpr3, tpr3, linestyle='--',color='red', label='RandomForest')\n",
    "plt.plot(p_fpr, p_tpr, linestyle='--', color='blue')\n",
    "plt.scatter(fpr1[ix1], tpr1[ix1], marker='o', color='black', label='Best')\n",
    "plt.scatter(fpr2[ix2], tpr2[ix2], marker='o', color='black', label='Best')\n",
    "plt.scatter(fpr3[ix3], tpr3[ix3], marker='o', color='black', label='Best')\n",
    "# title\n",
    "plt.title('ROC curve')\n",
    "# x label\n",
    "plt.xlabel('False Positive Rate')\n",
    "# y label\n",
    "plt.ylabel('True Positive rate')\n",
    "\n",
    "plt.legend(loc='best')\n",
    "plt.savefig('ROCbest',dpi=200)\n",
    "plt.show();\n",
    "\n",
    "plt.figure(2)\n",
    "plt.xlim(0.1, 0.3)\n",
    "plt.ylim(0.6, 1)\n",
    "plt.plot(fpr1, tpr1, linestyle='--',color='orange', label='GradientBoost')\n",
    "plt.plot(fpr2, tpr2, linestyle='--',color='green', label='Logistic')\n",
    "plt.plot(fpr3, tpr3, linestyle='--',color='red', label='RandomForest')\n",
    "plt.plot(p_fpr, p_tpr, linestyle='--', color='blue')\n",
    "plt.scatter(fpr1[ix1], tpr1[ix1], marker='o', color='black', label='Best')\n",
    "plt.scatter(fpr2[ix2], tpr2[ix2], marker='o', color='black', label='Best')\n",
    "plt.scatter(fpr3[ix3], tpr3[ix3], marker='o', color='black', label='Best')\n",
    "# title\n",
    "plt.title('ROC curve')\n",
    "# x label\n",
    "plt.xlabel('False Positive Rate')\n",
    "# y label\n",
    "plt.ylabel('True Positive rate')\n",
    "\n",
    "plt.legend(loc='best')\n",
    "plt.savefig('ROCbestzoom',dpi=200)\n",
    "plt.show();"
   ]
  }
 ],
 "metadata": {
  "kernelspec": {
   "display_name": "Python 3",
   "language": "python",
   "name": "python3"
  },
  "language_info": {
   "codemirror_mode": {
    "name": "ipython",
    "version": 3
   },
   "file_extension": ".py",
   "mimetype": "text/x-python",
   "name": "python",
   "nbconvert_exporter": "python",
   "pygments_lexer": "ipython3",
   "version": "3.7.7"
  }
 },
 "nbformat": 4,
 "nbformat_minor": 4
}
