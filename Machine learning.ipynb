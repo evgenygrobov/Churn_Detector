{
 "cells": [
  {
   "cell_type": "code",
   "execution_count": 2,
   "metadata": {},
   "outputs": [],
   "source": [
    "import pandas as pd\n",
    "import numpy as np\n",
    "\n",
    "import seaborn as sns\n",
    "sns.set(style=\"white\")\n",
    "import matplotlib.pyplot as plt\n",
    "import matplotlib as mpl\n",
    "\n",
    "import sklearn\n",
    "from sklearn.preprocessing import StandardScaler, normalize\n",
    "from sklearn.model_selection import train_test_split, KFold\n",
    "from sklearn.metrics import(accuracy_score, roc_auc_score, f1_score, plot_confusion_matrix,\n",
    "                            recall_score, confusion_matrix, precision_score, classification_report)\n",
    "from sklearn.discriminant_analysis import QuadraticDiscriminantAnalysis\n",
    "from sklearn.discriminant_analysis import LinearDiscriminantAnalysis\n",
    "from sklearn.linear_model import LogisticRegression  \n",
    "from sklearn.neighbors import KNeighborsClassifier\n",
    "from sklearn.svm import SVC\n",
    "from sklearn.tree import DecisionTreeClassifier \n",
    "from sklearn.model_selection import RandomizedSearchCV\n",
    "from sklearn.ensemble import RandomForestClassifier,AdaBoostClassifier,GradientBoostingClassifier\n",
    "from sklearn.model_selection import train_test_split\n",
    "from sklearn import preprocessing\n",
    "from IPython.display import display, HTML\n",
    "\n",
    "#global variable\n",
    "random_state=42\n",
    "\n",
    "%matplotlib inline"
   ]
  },
  {
   "cell_type": "code",
   "execution_count": 3,
   "metadata": {
    "scrolled": true
   },
   "outputs": [
    {
     "data": {
      "text/html": [
       "<div>\n",
       "<style scoped>\n",
       "    .dataframe tbody tr th:only-of-type {\n",
       "        vertical-align: middle;\n",
       "    }\n",
       "\n",
       "    .dataframe tbody tr th {\n",
       "        vertical-align: top;\n",
       "    }\n",
       "\n",
       "    .dataframe thead th {\n",
       "        text-align: right;\n",
       "    }\n",
       "</style>\n",
       "<table border=\"1\" class=\"dataframe\">\n",
       "  <thead>\n",
       "    <tr style=\"text-align: right;\">\n",
       "      <th></th>\n",
       "      <th>CreditScore</th>\n",
       "      <th>Gender</th>\n",
       "      <th>Age</th>\n",
       "      <th>Tenure</th>\n",
       "      <th>Balance</th>\n",
       "      <th>NumOfProducts</th>\n",
       "      <th>HasCrCard</th>\n",
       "      <th>IsActiveMember</th>\n",
       "      <th>EstimatedSalary</th>\n",
       "      <th>Exited</th>\n",
       "    </tr>\n",
       "  </thead>\n",
       "  <tbody>\n",
       "    <tr>\n",
       "      <th>0</th>\n",
       "      <td>619</td>\n",
       "      <td>Female</td>\n",
       "      <td>42</td>\n",
       "      <td>2</td>\n",
       "      <td>0.00</td>\n",
       "      <td>1</td>\n",
       "      <td>1</td>\n",
       "      <td>1</td>\n",
       "      <td>101348.88</td>\n",
       "      <td>1</td>\n",
       "    </tr>\n",
       "    <tr>\n",
       "      <th>1</th>\n",
       "      <td>608</td>\n",
       "      <td>Female</td>\n",
       "      <td>41</td>\n",
       "      <td>1</td>\n",
       "      <td>83807.86</td>\n",
       "      <td>1</td>\n",
       "      <td>0</td>\n",
       "      <td>1</td>\n",
       "      <td>112542.58</td>\n",
       "      <td>0</td>\n",
       "    </tr>\n",
       "    <tr>\n",
       "      <th>2</th>\n",
       "      <td>502</td>\n",
       "      <td>Female</td>\n",
       "      <td>42</td>\n",
       "      <td>8</td>\n",
       "      <td>159660.80</td>\n",
       "      <td>3</td>\n",
       "      <td>1</td>\n",
       "      <td>0</td>\n",
       "      <td>113931.57</td>\n",
       "      <td>1</td>\n",
       "    </tr>\n",
       "  </tbody>\n",
       "</table>\n",
       "</div>"
      ],
      "text/plain": [
       "   CreditScore  Gender  Age  Tenure    Balance  NumOfProducts  HasCrCard  \\\n",
       "0          619  Female   42       2       0.00              1          1   \n",
       "1          608  Female   41       1   83807.86              1          0   \n",
       "2          502  Female   42       8  159660.80              3          1   \n",
       "\n",
       "   IsActiveMember  EstimatedSalary  Exited  \n",
       "0               1        101348.88       1  \n",
       "1               1        112542.58       0  \n",
       "2               0        113931.57       1  "
      ]
     },
     "execution_count": 3,
     "metadata": {},
     "output_type": "execute_result"
    }
   ],
   "source": [
    "df=pd.read_csv('./data/churn.csv').drop(columns=['RowNumber','Surname', 'CustomerId', 'Geography'], axis=1)\n",
    "df.head(3)"
   ]
  },
  {
   "cell_type": "code",
   "execution_count": 4,
   "metadata": {},
   "outputs": [],
   "source": [
    "df['Gender']=df['Gender'].apply(lambda x: 0 if x=='Female' else 1)"
   ]
  },
  {
   "cell_type": "code",
   "execution_count": 5,
   "metadata": {},
   "outputs": [],
   "source": [
    "y = df[\"Exited\"]\n",
    "X = df.drop([\"Exited\"], axis = 1)"
   ]
  },
  {
   "cell_type": "code",
   "execution_count": 6,
   "metadata": {},
   "outputs": [
    {
     "data": {
      "text/plain": [
       "((10000,), (10000, 9))"
      ]
     },
     "execution_count": 6,
     "metadata": {},
     "output_type": "execute_result"
    }
   ],
   "source": [
    "y.shape, X.shape"
   ]
  },
  {
   "cell_type": "code",
   "execution_count": 7,
   "metadata": {
    "scrolled": true
   },
   "outputs": [
    {
     "data": {
      "text/plain": [
       "0    7963\n",
       "1    2037\n",
       "Name: Exited, dtype: int64"
      ]
     },
     "execution_count": 7,
     "metadata": {},
     "output_type": "execute_result"
    }
   ],
   "source": [
    "df.Exited.value_counts()"
   ]
  },
  {
   "cell_type": "markdown",
   "metadata": {},
   "source": [
    "unbalanced datasets relates to the metrics used to evaluate their model. Using simpler metrics like accuracy score can be misleading. In a dataset with highly unbalanced classes, the classifier will always “predicts” the most common class without performing any analysis of the features and it will have a high accuracy rate, obviously not the correct one."
   ]
  },
  {
   "cell_type": "markdown",
   "metadata": {},
   "source": [
    "## Data splitting"
   ]
  },
  {
   "cell_type": "code",
   "execution_count": 8,
   "metadata": {},
   "outputs": [],
   "source": [
    "X_train, X_test, y_train, y_test=train_test_split(X,y, test_size=0.2, random_state=random_state)"
   ]
  },
  {
   "cell_type": "markdown",
   "metadata": {},
   "source": [
    "It is important to train the models on a different subset\n",
    "of the training data than the linear regression model to avoid\n",
    "overfitting, in particular if the total number of leaves is\n",
    "similar to the number of training samples."
   ]
  },
  {
   "cell_type": "code",
   "execution_count": 9,
   "metadata": {},
   "outputs": [],
   "source": [
    "X_train_set, X_val, y_train_set, y_val=train_test_split(X_train, y_train, test_size=0.2, random_state=random_state)"
   ]
  },
  {
   "cell_type": "code",
   "execution_count": 10,
   "metadata": {},
   "outputs": [],
   "source": [
    "from sklearn.preprocessing import StandardScaler\n",
    "scaler = StandardScaler()\n",
    "scaler.fit(X_train_set)\n",
    "X_train_set=scaler.transform(X_train_set)#train set scaled"
   ]
  },
  {
   "cell_type": "code",
   "execution_count": 11,
   "metadata": {},
   "outputs": [],
   "source": [
    "X_val=scaler.transform(X_val)#validation set scaled"
   ]
  },
  {
   "cell_type": "code",
   "execution_count": 12,
   "metadata": {},
   "outputs": [],
   "source": [
    "X_test=scaler.transform(X_test)#original dataset scaled"
   ]
  },
  {
   "cell_type": "markdown",
   "metadata": {},
   "source": [
    "# Modeling \n",
    "\n",
    "- XGBoost\n",
    "- Logistic Classifier\n",
    "- AdaBoost Classifier\n",
    "- GradientBoosting Classifier\n",
    "- Decision Tree Classifier\n",
    "- Random Forest Classifier\n",
    "- KNN Classifier"
   ]
  },
  {
   "cell_type": "markdown",
   "metadata": {},
   "source": [
    "Skewed datasets are not uncommon. And they are tough to handle. Usual classification models and techniques often fail miserably when presented with such a problem. Although your model could get you to even a 99% accuracy on such cases, yet, if you are measuring yourself against a sensible metric such as the ROC Auc score, then you will face trouble getting up that leaderboard. This is because if the dataset is skewed, for example, a 10:1 ratio of Positives to Negatives occur, then by just predicting positives for every sample you see without any learning, you can get to a 90% accuracy score! So, how do we get around this problem? This post will highlight a few effective techniques you can use to do well on such tasks. The techniques range from differently sampling your data to setting some hyperparameters cleverly to using libraries that contain different versions of the usual algorithms which internally handle imbalance themselves."
   ]
  },
  {
   "cell_type": "markdown",
   "metadata": {},
   "source": [
    "## Sampling/undersampling not changing perfmomance. (see SMOT/NOT SMOT notebook)"
   ]
  },
  {
   "cell_type": "markdown",
   "metadata": {},
   "source": [
    "##  XGBoost"
   ]
  },
  {
   "cell_type": "markdown",
   "metadata": {},
   "source": [
    "Although the algorithm performs well in general, even on imbalanced classification datasets, it offers a way to tune the training algorithm to pay more attention to misclassification of the minority class for datasets with a skewed class distribution.\n",
    "\n",
    "This modified version of XGBoost is referred to as Class Weighted XGBoost or Cost-Sensitive XGBoost and can offer better performance on binary classification problems with a severe class imbalance."
   ]
  },
  {
   "cell_type": "code",
   "execution_count": 13,
   "metadata": {},
   "outputs": [
    {
     "name": "stdout",
     "output_type": "stream",
     "text": [
      "Mean ROC AUC: 0.84950\n"
     ]
    }
   ],
   "source": [
    "from xgboost import XGBClassifier\n",
    "from sklearn.model_selection import RepeatedStratifiedKFold\n",
    "from sklearn.model_selection import cross_val_score\n",
    "from numpy import mean\n",
    "# define model\n",
    "model = XGBClassifier()\n",
    "# define evaluation procedure\n",
    "cv = RepeatedStratifiedKFold(n_splits=10, n_repeats=3, random_state=1)\n",
    "# evaluate model\n",
    "scores = cross_val_score(model, X_train_set, y_train_set, scoring='roc_auc', cv=cv, n_jobs=-1)\n",
    "# summarize performance\n",
    "print('Mean ROC AUC: %.5f' % mean(scores))"
   ]
  },
  {
   "cell_type": "markdown",
   "metadata": {},
   "source": [
    "## hypoparameter tuned for scewed data. "
   ]
  },
  {
   "cell_type": "code",
   "execution_count": 14,
   "metadata": {},
   "outputs": [
    {
     "name": "stdout",
     "output_type": "stream",
     "text": [
      "Estimate: 3.860\n"
     ]
    }
   ],
   "source": [
    "# count examples in each class\n",
    "from collections import Counter\n",
    "counter = Counter(y_train_set)\n",
    "# estimate scale_pos_weight value\n",
    "estimate = counter[0] / counter[1]\n",
    "print('Estimate: %.3f' % estimate)"
   ]
  },
  {
   "cell_type": "code",
   "execution_count": 15,
   "metadata": {},
   "outputs": [
    {
     "data": {
      "text/plain": [
       "0    5083\n",
       "1    1317\n",
       "Name: Exited, dtype: int64"
      ]
     },
     "execution_count": 15,
     "metadata": {},
     "output_type": "execute_result"
    }
   ],
   "source": [
    "y_train_set.value_counts()"
   ]
  },
  {
   "cell_type": "code",
   "execution_count": 16,
   "metadata": {},
   "outputs": [
    {
     "name": "stdout",
     "output_type": "stream",
     "text": [
      "Mean ROC AUC: 0.84780\n"
     ]
    }
   ],
   "source": [
    "model = XGBClassifier(scale_pos_weight=4,random_state=random_state)\n",
    "# define evaluation procedure\n",
    "cv = RepeatedStratifiedKFold(n_splits=10, n_repeats=3, random_state=1)\n",
    "# evaluate model\n",
    "scores = cross_val_score(model, X_train_set, y_train_set, scoring='roc_auc', cv=cv, n_jobs=-1)\n",
    "# summarize performance\n",
    "print('Mean ROC AUC: %.5f' % mean(scores))\n"
   ]
  },
  {
   "cell_type": "markdown",
   "metadata": {},
   "source": [
    "Not much improvement with that settings. 0.84949 with parameter tuned and 84950 without. will grid search a range of different class weightings for class-weighted XGBoost and discover which results in the best ROC AUC score."
   ]
  },
  {
   "cell_type": "code",
   "execution_count": 17,
   "metadata": {},
   "outputs": [],
   "source": [
    "\n",
    " # define grid\n",
    "param_grid= {'scale_pos_weight':[1,2,3], 'n_estimators':[50,100,300,500]}\n",
    "model= XGBClassifier()"
   ]
  },
  {
   "cell_type": "code",
   "execution_count": 18,
   "metadata": {
    "scrolled": false
   },
   "outputs": [
    {
     "name": "stdout",
     "output_type": "stream",
     "text": [
      "Best: 0.849496 using {'n_estimators': 100, 'scale_pos_weight': 1}\n",
      "0.846361 (0.015445) with: {'n_estimators': 50, 'scale_pos_weight': 1}\n",
      "0.846979 (0.015424) with: {'n_estimators': 50, 'scale_pos_weight': 2}\n",
      "0.847772 (0.015406) with: {'n_estimators': 50, 'scale_pos_weight': 3}\n",
      "0.849496 (0.015662) with: {'n_estimators': 100, 'scale_pos_weight': 1}\n",
      "0.848253 (0.015474) with: {'n_estimators': 100, 'scale_pos_weight': 2}\n",
      "0.848781 (0.015883) with: {'n_estimators': 100, 'scale_pos_weight': 3}\n",
      "0.846732 (0.015914) with: {'n_estimators': 300, 'scale_pos_weight': 1}\n",
      "0.844310 (0.016411) with: {'n_estimators': 300, 'scale_pos_weight': 2}\n",
      "0.843372 (0.017150) with: {'n_estimators': 300, 'scale_pos_weight': 3}\n",
      "0.840776 (0.017038) with: {'n_estimators': 500, 'scale_pos_weight': 1}\n",
      "0.838463 (0.017495) with: {'n_estimators': 500, 'scale_pos_weight': 2}\n",
      "0.837429 (0.017859) with: {'n_estimators': 500, 'scale_pos_weight': 3}\n"
     ]
    }
   ],
   "source": [
    "# define evaluation procedure\n",
    "from sklearn.model_selection import GridSearchCV\n",
    "cv = RepeatedStratifiedKFold(n_splits=10, n_repeats=3, random_state=1)\n",
    "# define grid search\n",
    "grid = GridSearchCV(estimator=model, param_grid=param_grid, n_jobs=-1, cv=cv, scoring='roc_auc')\n",
    "# execute the grid search\n",
    "grid_result = grid.fit(X_train_set, y_train_set)\n",
    "# report the best configuration\n",
    "print(\"Best: %f using %s\" % (grid_result.best_score_, grid_result.best_params_))\n",
    "# report all configurations\n",
    "means = grid_result.cv_results_['mean_test_score']\n",
    "stds = grid_result.cv_results_['std_test_score']\n",
    "params = grid_result.cv_results_['params']\n",
    "for mean, stdev, param in zip(means, stds, params):\n",
    "    print(\"%f (%f) with: %r\" % (mean, stdev, param))"
   ]
  },
  {
   "cell_type": "markdown",
   "metadata": {},
   "source": [
    "In this case, we can see that the scale_pos_weight=1 positive class weighting achieved the best mean ROC score. This matches the configuration for the general heuristic."
   ]
  },
  {
   "cell_type": "code",
   "execution_count": 19,
   "metadata": {},
   "outputs": [],
   "source": [
    "xgbc= XGBClassifier(scale_pos_weight=3, subsample=0.5, random_state=random_state)\n",
    "xgbc.fit(X_train_set, y_train_set)\n",
    "y_pred=xgbc.predict(X_val)"
   ]
  },
  {
   "cell_type": "code",
   "execution_count": 20,
   "metadata": {
    "scrolled": true
   },
   "outputs": [
    {
     "name": "stdout",
     "output_type": "stream",
     "text": [
      "              precision    recall  f1-score   support\n",
      "\n",
      "           0       0.92      0.85      0.88      1273\n",
      "           1       0.54      0.71      0.61       327\n",
      "\n",
      "    accuracy                           0.82      1600\n",
      "   macro avg       0.73      0.78      0.75      1600\n",
      "weighted avg       0.84      0.82      0.83      1600\n",
      "\n"
     ]
    }
   ],
   "source": [
    "print(classification_report(y_val, y_pred, digits=2))"
   ]
  },
  {
   "cell_type": "code",
   "execution_count": 21,
   "metadata": {},
   "outputs": [
    {
     "data": {
      "image/png": "[encoded data removed]",
      "text/plain": [
       "<Figure size 432x288 with 2 Axes>"
      ]
     },
     "metadata": {
      "needs_background": "light"
     },
     "output_type": "display_data"
    }
   ],
   "source": [
    "disp = plot_confusion_matrix(xgbc, X_val, y_val,cmap=plt.cm.Blues)\n",
    "disp.ax_.set_title(\"Confusion matrix, without normalization\")\n",
    "plt.show()"
   ]
  },
  {
   "cell_type": "markdown",
   "metadata": {},
   "source": [
    "## KNeighborsClassifier (5)"
   ]
  },
  {
   "cell_type": "code",
   "execution_count": 22,
   "metadata": {},
   "outputs": [],
   "source": [
    "from sklearn import neighbors\n",
    "# # define model\n",
    "# model = neighbors.KNeighborsClassifier()\n",
    "# # define evaluation procedure\n",
    "# cv = RepeatedStratifiedKFold(n_splits=10, n_repeats=3, random_state=1)\n",
    "# # evaluate model\n",
    "# scores = cross_val_score(model, X_train_set, y_train_set, scoring='roc_auc', cv=cv, n_jobs=-1)\n",
    "# # summarize performance\n",
    "# #print('Mean ROC AUC: %.5f' % mean(scores))\n",
    "# print(\"Mean ROC AUC: %.5f \" % (scores.mean()))"
   ]
  },
  {
   "cell_type": "code",
   "execution_count": 23,
   "metadata": {},
   "outputs": [],
   "source": [
    "# kncl= neighbors.KNeighborsClassifier()\n",
    "# kncl.fit(X_train_set, y_train_set)\n",
    "# y_pred=kncl.predict(X_val)"
   ]
  },
  {
   "cell_type": "code",
   "execution_count": 24,
   "metadata": {},
   "outputs": [],
   "source": [
    "# Plot non-normalized confusion matrix\n",
    "# disp = plot_confusion_matrix(kncl, X_val, y_val,cmap=plt.cm.Blues)\n",
    "# disp.ax_.set_title(\"Confusion matrix, without normalization\")\n",
    "# plt.show()"
   ]
  },
  {
   "cell_type": "code",
   "execution_count": 25,
   "metadata": {
    "scrolled": true
   },
   "outputs": [],
   "source": [
    "# print(classification_report(y_val, y_pred, digits=2))"
   ]
  },
  {
   "cell_type": "markdown",
   "metadata": {},
   "source": [
    "## Logistic Regression"
   ]
  },
  {
   "cell_type": "code",
   "execution_count": 26,
   "metadata": {},
   "outputs": [],
   "source": [
    "# define model\n",
    "# model = LogisticRegression()\n",
    "# # define evaluation procedure\n",
    "# cv = RepeatedStratifiedKFold(n_splits=10, n_repeats=3, random_state=1)\n",
    "# # evaluate model\n",
    "# scores = cross_val_score(model, X_train_set, y_train_set, scoring='roc_auc', cv=cv, n_jobs=-1)\n",
    "# # summarize performance\n",
    "# #print('Mean ROC AUC: %.5f' % mean(scores))\n",
    "# print(\"Mean ROC AUC: %.5f \" % (scores.mean()))"
   ]
  },
  {
   "cell_type": "code",
   "execution_count": 27,
   "metadata": {},
   "outputs": [],
   "source": [
    "# logit = LogisticRegression()\n",
    "# logit.fit(X_train_set, y_train_set)\n",
    "# y_pred=logit.predict(X_val)"
   ]
  },
  {
   "cell_type": "code",
   "execution_count": 28,
   "metadata": {
    "scrolled": true
   },
   "outputs": [],
   "source": [
    "# print(classification_report(y_val, y_pred, digits=2))"
   ]
  },
  {
   "cell_type": "code",
   "execution_count": 29,
   "metadata": {
    "scrolled": true
   },
   "outputs": [],
   "source": [
    "# Plot non-normalized confusion matrix\n",
    "# disp = plot_confusion_matrix(logit, X_val, y_val,cmap=plt.cm.Blues)\n",
    "# disp.ax_.set_title(\"Confusion matrix, without normalization\")\n",
    "# plt.show()"
   ]
  },
  {
   "cell_type": "markdown",
   "metadata": {},
   "source": [
    "## DecisionTreeClassifier"
   ]
  },
  {
   "cell_type": "code",
   "execution_count": 30,
   "metadata": {
    "scrolled": true
   },
   "outputs": [],
   "source": [
    "# from sklearn.tree import DecisionTreeClassifier\n",
    "# # define model\n",
    "# model = DecisionTreeClassifier()\n",
    "# # define evaluation procedure\n",
    "# cv = RepeatedStratifiedKFold(n_splits=10, n_repeats=3, random_state=1)\n",
    "# # evaluate model\n",
    "# scores = cross_val_score(model, X_train_set, y_train_set, scoring='roc_auc', cv=cv, n_jobs=-1)\n",
    "# # summarize performance\n",
    "# #print('Mean ROC AUC: %.5f' % mean(scores))\n",
    "# print(\"Mean ROC AUC: %.5f \" % (scores.mean()))"
   ]
  },
  {
   "cell_type": "code",
   "execution_count": 31,
   "metadata": {},
   "outputs": [],
   "source": [
    "# tree = DecisionTreeClassifier()\n",
    "# tree.fit(X_train_set, y_train_set)\n",
    "# y_pred=tree.predict(X_val)"
   ]
  },
  {
   "cell_type": "code",
   "execution_count": 32,
   "metadata": {
    "scrolled": true
   },
   "outputs": [],
   "source": [
    "# print(classification_report(y_val, y_pred, digits=2))"
   ]
  },
  {
   "cell_type": "code",
   "execution_count": 33,
   "metadata": {},
   "outputs": [],
   "source": [
    "# Plot non-normalized confusion matrix\n",
    "# disp = plot_confusion_matrix(tree, X_val, y_val,cmap=plt.cm.Blues)\n",
    "# disp.ax_.set_title(\"Confusion matrix, without normalization\")\n",
    "# plt.show()"
   ]
  },
  {
   "cell_type": "markdown",
   "metadata": {},
   "source": [
    "## RandomForestClassifier "
   ]
  },
  {
   "cell_type": "code",
   "execution_count": 34,
   "metadata": {},
   "outputs": [
    {
     "name": "stdout",
     "output_type": "stream",
     "text": [
      "Mean ROC AUC: 0.84047 \n"
     ]
    }
   ],
   "source": [
    "from sklearn.ensemble import RandomForestClassifier\n",
    "# define model\n",
    "model = RandomForestClassifier(class_weight={0: 1, 1: 3}, max_depth=5, random_state=random_state)\n",
    "# define evaluation procedure\n",
    "cv = RepeatedStratifiedKFold(n_splits=10, n_repeats=3, random_state=1)\n",
    "# evaluate model\n",
    "scores = cross_val_score(model, X_train_set, y_train_set, scoring='roc_auc', cv=cv, n_jobs=-1)\n",
    "# summarize performance\n",
    "#print('Mean ROC AUC: %.5f' % mean(scores))\n",
    "print(\"Mean ROC AUC: %.5f \" % (scores.mean()))"
   ]
  },
  {
   "cell_type": "markdown",
   "metadata": {},
   "source": [
    "## Tuning"
   ]
  },
  {
   "cell_type": "code",
   "execution_count": 35,
   "metadata": {},
   "outputs": [],
   "source": [
    "# define grid\n",
    "param_grid= {'n_estimators':[50,100,200],'max_depth':[None,3,5]}\n",
    "model =RandomForestClassifier(class_weight={0: 1, 1: 3},random_state=random_state)"
   ]
  },
  {
   "cell_type": "code",
   "execution_count": 36,
   "metadata": {},
   "outputs": [
    {
     "name": "stdout",
     "output_type": "stream",
     "text": [
      "Best: 0.841638 using {'max_depth': 5, 'n_estimators': 200}\n",
      "0.826318 (0.019496) with: {'max_depth': None, 'n_estimators': 50}\n",
      "0.830168 (0.018316) with: {'max_depth': None, 'n_estimators': 100}\n",
      "0.831876 (0.016840) with: {'max_depth': None, 'n_estimators': 200}\n",
      "0.821885 (0.015797) with: {'max_depth': 3, 'n_estimators': 50}\n",
      "0.823305 (0.015969) with: {'max_depth': 3, 'n_estimators': 100}\n",
      "0.825933 (0.015903) with: {'max_depth': 3, 'n_estimators': 200}\n",
      "0.839137 (0.014862) with: {'max_depth': 5, 'n_estimators': 50}\n",
      "0.840469 (0.014114) with: {'max_depth': 5, 'n_estimators': 100}\n",
      "0.841638 (0.014187) with: {'max_depth': 5, 'n_estimators': 200}\n"
     ]
    }
   ],
   "source": [
    "# define evaluation procedure\n",
    "from sklearn.model_selection import GridSearchCV\n",
    "cv = RepeatedStratifiedKFold(n_splits=10, n_repeats=3, random_state=1)\n",
    "# define grid search\n",
    "grid = GridSearchCV(estimator=model, param_grid=param_grid, n_jobs=-1, cv=cv, scoring='roc_auc')\n",
    "# execute the grid search\n",
    "grid_result = grid.fit(X_train_set, y_train_set)\n",
    "# report the best configuration\n",
    "print(\"Best: %f using %s\" % (grid_result.best_score_, grid_result.best_params_))\n",
    "# report all configurations\n",
    "means = grid_result.cv_results_['mean_test_score']\n",
    "stds = grid_result.cv_results_['std_test_score']\n",
    "params = grid_result.cv_results_['params']\n",
    "for mean, stdev, param in zip(means, stds, params):\n",
    "    print(\"%f (%f) with: %r\" % (mean, stdev, param))"
   ]
  },
  {
   "cell_type": "code",
   "execution_count": 37,
   "metadata": {},
   "outputs": [],
   "source": [
    "rf= RandomForestClassifier(class_weight={0: 1, 1: 3}, n_estimators=200, max_depth=5, random_state=random_state)\n",
    "rf.fit(X_train_set, y_train_set)\n",
    "y_pred=rf.predict(X_val)"
   ]
  },
  {
   "cell_type": "code",
   "execution_count": 38,
   "metadata": {
    "scrolled": false
   },
   "outputs": [
    {
     "name": "stdout",
     "output_type": "stream",
     "text": [
      "              precision    recall  f1-score   support\n",
      "\n",
      "           0       0.90      0.88      0.89      1273\n",
      "           1       0.58      0.63      0.60       327\n",
      "\n",
      "    accuracy                           0.83      1600\n",
      "   macro avg       0.74      0.76      0.75      1600\n",
      "weighted avg       0.84      0.83      0.83      1600\n",
      "\n"
     ]
    }
   ],
   "source": [
    "print(classification_report(y_val, y_pred, digits=2))"
   ]
  },
  {
   "cell_type": "code",
   "execution_count": 39,
   "metadata": {},
   "outputs": [
    {
     "data": {
      "image/png": "[encoded data removed]",
      "text/plain": [
       "<Figure size 432x288 with 2 Axes>"
      ]
     },
     "metadata": {
      "needs_background": "light"
     },
     "output_type": "display_data"
    }
   ],
   "source": [
    "# Plot non-normalized confusion matrix\n",
    "disp = plot_confusion_matrix(rf, X_val, y_val,cmap=plt.cm.Blues)\n",
    "disp.ax_.set_title(\"Confusion matrix, without normalization\")\n",
    "plt.show()"
   ]
  },
  {
   "cell_type": "markdown",
   "metadata": {},
   "source": [
    "## GradientBoostingClassifier"
   ]
  },
  {
   "cell_type": "code",
   "execution_count": 40,
   "metadata": {},
   "outputs": [
    {
     "name": "stdout",
     "output_type": "stream",
     "text": [
      "Mean ROC AUC: 0.84718 \n"
     ]
    }
   ],
   "source": [
    "from sklearn.ensemble import GradientBoostingClassifier\n",
    "# define model\n",
    "model = GradientBoostingClassifier()\n",
    "# define evaluation procedure\n",
    "cv = RepeatedStratifiedKFold(n_splits=10, n_repeats=3, random_state=1)\n",
    "# evaluate model\n",
    "scores = cross_val_score(model, X_train_set, y_train_set, scoring='roc_auc', cv=cv, n_jobs=-1)\n",
    "# summarize performance\n",
    "#print('Mean ROC AUC: %.5f' % mean(scores))\n",
    "print(\"Mean ROC AUC: %.5f \" % (scores.mean()))"
   ]
  },
  {
   "cell_type": "markdown",
   "metadata": {},
   "source": [
    "## Tuning\n",
    "### Fix learning rate and number of estimators for tuning tree-based parameters"
   ]
  },
  {
   "cell_type": "code",
   "execution_count": 41,
   "metadata": {},
   "outputs": [],
   "source": [
    "# define grid\n",
    "param_grid_1 = {'validation_fraction':[0.1,0.3],'n_iter_no_change':[20,50],'learning_rate':[0.5, 0.1]}\n",
    "model = GradientBoostingClassifier(random_state=random_state)"
   ]
  },
  {
   "cell_type": "code",
   "execution_count": 42,
   "metadata": {
    "scrolled": true
   },
   "outputs": [
    {
     "name": "stdout",
     "output_type": "stream",
     "text": [
      "Best: 0.846630 using {'learning_rate': 0.1, 'n_iter_no_change': 20, 'validation_fraction': 0.1}\n",
      "0.839979 (0.015785) with: {'learning_rate': 0.5, 'n_iter_no_change': 20, 'validation_fraction': 0.1}\n",
      "0.836444 (0.016858) with: {'learning_rate': 0.5, 'n_iter_no_change': 20, 'validation_fraction': 0.3}\n",
      "0.833162 (0.016168) with: {'learning_rate': 0.5, 'n_iter_no_change': 50, 'validation_fraction': 0.1}\n",
      "0.827176 (0.018584) with: {'learning_rate': 0.5, 'n_iter_no_change': 50, 'validation_fraction': 0.3}\n",
      "0.846630 (0.015449) with: {'learning_rate': 0.1, 'n_iter_no_change': 20, 'validation_fraction': 0.1}\n",
      "0.844712 (0.016289) with: {'learning_rate': 0.1, 'n_iter_no_change': 20, 'validation_fraction': 0.3}\n",
      "0.846453 (0.015621) with: {'learning_rate': 0.1, 'n_iter_no_change': 50, 'validation_fraction': 0.1}\n",
      "0.844040 (0.016458) with: {'learning_rate': 0.1, 'n_iter_no_change': 50, 'validation_fraction': 0.3}\n"
     ]
    }
   ],
   "source": [
    "# define evaluation procedure\n",
    "from sklearn.model_selection import GridSearchCV\n",
    "cv = RepeatedStratifiedKFold(n_splits=10, n_repeats=3, random_state=1)\n",
    "# define grid search\n",
    "grid = GridSearchCV(estimator=model, param_grid=param_grid_1, n_jobs=-1, cv=cv, scoring='roc_auc')\n",
    "# execute the grid search\n",
    "grid_result = grid.fit(X_train_set, y_train_set)\n",
    "# report the best configuration\n",
    "print(\"Best: %f using %s\" % (grid_result.best_score_, grid_result.best_params_))\n",
    "# report all configurations\n",
    "means = grid_result.cv_results_['mean_test_score']\n",
    "stds = grid_result.cv_results_['std_test_score']\n",
    "params = grid_result.cv_results_['params']\n",
    "for mean, stdev, param in zip(means, stds, params):\n",
    "    print(\"%f (%f) with: %r\" % (mean, stdev, param))"
   ]
  },
  {
   "cell_type": "code",
   "execution_count": 43,
   "metadata": {},
   "outputs": [],
   "source": [
    "gb_clf=GradientBoostingClassifier(learning_rate=0.1, n_iter_no_change=20, validation_fraction=0.1)\n",
    "gb_clf.fit(X_train_set, y_train_set)\n",
    "y_pred=gb_clf.predict(X_val)"
   ]
  },
  {
   "cell_type": "code",
   "execution_count": 44,
   "metadata": {
    "scrolled": true
   },
   "outputs": [
    {
     "name": "stdout",
     "output_type": "stream",
     "text": [
      "              precision    recall  f1-score   support\n",
      "\n",
      "           0       0.87      0.96      0.92      1273\n",
      "           1       0.76      0.45      0.56       327\n",
      "\n",
      "    accuracy                           0.86      1600\n",
      "   macro avg       0.82      0.71      0.74      1600\n",
      "weighted avg       0.85      0.86      0.84      1600\n",
      "\n"
     ]
    }
   ],
   "source": [
    "print(classification_report(y_val, y_pred, digits=2))"
   ]
  },
  {
   "cell_type": "code",
   "execution_count": 45,
   "metadata": {
    "scrolled": true
   },
   "outputs": [
    {
     "data": {
      "image/png": "[encoded data removed]",
      "text/plain": [
       "<Figure size 432x288 with 2 Axes>"
      ]
     },
     "metadata": {
      "needs_background": "light"
     },
     "output_type": "display_data"
    }
   ],
   "source": [
    "# Plot non-normalized confusion matrix\n",
    "disp = plot_confusion_matrix(gb_clf, X_val, y_val,cmap=plt.cm.Blues)\n",
    "disp.ax_.set_title(\"Confusion matrix, without normalization\")\n",
    "plt.show()"
   ]
  },
  {
   "cell_type": "markdown",
   "metadata": {},
   "source": [
    "## ADA Boost"
   ]
  },
  {
   "cell_type": "code",
   "execution_count": 46,
   "metadata": {
    "scrolled": true
   },
   "outputs": [
    {
     "name": "stdout",
     "output_type": "stream",
     "text": [
      "Mean ROC AUC: 0.83496 \n"
     ]
    }
   ],
   "source": [
    "from sklearn.ensemble import AdaBoostClassifier\n",
    "# define model\n",
    "model=AdaBoostClassifier()\n",
    "# define evaluation procedure\n",
    "cv = RepeatedStratifiedKFold(n_splits=10, n_repeats=3, random_state=1)\n",
    "# evaluate model\n",
    "scores = cross_val_score(model, X_train_set, y_train_set, scoring='roc_auc', cv=cv, n_jobs=-1)\n",
    "# summarize performance\n",
    "#print('Mean ROC AUC: %.5f' % mean(scores))\n",
    "print(\"Mean ROC AUC: %.5f \" % (scores.mean()))"
   ]
  },
  {
   "cell_type": "code",
   "execution_count": 47,
   "metadata": {
    "scrolled": true
   },
   "outputs": [],
   "source": [
    "ada=AdaBoostClassifier()\n",
    "ada.fit(X_train_set, y_train_set)\n",
    "y_pred=ada.predict(X_val)"
   ]
  },
  {
   "cell_type": "code",
   "execution_count": 48,
   "metadata": {
    "scrolled": true
   },
   "outputs": [
    {
     "name": "stdout",
     "output_type": "stream",
     "text": [
      "              precision    recall  f1-score   support\n",
      "\n",
      "           0       0.87      0.95      0.91      1273\n",
      "           1       0.70      0.46      0.55       327\n",
      "\n",
      "    accuracy                           0.85      1600\n",
      "   macro avg       0.79      0.70      0.73      1600\n",
      "weighted avg       0.84      0.85      0.84      1600\n",
      "\n"
     ]
    }
   ],
   "source": [
    "print(classification_report(y_val, y_pred, digits=2))"
   ]
  },
  {
   "cell_type": "code",
   "execution_count": 49,
   "metadata": {
    "scrolled": true
   },
   "outputs": [
    {
     "data": {
      "image/png": "[encoded data removed]",
      "text/plain": [
       "<Figure size 432x288 with 2 Axes>"
      ]
     },
     "metadata": {
      "needs_background": "light"
     },
     "output_type": "display_data"
    }
   ],
   "source": [
    "# Plot non-normalized confusion matrix\n",
    "disp = plot_confusion_matrix(ada, X_val, y_val,cmap=plt.cm.Blues)\n",
    "disp.ax_.set_title(\"Confusion matrix, without normalization\")\n",
    "plt.show()"
   ]
  },
  {
   "cell_type": "markdown",
   "metadata": {},
   "source": [
    "## Holdout set"
   ]
  },
  {
   "cell_type": "markdown",
   "metadata": {},
   "source": [
    "## Random Forest"
   ]
  },
  {
   "cell_type": "code",
   "execution_count": 50,
   "metadata": {
    "scrolled": false
   },
   "outputs": [
    {
     "data": {
      "text/plain": [
       "array([[0.79428298, 0.20571702],\n",
       "       [0.74608236, 0.25391764],\n",
       "       [0.58981701, 0.41018299],\n",
       "       [0.55908449, 0.44091551],\n",
       "       [0.71107614, 0.28892386]])"
      ]
     },
     "execution_count": 50,
     "metadata": {},
     "output_type": "execute_result"
    }
   ],
   "source": [
    "from sklearn.ensemble import RandomForestClassifier\n",
    "rf= RandomForestClassifier(class_weight={0: 1, 1: 3}, n_estimators=200, max_depth=5, random_state=42)\n",
    "y_pred_rf=rf.fit(X_train_set, y_train_set).predict(X_test)\n",
    "proba=rf.predict_proba(X_test)\n",
    "proba[:5]"
   ]
  },
  {
   "cell_type": "code",
   "execution_count": 51,
   "metadata": {},
   "outputs": [
    {
     "name": "stdout",
     "output_type": "stream",
     "text": [
      "              precision    recall  f1-score   support\n",
      "\n",
      "           0       0.91      0.88      0.89      1607\n",
      "           1       0.56      0.66      0.61       393\n",
      "\n",
      "    accuracy                           0.83      2000\n",
      "   macro avg       0.74      0.77      0.75      2000\n",
      "weighted avg       0.84      0.83      0.84      2000\n",
      "\n"
     ]
    }
   ],
   "source": [
    "rf_class_report=classification_report(y_test, y_pred_rf, digits=2)\n",
    "print(rf_class_report)"
   ]
  },
  {
   "cell_type": "code",
   "execution_count": 52,
   "metadata": {
    "scrolled": true
   },
   "outputs": [
    {
     "data": {
      "image/png": "[encoded data removed]",
      "text/plain": [
       "<Figure size 432x288 with 2 Axes>"
      ]
     },
     "metadata": {
      "needs_background": "light"
     },
     "output_type": "display_data"
    }
   ],
   "source": [
    "disp = plot_confusion_matrix(rf, X_test, y_test,cmap=plt.cm.Blues)\n",
    "disp.ax_.set_title(\"Confusion matrix, without normalization\")\n",
    "plt.show()"
   ]
  },
  {
   "cell_type": "code",
   "execution_count": 53,
   "metadata": {
    "scrolled": true
   },
   "outputs": [
    {
     "name": "stdout",
     "output_type": "stream",
     "text": [
      "[[1407  200]\n",
      " [ 135  258]]\n"
     ]
    }
   ],
   "source": [
    "rf_matrix=confusion_matrix(y_test, y_pred_rf)\n",
    "print(rf_matrix)"
   ]
  },
  {
   "cell_type": "markdown",
   "metadata": {},
   "source": [
    "# Gradient Boost"
   ]
  },
  {
   "cell_type": "code",
   "execution_count": 196,
   "metadata": {
    "scrolled": false
   },
   "outputs": [
    {
     "data": {
      "text/plain": [
       "array([[0.95899872, 0.04100128],\n",
       "       [0.94973801, 0.05026199],\n",
       "       [0.88593928, 0.11406072],\n",
       "       [0.84938226, 0.15061774],\n",
       "       [0.88393693, 0.11606307]])"
      ]
     },
     "execution_count": 196,
     "metadata": {},
     "output_type": "execute_result"
    }
   ],
   "source": [
    "gb_clf=GradientBoostingClassifier()\n",
    "y_pred_gb=gb_clf.fit(X_train_set, y_train_set).predict(X_test)\n",
    "proba_gb=gb_clf.predict_proba(X_test)\n",
    "proba_gb[:5]"
   ]
  },
  {
   "cell_type": "code",
   "execution_count": 197,
   "metadata": {
    "scrolled": false
   },
   "outputs": [
    {
     "name": "stdout",
     "output_type": "stream",
     "text": [
      "              precision    recall  f1-score   support\n",
      "\n",
      "           0       0.88      0.96      0.92      1607\n",
      "           1       0.74      0.47      0.57       393\n",
      "\n",
      "    accuracy                           0.86      2000\n",
      "   macro avg       0.81      0.71      0.75      2000\n",
      "weighted avg       0.85      0.86      0.85      2000\n",
      "\n"
     ]
    }
   ],
   "source": [
    "gb_clf_class_report=classification_report(y_test, y_pred_gb, digits=2)\n",
    "print(gb_clf_class_report)"
   ]
  },
  {
   "cell_type": "code",
   "execution_count": 198,
   "metadata": {
    "scrolled": true
   },
   "outputs": [
    {
     "data": {
      "image/png": "[encoded data removed]",
      "text/plain": [
       "<Figure size 576x396 with 2 Axes>"
      ]
     },
     "metadata": {},
     "output_type": "display_data"
    }
   ],
   "source": [
    "disp = plot_confusion_matrix(gb_clf, X_test, y_test,cmap=plt.cm.Blues)\n",
    "disp.ax_.set_title(\"Confusion matrix, without normalization\")\n",
    "plt.show()"
   ]
  },
  {
   "cell_type": "code",
   "execution_count": 199,
   "metadata": {
    "scrolled": true
   },
   "outputs": [
    {
     "name": "stdout",
     "output_type": "stream",
     "text": [
      "[[1543   64]\n",
      " [ 210  183]]\n"
     ]
    }
   ],
   "source": [
    "gb_clf_matrix=confusion_matrix(y_test, y_pred_gb)\n",
    "print(gb_clf_matrix)"
   ]
  },
  {
   "cell_type": "markdown",
   "metadata": {},
   "source": [
    "## XGBC"
   ]
  },
  {
   "cell_type": "code",
   "execution_count": 58,
   "metadata": {
    "scrolled": false
   },
   "outputs": [
    {
     "data": {
      "text/plain": [
       "array([[0.8843752 , 0.11562479],\n",
       "       [0.86839247, 0.13160755],\n",
       "       [0.7139247 , 0.2860753 ],\n",
       "       [0.64614576, 0.35385424],\n",
       "       [0.7288655 , 0.27113447]], dtype=float32)"
      ]
     },
     "execution_count": 58,
     "metadata": {},
     "output_type": "execute_result"
    }
   ],
   "source": [
    "xgbc= XGBClassifier(scale_pos_weight=3, subsample=1.0, random_state=random_state)\n",
    "y_pred_xgbc=xgbc.fit(X_train_set, y_train_set).predict(X_test)\n",
    "proba_xgbc=xgbc.predict_proba(X_test)\n",
    "proba_xgbc[:5]"
   ]
  },
  {
   "cell_type": "code",
   "execution_count": 59,
   "metadata": {
    "scrolled": true
   },
   "outputs": [
    {
     "name": "stdout",
     "output_type": "stream",
     "text": [
      "              precision    recall  f1-score   support\n",
      "\n",
      "           0       0.92      0.85      0.89      1607\n",
      "           1       0.54      0.70      0.61       393\n",
      "\n",
      "    accuracy                           0.82      2000\n",
      "   macro avg       0.73      0.78      0.75      2000\n",
      "weighted avg       0.85      0.82      0.83      2000\n",
      "\n"
     ]
    }
   ],
   "source": [
    "xgbc_class_report=classification_report(y_test, y_pred_xgbc, digits=2)\n",
    "print(xgbc_class_report)"
   ]
  },
  {
   "cell_type": "code",
   "execution_count": 60,
   "metadata": {
    "scrolled": true
   },
   "outputs": [
    {
     "data": {
      "image/png": "[encoded data removed]",
      "text/plain": [
       "<Figure size 432x288 with 2 Axes>"
      ]
     },
     "metadata": {
      "needs_background": "light"
     },
     "output_type": "display_data"
    }
   ],
   "source": [
    "disp = plot_confusion_matrix(xgbc, X_test, y_test,cmap=plt.cm.Blues)\n",
    "disp.ax_.set_title(\"Confusion matrix, without normalization\")\n",
    "plt.show()"
   ]
  },
  {
   "cell_type": "code",
   "execution_count": 61,
   "metadata": {
    "scrolled": false
   },
   "outputs": [
    {
     "name": "stdout",
     "output_type": "stream",
     "text": [
      "[[1371  236]\n",
      " [ 117  276]]\n"
     ]
    }
   ],
   "source": [
    "xgbc_matrix=confusion_matrix(y_test, y_pred_xgbc)\n",
    "print(xgbc_matrix)"
   ]
  },
  {
   "cell_type": "markdown",
   "metadata": {},
   "source": [
    "## ROC curve\n",
    "\n",
    "The ROC Curve is a useful diagnostic tool for understanding the trade-off for different thresholds and the ROC AUC provides a useful number for comparing models based on their general capabilities.\n",
    "\n",
    "If crisp class labels are required from a model under such an analysis, then an optimal threshold is required. This would be a threshold on the curve that is closest to the top-left of the plot."
   ]
  },
  {
   "cell_type": "code",
   "execution_count": 200,
   "metadata": {},
   "outputs": [],
   "source": [
    "from sklearn.metrics import roc_curve\n",
    "\n",
    "# roc curve for models\n",
    "fpr1, tpr1, thresh1 = roc_curve(y_test, proba_gb[:,1], pos_label=1)\n",
    "fpr2, tpr2, thresh2 = roc_curve(y_test, proba_xgbc[:,1], pos_label=1)\n",
    "fpr3, tpr3, thresh3 = roc_curve(y_test, proba[:,1], pos_label=1)\n",
    "\n",
    "# roc curve for tpr = fpr \n",
    "random_probs = [0 for i in range(len(y_test))]\n",
    "p_fpr, p_tpr, _ = roc_curve(y_test, random_probs, pos_label=1)"
   ]
  },
  {
   "cell_type": "code",
   "execution_count": 201,
   "metadata": {},
   "outputs": [
    {
     "name": "stdout",
     "output_type": "stream",
     "text": [
      "0.8549056212404065 0.8541606299412082 0.8525613925082852\n"
     ]
    }
   ],
   "source": [
    "from sklearn.metrics import roc_auc_score\n",
    "\n",
    "# auc scores\n",
    "auc_score1 = roc_auc_score(y_test, proba_gb[:,1])\n",
    "auc_score2 = roc_auc_score(y_test, proba_xgbc[:,1])\n",
    "auc_score3 = roc_auc_score(y_test, proba[:,1])\n",
    "\n",
    "print(auc_score1, auc_score2, auc_score3)"
   ]
  },
  {
   "cell_type": "code",
   "execution_count": 202,
   "metadata": {},
   "outputs": [
    {
     "data": {
      "image/png": "[encoded data removed]",
      "text/plain": [
       "<Figure size 576x396 with 1 Axes>"
      ]
     },
     "metadata": {},
     "output_type": "display_data"
    },
    {
     "data": {
      "image/png": "[encoded data removed]",
      "text/plain": [
       "<Figure size 576x396 with 1 Axes>"
      ]
     },
     "metadata": {},
     "output_type": "display_data"
    }
   ],
   "source": [
    "# matplotlib\n",
    "import matplotlib.pyplot as plt\n",
    "plt.style.use('seaborn')\n",
    "\n",
    "# plot roc curves\n",
    "plt.figure(1)\n",
    "plt.plot(fpr1, tpr1, linestyle='--',color='orange', label='GradientBoost')\n",
    "plt.plot(fpr2, tpr2, linestyle='--',color='green', label='XGBC')\n",
    "plt.plot(fpr3, tpr3, linestyle='--',color='red', label='RandomForest')\n",
    "plt.plot(p_fpr, p_tpr, linestyle='--', color='blue')\n",
    "# title\n",
    "plt.title('ROC curve')\n",
    "# x label\n",
    "plt.xlabel('False Positive Rate')\n",
    "# y label\n",
    "plt.ylabel('True Positive rate')\n",
    "\n",
    "plt.legend(loc='best')\n",
    "plt.savefig('ROC',dpi=200)\n",
    "plt.show();\n",
    "\n",
    "plt.figure(2)\n",
    "plt.xlim(0, 0.4)\n",
    "plt.ylim(0.4, 1)\n",
    "plt.plot(fpr1, tpr1, linestyle='--',color='orange', label='GradientBoost')\n",
    "plt.plot(fpr2, tpr2, linestyle='--',color='green', label='XGBC')\n",
    "plt.plot(fpr3, tpr3, linestyle='--',color='red', label='RandomForest')\n",
    "plt.plot(p_fpr, p_tpr, linestyle='--', color='blue')\n",
    "# title\n",
    "plt.title('ROC curve')\n",
    "# x label\n",
    "plt.xlabel('False Positive Rate')\n",
    "# y label\n",
    "plt.ylabel('True Positive rate')\n",
    "\n",
    "plt.legend(loc='best')\n",
    "plt.savefig('ROCzoom',dpi=200)\n",
    "plt.show();"
   ]
  },
  {
   "cell_type": "markdown",
   "metadata": {},
   "source": [
    "# ROC_AUC score(cross-validation)"
   ]
  },
  {
   "cell_type": "code",
   "execution_count": 65,
   "metadata": {
    "scrolled": false
   },
   "outputs": [
    {
     "data": {
      "image/png": "[encoded data removed]",
      "text/plain": [
       "<Figure size 576x396 with 1 Axes>"
      ]
     },
     "metadata": {},
     "output_type": "display_data"
    }
   ],
   "source": [
    "models = ['RandomForest','GradientBoost', 'XGBC','KNN5','Logistic','DecisionTree']\n",
    "cv_scores  = [84.16, 84.72, 84.94, 75.9,74.5, 66.9]\n",
    "results = pd.DataFrame({'model': models, 'ROC_AUC': cv_scores})\n",
    "\n",
    "ax = sns.barplot(x='model', y='ROC_AUC', data=results)\n",
    "ax.set_ylim([50,100])\n",
    "plt.xticks(rotation=90)\n",
    "plt.show();\n",
    "\n",
    "#display(results)"
   ]
  },
  {
   "cell_type": "markdown",
   "metadata": {},
   "source": [
    "## Classification Report  NO SMOT"
   ]
  },
  {
   "cell_type": "code",
   "execution_count": 132,
   "metadata": {
    "scrolled": true
   },
   "outputs": [
    {
     "name": "stdout",
     "output_type": "stream",
     "text": [
      "\n",
      "random forest classification report\n",
      "\n",
      "              precision    recall  f1-score   support\n",
      "\n",
      "           0       0.91      0.88      0.89      1607\n",
      "           1       0.56      0.66      0.61       393\n",
      "\n",
      "    accuracy                           0.83      2000\n",
      "   macro avg       0.74      0.77      0.75      2000\n",
      "weighted avg       0.84      0.83      0.84      2000\n",
      "\n",
      "\n",
      "gradient boost classification report\n",
      "\n",
      "              precision    recall  f1-score   support\n",
      "\n",
      "           0       0.88      0.97      0.92      1607\n",
      "           1       0.76      0.44      0.56       393\n",
      "\n",
      "    accuracy                           0.86      2000\n",
      "   macro avg       0.82      0.70      0.74      2000\n",
      "weighted avg       0.85      0.86      0.85      2000\n",
      "\n",
      "\n",
      "xgb classification report\n",
      "\n",
      "              precision    recall  f1-score   support\n",
      "\n",
      "           0       0.92      0.75      0.83      1607\n",
      "           1       0.42      0.74      0.53       393\n",
      "\n",
      "    accuracy                           0.75      2000\n",
      "   macro avg       0.67      0.74      0.68      2000\n",
      "weighted avg       0.82      0.75      0.77      2000\n",
      "\n"
     ]
    }
   ],
   "source": [
    "#classification_report\n",
    "print(\"\\nrandom forest classification report\\n\")\n",
    "print(rf_class_report)\n",
    "print(\"\\ngradient boost classification report\\n\")\n",
    "print(gb_clf_class_report)\n",
    "print(\"\\nxgb classification report\\n\")\n",
    "print(xgbc_class_report)"
   ]
  },
  {
   "cell_type": "markdown",
   "metadata": {},
   "source": [
    "## Confusion Matrix "
   ]
  },
  {
   "cell_type": "code",
   "execution_count": 203,
   "metadata": {
    "scrolled": true
   },
   "outputs": [
    {
     "name": "stdout",
     "output_type": "stream",
     "text": [
      "\n",
      "random forest confusion matrix\n",
      "\n",
      "[[1427  180]\n",
      " [ 141  252]]\n",
      "\n",
      "gradient boost confusion matrix\n",
      "\n",
      "[[1543   64]\n",
      " [ 210  183]]\n",
      "\n",
      "xgb confusion matrix\n",
      "\n",
      "[[1449  158]\n",
      " [ 142  251]]\n"
     ]
    }
   ],
   "source": [
    "#confusion matrix\n",
    "print(\"\\nrandom forest confusion matrix\\n\")\n",
    "print(rf_matrix)\n",
    "print(\"\\ngradient boost confusion matrix\\n\")\n",
    "print(gb_clf_matrix)\n",
    "print(\"\\nxgb confusion matrix\\n\")\n",
    "print(xgbc_matrix)"
   ]
  },
  {
   "cell_type": "markdown",
   "metadata": {},
   "source": [
    "## Threshold setting\n",
    "\n",
    "There are many ways we could locate the threshold with the optimal balance between false positive and true positive rates.\n",
    "\n",
    "Firstly, the true positive rate is called the Sensitivity. The inverse of the false-positive rate is called the Specificity.\n",
    "\n",
    "- Sensitivity = TruePositive / (TruePositive + FalseNegative)\n",
    "- Specificity = TrueNegative / (FalsePositive + TrueNegative)\n",
    "- Where:\n",
    "- Sensitivity = True Positive Rate \n",
    "- Specificity = 1 – False Positive Rate"
   ]
  },
  {
   "cell_type": "markdown",
   "metadata": {},
   "source": [
    "The Geometric Mean or G-Mean is a metric for imbalanced classification that, if optimized, will seek a balance between the sensitivity and the specificity.\n",
    "\n",
    "G-Mean = sqrt(Sensitivity * Specificity)"
   ]
  },
  {
   "cell_type": "code",
   "execution_count": 68,
   "metadata": {
    "scrolled": true
   },
   "outputs": [],
   "source": [
    "# calculate the g-mean for each threshold\n",
    "from numpy import argmax\n",
    "from numpy import sqrt"
   ]
  },
  {
   "cell_type": "markdown",
   "metadata": {},
   "source": [
    "We can also re-draw the ROC Curve and highlight this point."
   ]
  },
  {
   "cell_type": "code",
   "execution_count": 204,
   "metadata": {
    "scrolled": true
   },
   "outputs": [
    {
     "name": "stdout",
     "output_type": "stream",
     "text": [
      "Best Threshold GBC=0.190127, G-Mean=0.780\n",
      "Best Threshold XGBC =0.438376, G-Mean=0.781\n",
      "Best Threshold RF=0.407674, G-Mean=0.774\n"
     ]
    },
    {
     "data": {
      "image/png": "[encoded data removed]",
      "text/plain": [
       "<Figure size 576x396 with 1 Axes>"
      ]
     },
     "metadata": {},
     "output_type": "display_data"
    },
    {
     "data": {
      "image/png": "[encoded data removed]",
      "text/plain": [
       "<Figure size 576x396 with 1 Axes>"
      ]
     },
     "metadata": {},
     "output_type": "display_data"
    }
   ],
   "source": [
    "# plot roc curves\n",
    "plt.figure(1)\n",
    "# calculate the g-mean for each threshold\n",
    "gmeans_gbc = sqrt(tpr1 * (1-fpr1))\n",
    "gmeans_xgbc = sqrt(tpr2 * (1-fpr2))\n",
    "gmeans_rf = sqrt(tpr3 * (1-fpr3))\n",
    "# locate the index of the largest g-mean\n",
    "ix1 = argmax(gmeans_gbc)\n",
    "ix2 = argmax(gmeans_xgbc)\n",
    "ix3 = argmax(gmeans_rf)\n",
    "print('Best Threshold GBC=%f, G-Mean=%.3f' % (thresh1[ix1], gmeans_gbc[ix1]))\n",
    "print('Best Threshold XGBC =%f, G-Mean=%.3f' % (thresh2[ix2], gmeans_xgbc[ix2]))\n",
    "print('Best Threshold RF=%f, G-Mean=%.3f' % (thresh3[ix3], gmeans_rf[ix3]))\n",
    "plt.plot(fpr1, tpr1, linestyle='--',color='orange', label='GradientBoost')\n",
    "plt.plot(fpr2, tpr2, linestyle='--',color='green', label='XGBC')\n",
    "plt.plot(fpr3, tpr3, linestyle='--',color='red', label='RandomForest')\n",
    "plt.plot(p_fpr, p_tpr, linestyle='--', color='blue')\n",
    "plt.scatter(fpr1[ix1], tpr1[ix1], marker='o', color='black', label='Best')\n",
    "plt.scatter(fpr2[ix2], tpr2[ix2], marker='o', color='black', label='Best')\n",
    "plt.scatter(fpr3[ix3], tpr3[ix3], marker='o', color='black', label='Best')\n",
    "# title\n",
    "plt.title('ROC curve')\n",
    "# x label\n",
    "plt.xlabel('False Positive Rate')\n",
    "# y label\n",
    "plt.ylabel('True Positive rate')\n",
    "\n",
    "plt.legend(loc='best')\n",
    "plt.savefig('ROCbest',dpi=200)\n",
    "plt.show();\n",
    "\n",
    "plt.figure(2)\n",
    "plt.xlim(0.1, 0.3)\n",
    "plt.ylim(0.6, 1)\n",
    "plt.plot(fpr1, tpr1, linestyle='--',color='orange', label='GradientBoost')\n",
    "plt.plot(fpr2, tpr2, linestyle='--',color='green', label='XGBC')\n",
    "plt.plot(fpr3, tpr3, linestyle='--',color='red', label='RandomForest')\n",
    "plt.plot(p_fpr, p_tpr, linestyle='--', color='blue')\n",
    "plt.scatter(fpr1[ix1], tpr1[ix1], marker='o', color='black', label='Best')\n",
    "plt.scatter(fpr2[ix2], tpr2[ix2], marker='o', color='black', label='Best')\n",
    "plt.scatter(fpr3[ix3], tpr3[ix3], marker='o', color='black', label='Best')\n",
    "# title\n",
    "plt.title('ROC curve')\n",
    "# x label\n",
    "plt.xlabel('False Positive Rate')\n",
    "# y label\n",
    "plt.ylabel('True Positive rate')\n",
    "\n",
    "plt.legend(loc='best')\n",
    "plt.savefig('ROCbestzoom',dpi=200)\n",
    "plt.show();"
   ]
  },
  {
   "cell_type": "markdown",
   "metadata": {},
   "source": [
    "## Optimal Threshold for Precision-Recall Curve\n",
    "\n",
    "Unlike the ROC Curve, a precision-recall curve focuses on the performance of a classifier on the positive (minority class) only. \n",
    "Precision is the ratio of the number of true positives divided by the sum of the true positives and false positives. It describes how good a model is at predicting the positive class. Recall is calculated as the ratio of the number of true positives divided by the sum of the true positives and the false negatives. Recall is the same as sensitivity."
   ]
  },
  {
   "cell_type": "markdown",
   "metadata": {},
   "source": [
    "As in the previous section, the naive approach to finding the optimal threshold would be to calculate the F-measure for each threshold. We can achieve the same effect by converting the precision and recall measures to F-measure directly; for example:"
   ]
  },
  {
   "cell_type": "code",
   "execution_count": 205,
   "metadata": {},
   "outputs": [],
   "source": [
    "# calculate pr-curve\n",
    "from sklearn.metrics import precision_recall_curve\n",
    "precision1, recall1, thresholds1 = precision_recall_curve(y_test, proba_gb[:,1])"
   ]
  },
  {
   "cell_type": "code",
   "execution_count": 206,
   "metadata": {
    "scrolled": true
   },
   "outputs": [
    {
     "name": "stdout",
     "output_type": "stream",
     "text": [
      "Best Threshold GBC=0.261828, F-Score GBC=0.621\n"
     ]
    }
   ],
   "source": [
    "# convert to f score\n",
    "fscore_gbc = (2 * precision1 * recall1) / (precision1 + recall1)\n",
    "# locate the index of the largest f score\n",
    "ix1 = argmax(fscore_gbc)\n",
    "print('Best Threshold GBC=%f, F-Score GBC=%.3f' % (thresholds1[ix1], fscore_gbc[ix1]))"
   ]
  },
  {
   "cell_type": "code",
   "execution_count": 207,
   "metadata": {},
   "outputs": [],
   "source": [
    "# calculate pr-curve\n",
    "from sklearn.metrics import precision_recall_curve\n",
    "precision2, recall2, thresholds2 = precision_recall_curve(y_test, proba_xgbc[:,1])"
   ]
  },
  {
   "cell_type": "code",
   "execution_count": 121,
   "metadata": {},
   "outputs": [
    {
     "name": "stdout",
     "output_type": "stream",
     "text": [
      "Best Threshold XGBC=0.602595, F-Score XGBC=0.626\n"
     ]
    }
   ],
   "source": [
    "# convert to f score\n",
    "fscore_xgbc = (2 * precision2 * recall2) / (precision2 + recall2)\n",
    "# locate the index of the largest f score\n",
    "ix2 = argmax(fscore_xgbc)\n",
    "print('Best Threshold XGBC=%f, F-Score XGBC=%.3f' % (thresholds2[ix2], fscore_xgbc[ix2]))"
   ]
  },
  {
   "cell_type": "code",
   "execution_count": 122,
   "metadata": {},
   "outputs": [],
   "source": [
    "# calculate pr-curve\n",
    "from sklearn.metrics import precision_recall_curve\n",
    "precision3, recall3, thresholds3 = precision_recall_curve(y_test, proba[:,1])"
   ]
  },
  {
   "cell_type": "code",
   "execution_count": 123,
   "metadata": {},
   "outputs": [
    {
     "name": "stdout",
     "output_type": "stream",
     "text": [
      "Best Threshold RF=0.516356, F-Score RF=0.612\n"
     ]
    }
   ],
   "source": [
    "# convert to f score\n",
    "fscore_rf = (2 * precision3 * recall3) / (precision3 + recall3)\n",
    "# locate the index of the largest f score\n",
    "ix3 = argmax(fscore_rf)\n",
    "print('Best Threshold RF=%f, F-Score RF=%.3f' % (thresholds3[ix3], fscore_rf[ix3]))"
   ]
  },
  {
   "cell_type": "markdown",
   "metadata": {},
   "source": [
    "## Optimal Threshold Tuning\n",
    "\n"
   ]
  },
  {
   "cell_type": "code",
   "execution_count": 71,
   "metadata": {},
   "outputs": [],
   "source": [
    "# apply threshold to positive probabilities to create labels\n",
    "def to_labels(pos_probs, threshold):\n",
    "    return (pos_probs >= threshold).astype('int')"
   ]
  },
  {
   "cell_type": "code",
   "execution_count": 72,
   "metadata": {},
   "outputs": [
    {
     "name": "stdout",
     "output_type": "stream",
     "text": [
      "Threshold GBC=0.283, F-Score=0.62366\n"
     ]
    }
   ],
   "source": [
    "# keep probabilities for the positive outcome only\n",
    "from numpy import arange\n",
    "from numpy import argmax\n",
    "from sklearn.metrics import f1_score\n",
    "probs = proba_gb[:, 1]\n",
    "# define thresholds\n",
    "thresholds = arange(0, 1, 0.001)\n",
    "# evaluate each threshold\n",
    "scores = [f1_score(y_test, to_labels(probs, t)) for t in thresholds]\n",
    "# get best threshold\n",
    "ix = argmax(scores)\n",
    "print('Threshold GBC=%.3f, F-Score=%.5f' % (thresholds[ix], scores[ix]))"
   ]
  },
  {
   "cell_type": "markdown",
   "metadata": {},
   "source": [
    "Compared to default threshold= 0.5 yields F-Score =0.55"
   ]
  },
  {
   "cell_type": "code",
   "execution_count": 73,
   "metadata": {},
   "outputs": [
    {
     "name": "stdout",
     "output_type": "stream",
     "text": [
      "Threshold XGBC=0.575, F-Score=0.62594\n"
     ]
    }
   ],
   "source": [
    "probs = proba_xgbc[:, 1]\n",
    "# define thresholds\n",
    "thresholds = arange(0, 1, 0.001)\n",
    "# evaluate each threshold\n",
    "scores = [f1_score(y_test, to_labels(probs, t)) for t in thresholds]\n",
    "# get best threshold\n",
    "ix = argmax(scores)\n",
    "print('Threshold XGBC=%.3f, F-Score=%.5f' % (thresholds[ix], scores[ix]))"
   ]
  },
  {
   "cell_type": "markdown",
   "metadata": {},
   "source": [
    "Compared to default threshold= 0.5 yields F-Score =0.61"
   ]
  },
  {
   "cell_type": "code",
   "execution_count": 74,
   "metadata": {
    "scrolled": true
   },
   "outputs": [
    {
     "name": "stdout",
     "output_type": "stream",
     "text": [
      "Threshold RF=0.516, F-Score=0.61091\n"
     ]
    }
   ],
   "source": [
    "probs = proba[:, 1]\n",
    "# define thresholds\n",
    "thresholds = arange(0, 1, 0.001)\n",
    "# evaluate each threshold\n",
    "scores = [f1_score(y_test, to_labels(probs, t)) for t in thresholds]\n",
    "# get best threshold\n",
    "ix = argmax(scores)\n",
    "print('Threshold RF=%.3f, F-Score=%.5f' % (thresholds[ix], scores[ix]))"
   ]
  },
  {
   "cell_type": "markdown",
   "metadata": {},
   "source": [
    "Compared to default threshold= 0.5 yields F-Score =0.61"
   ]
  },
  {
   "cell_type": "code",
   "execution_count": 136,
   "metadata": {
    "scrolled": true
   },
   "outputs": [],
   "source": [
    "xgbc= XGBClassifier(scale_pos_weight=3, random_state=random_state)\n",
    "y_pred_xgbc=xgbc.fit(X_train_set, y_train_set).predict(X_test)\n",
    "proba_xgbc=xgbc.predict_proba(X_test)"
   ]
  },
  {
   "cell_type": "code",
   "execution_count": 137,
   "metadata": {},
   "outputs": [],
   "source": [
    "y_pred_new_threshold = (xgbc.predict_proba(X_test)[:,1]>=0.575).astype(int)"
   ]
  },
  {
   "cell_type": "code",
   "execution_count": 139,
   "metadata": {
    "scrolled": true
   },
   "outputs": [
    {
     "name": "stdout",
     "output_type": "stream",
     "text": [
      "              precision    recall  f1-score   support\n",
      "\n",
      "           0       0.91      0.90      0.91      1607\n",
      "           1       0.61      0.64      0.63       393\n",
      "\n",
      "    accuracy                           0.85      2000\n",
      "   macro avg       0.76      0.77      0.77      2000\n",
      "weighted avg       0.85      0.85      0.85      2000\n",
      "\n"
     ]
    }
   ],
   "source": [
    "xgbc_class_report=classification_report(y_test, y_pred_new_threshold, digits=2)\n",
    "print(xgbc_class_report)"
   ]
  },
  {
   "cell_type": "code",
   "execution_count": 141,
   "metadata": {
    "scrolled": true
   },
   "outputs": [
    {
     "name": "stdout",
     "output_type": "stream",
     "text": [
      "[[1449  158]\n",
      " [ 142  251]]\n"
     ]
    }
   ],
   "source": [
    "xgbc_matrix=confusion_matrix(y_test, y_pred_new_threshold)\n",
    "print(xgbc_matrix)"
   ]
  },
  {
   "cell_type": "code",
   "execution_count": null,
   "metadata": {},
   "outputs": [],
   "source": [
    "[[1371  236]\n",
    " [ 117  276]]"
   ]
  },
  {
   "cell_type": "code",
   "execution_count": 149,
   "metadata": {},
   "outputs": [],
   "source": [
    "y_pred_new_threshold_gb = (gb_clf.predict_proba(X_test)[:,1]>=0.283).astype(int)"
   ]
  },
  {
   "cell_type": "code",
   "execution_count": 217,
   "metadata": {},
   "outputs": [
    {
     "name": "stdout",
     "output_type": "stream",
     "text": [
      "              precision    recall  f1-score   support\n",
      "\n",
      "           0       0.92      0.89      0.90      1607\n",
      "           1       0.59      0.66      0.62       393\n",
      "\n",
      "    accuracy                           0.84      2000\n",
      "   macro avg       0.75      0.78      0.76      2000\n",
      "weighted avg       0.85      0.84      0.85      2000\n",
      "\n"
     ]
    }
   ],
   "source": [
    "gb_class_report=classification_report(y_test, y_pred_new_threshold_gb, digits=2)\n",
    "print(gb_class_report)"
   ]
  },
  {
   "cell_type": "code",
   "execution_count": 151,
   "metadata": {
    "scrolled": true
   },
   "outputs": [
    {
     "name": "stdout",
     "output_type": "stream",
     "text": [
      "[[1424  183]\n",
      " [ 132  261]]\n"
     ]
    }
   ],
   "source": [
    "gb_matrix=confusion_matrix(y_test, y_pred_new_threshold_gb)\n",
    "print(gb_matrix)"
   ]
  },
  {
   "cell_type": "code",
   "execution_count": 152,
   "metadata": {},
   "outputs": [],
   "source": [
    "new_proba_rf=(rf.predict_proba(X_test)[:,1]>=0.516).astype(int)"
   ]
  },
  {
   "cell_type": "code",
   "execution_count": 218,
   "metadata": {
    "scrolled": true
   },
   "outputs": [
    {
     "name": "stdout",
     "output_type": "stream",
     "text": [
      "              precision    recall  f1-score   support\n",
      "\n",
      "           0       0.91      0.89      0.90      1607\n",
      "           1       0.58      0.64      0.61       393\n",
      "\n",
      "    accuracy                           0.84      2000\n",
      "   macro avg       0.75      0.76      0.75      2000\n",
      "weighted avg       0.85      0.84      0.84      2000\n",
      "\n"
     ]
    }
   ],
   "source": [
    "rf_class_report=classification_report(y_test, new_proba_rf, digits=2)\n",
    "print(rf_class_report)"
   ]
  },
  {
   "cell_type": "code",
   "execution_count": 216,
   "metadata": {
    "scrolled": false
   },
   "outputs": [
    {
     "name": "stdout",
     "output_type": "stream",
     "text": [
      "XGBC model prediction:\n",
      "[[1449  158]\n",
      " [ 142  251]]\n",
      "GBC model prediction:\n",
      "[[1424  183]\n",
      " [ 132  261]]\n",
      "Random Forest model prediction:\n",
      "[[1427  180]\n",
      " [ 141  252]]\n"
     ]
    }
   ],
   "source": [
    "print('XGBC model prediction:')\n",
    "print(xgbc_matrix)\n",
    "\n",
    "print('GBC model prediction:')\n",
    "print(gb_matrix)\n",
    "\n",
    "print('Random Forest model prediction:')\n",
    "print(rf_matrix)"
   ]
  },
  {
   "cell_type": "code",
   "execution_count": 219,
   "metadata": {},
   "outputs": [
    {
     "name": "stdout",
     "output_type": "stream",
     "text": [
      "XGBC model classification report:\n",
      "              precision    recall  f1-score   support\n",
      "\n",
      "           0       0.91      0.90      0.91      1607\n",
      "           1       0.61      0.64      0.63       393\n",
      "\n",
      "    accuracy                           0.85      2000\n",
      "   macro avg       0.76      0.77      0.77      2000\n",
      "weighted avg       0.85      0.85      0.85      2000\n",
      "\n",
      "GBC model classification report:\n",
      "              precision    recall  f1-score   support\n",
      "\n",
      "           0       0.92      0.89      0.90      1607\n",
      "           1       0.59      0.66      0.62       393\n",
      "\n",
      "    accuracy                           0.84      2000\n",
      "   macro avg       0.75      0.78      0.76      2000\n",
      "weighted avg       0.85      0.84      0.85      2000\n",
      "\n",
      "Random Forest classification report:\n",
      "              precision    recall  f1-score   support\n",
      "\n",
      "           0       0.91      0.89      0.90      1607\n",
      "           1       0.58      0.64      0.61       393\n",
      "\n",
      "    accuracy                           0.84      2000\n",
      "   macro avg       0.75      0.76      0.75      2000\n",
      "weighted avg       0.85      0.84      0.84      2000\n",
      "\n"
     ]
    }
   ],
   "source": [
    "print('XGBC model classification report:')\n",
    "print(xgbc_class_report)\n",
    "\n",
    "print('GBC model classification report:')\n",
    "print(gb_class_report)\n",
    "\n",
    "print('Random Forest classification report:')\n",
    "print(rf_class_report)"
   ]
  }
 ],
 "metadata": {
  "kernelspec": {
   "display_name": "Python 3",
   "language": "python",
   "name": "python3"
  },
  "language_info": {
   "codemirror_mode": {
    "name": "ipython",
    "version": 3
   },
   "file_extension": ".py",
   "mimetype": "text/x-python",
   "name": "python",
   "nbconvert_exporter": "python",
   "pygments_lexer": "ipython3",
   "version": "3.7.7"
  }
 },
 "nbformat": 4,
 "nbformat_minor": 4
}
